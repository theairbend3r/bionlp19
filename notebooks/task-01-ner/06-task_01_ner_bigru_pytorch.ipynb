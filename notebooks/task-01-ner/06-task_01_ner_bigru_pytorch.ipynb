{
 "cells": [
  {
   "cell_type": "markdown",
   "metadata": {},
   "source": [
    "# [Task 1] Named Entity Recognition  |  BiGRU  |  PyTorch"
   ]
  },
  {
   "cell_type": "markdown",
   "metadata": {},
   "source": [
    "Import Libraries."
   ]
  },
  {
   "cell_type": "code",
   "execution_count": 1,
   "metadata": {},
   "outputs": [],
   "source": [
    "import re\n",
    "import os\n",
    "import json\n",
    "import numpy as np\n",
    "import pandas as pd\n",
    "import seaborn as sns\n",
    "from pprint import pprint\n",
    "import matplotlib.pyplot as plt\n",
    "from collections import Counter\n",
    "from pandas.io.json import json_normalize\n",
    "\n",
    "import torch\n",
    "import torch.nn as nn\n",
    "import torch.optim as optim\n",
    "import torch.nn.functional as F\n",
    "from torch.nn.utils.rnn import pad_sequence\n",
    "from torch.utils.data import Dataset, DataLoader\n",
    "\n",
    "from sklearn_crfsuite import metrics\n",
    "\n",
    "from sklearn.model_selection import train_test_split\n",
    "from sklearn.metrics import classification_report, confusion_matrix"
   ]
  },
  {
   "cell_type": "code",
   "execution_count": 2,
   "metadata": {},
   "outputs": [],
   "source": [
    "%matplotlib inline\n",
    "sns.set_style(\"dark\")"
   ]
  },
  {
   "cell_type": "markdown",
   "metadata": {},
   "source": [
    "## Util"
   ]
  },
  {
   "cell_type": "markdown",
   "metadata": {},
   "source": [
    "Function to read json files."
   ]
  },
  {
   "cell_type": "code",
   "execution_count": 3,
   "metadata": {},
   "outputs": [],
   "source": [
    "def read_json(path):\n",
    "    file = json.loads(open(path).read())\n",
    "    \n",
    "    return file"
   ]
  },
  {
   "cell_type": "markdown",
   "metadata": {},
   "source": [
    "Function to extract words from text based on the indices."
   ]
  },
  {
   "cell_type": "code",
   "execution_count": 4,
   "metadata": {},
   "outputs": [],
   "source": [
    "def extract_word(begin, end, txt):\n",
    "    return txt[begin:end]"
   ]
  },
  {
   "cell_type": "code",
   "execution_count": 5,
   "metadata": {},
   "outputs": [],
   "source": [
    "base_dir = \"../../data/AGAC_training-annotations/AGAC_training/json/\""
   ]
  },
  {
   "cell_type": "markdown",
   "metadata": {},
   "source": [
    "## Prepare Data"
   ]
  },
  {
   "cell_type": "markdown",
   "metadata": {},
   "source": [
    "BIO labelling of data.  "
   ]
  },
  {
   "cell_type": "code",
   "execution_count": 6,
   "metadata": {},
   "outputs": [],
   "source": [
    "word_label_dict = {}\n",
    "\n",
    "    \n",
    "for f in os.listdir(base_dir):\n",
    "    file = read_json(base_dir + f)\n",
    "    # Extract the document ID from the file name\n",
    "    doc_id = \"\".join(re.findall(r'\\d', f))\n",
    "    txt = file['text']\n",
    "\n",
    "\n",
    "    for i in range(len(file['denotations'])):\n",
    "        b = file['denotations'][i]['span']['begin']\n",
    "        e = file['denotations'][i]['span']['end']\n",
    "        word = extract_word(b, e, txt)\n",
    "        word_split = word.split(' ')\n",
    "        obj = file['denotations'][i]['obj']\n",
    "\n",
    "        # If length of word (after splitting on \" \") is more than 2\n",
    "        # Put 'B/I' labels\n",
    "        if len(word_split) == 2:\n",
    "            b_word = word_split[0]\n",
    "            i_word = word_split[-1]\n",
    "            b_obj = \"B-\" + obj\n",
    "            i_obj = \"I-\" + obj\n",
    "            word_label_dict[i_word] = i_obj\n",
    "            word_label_dict[b_word] = b_obj\n",
    "\n",
    "        # If length of word (after splitting on \" \") is equal to 1\n",
    "        # Put a 'B' label\n",
    "        else:\n",
    "            b_word = word_split[0]\n",
    "            b_obj = \"B-\" + obj\n",
    "\n",
    "            word_label_dict[b_word] = b_obj"
   ]
  },
  {
   "cell_type": "markdown",
   "metadata": {},
   "source": [
    "Clean the data and put the label 'O' where necessary."
   ]
  },
  {
   "cell_type": "code",
   "execution_count": 7,
   "metadata": {},
   "outputs": [],
   "source": [
    "final_list = []\n",
    "\n",
    "for f in os.listdir(base_dir):\n",
    "    file = read_json(base_dir + f)\n",
    "    doc_id = \"\".join(re.findall(r'\\d', f))\n",
    "    txt = file['text']\n",
    "\n",
    "    # Clean the text data\n",
    "    txt = re.sub(r'\\n', \" \", txt)\n",
    "    txt = re.sub(r'\\.', \"\", txt)\n",
    "    txt = re.sub(r',', \"\", txt)\n",
    "    txt = re.sub(r':', \"\", txt)\n",
    "\n",
    "\n",
    "    txt_split = txt.split(\" \")\n",
    "\n",
    "    # Put a label 'O' for words that do not appear\n",
    "    # in word_label_dict\n",
    "    for w in txt_split:\n",
    "        if w in word_label_dict.keys():\n",
    "            final_list.append((doc_id, w, word_label_dict[w]))\n",
    "        else:\n",
    "            final_list.append((doc_id, w, \"O\"))"
   ]
  },
  {
   "cell_type": "code",
   "execution_count": 8,
   "metadata": {},
   "outputs": [],
   "source": [
    "data_df = pd.DataFrame(final_list, columns=['doc_id', 'word', 'obj'])"
   ]
  },
  {
   "cell_type": "code",
   "execution_count": 9,
   "metadata": {},
   "outputs": [
    {
     "data": {
      "text/html": [
       "<div>\n",
       "<style scoped>\n",
       "    .dataframe tbody tr th:only-of-type {\n",
       "        vertical-align: middle;\n",
       "    }\n",
       "\n",
       "    .dataframe tbody tr th {\n",
       "        vertical-align: top;\n",
       "    }\n",
       "\n",
       "    .dataframe thead th {\n",
       "        text-align: right;\n",
       "    }\n",
       "</style>\n",
       "<table border=\"1\" class=\"dataframe\">\n",
       "  <thead>\n",
       "    <tr style=\"text-align: right;\">\n",
       "      <th></th>\n",
       "      <th>doc_id</th>\n",
       "      <th>word</th>\n",
       "      <th>obj</th>\n",
       "    </tr>\n",
       "  </thead>\n",
       "  <tbody>\n",
       "    <tr>\n",
       "      <th>0</th>\n",
       "      <td>30442766</td>\n",
       "      <td>LZTR1</td>\n",
       "      <td>B-Gene</td>\n",
       "    </tr>\n",
       "    <tr>\n",
       "      <th>1</th>\n",
       "      <td>30442766</td>\n",
       "      <td>is</td>\n",
       "      <td>O</td>\n",
       "    </tr>\n",
       "    <tr>\n",
       "      <th>2</th>\n",
       "      <td>30442766</td>\n",
       "      <td>a</td>\n",
       "      <td>O</td>\n",
       "    </tr>\n",
       "    <tr>\n",
       "      <th>3</th>\n",
       "      <td>30442766</td>\n",
       "      <td>regulator</td>\n",
       "      <td>O</td>\n",
       "    </tr>\n",
       "    <tr>\n",
       "      <th>4</th>\n",
       "      <td>30442766</td>\n",
       "      <td>of</td>\n",
       "      <td>O</td>\n",
       "    </tr>\n",
       "  </tbody>\n",
       "</table>\n",
       "</div>"
      ],
      "text/plain": [
       "     doc_id       word     obj\n",
       "0  30442766      LZTR1  B-Gene\n",
       "1  30442766         is       O\n",
       "2  30442766          a       O\n",
       "3  30442766  regulator       O\n",
       "4  30442766         of       O"
      ]
     },
     "execution_count": 9,
     "metadata": {},
     "output_type": "execute_result"
    }
   ],
   "source": [
    "data_df.head()"
   ]
  },
  {
   "cell_type": "markdown",
   "metadata": {},
   "source": [
    "## EDA"
   ]
  },
  {
   "cell_type": "markdown",
   "metadata": {},
   "source": [
    "### Count of words/obj per document."
   ]
  },
  {
   "cell_type": "code",
   "execution_count": 10,
   "metadata": {},
   "outputs": [
    {
     "data": {
      "text/html": [
       "<div>\n",
       "<style scoped>\n",
       "    .dataframe tbody tr th:only-of-type {\n",
       "        vertical-align: middle;\n",
       "    }\n",
       "\n",
       "    .dataframe tbody tr th {\n",
       "        vertical-align: top;\n",
       "    }\n",
       "\n",
       "    .dataframe thead th {\n",
       "        text-align: right;\n",
       "    }\n",
       "</style>\n",
       "<table border=\"1\" class=\"dataframe\">\n",
       "  <thead>\n",
       "    <tr style=\"text-align: right;\">\n",
       "      <th></th>\n",
       "      <th>word</th>\n",
       "      <th>obj</th>\n",
       "    </tr>\n",
       "    <tr>\n",
       "      <th>doc_id</th>\n",
       "      <th></th>\n",
       "      <th></th>\n",
       "    </tr>\n",
       "  </thead>\n",
       "  <tbody>\n",
       "    <tr>\n",
       "      <th>16371368</th>\n",
       "      <td>307</td>\n",
       "      <td>307</td>\n",
       "    </tr>\n",
       "    <tr>\n",
       "      <th>17435236</th>\n",
       "      <td>229</td>\n",
       "      <td>229</td>\n",
       "    </tr>\n",
       "    <tr>\n",
       "      <th>18031991</th>\n",
       "      <td>235</td>\n",
       "      <td>235</td>\n",
       "    </tr>\n",
       "    <tr>\n",
       "      <th>18594199</th>\n",
       "      <td>189</td>\n",
       "      <td>189</td>\n",
       "    </tr>\n",
       "    <tr>\n",
       "      <th>19338054</th>\n",
       "      <td>265</td>\n",
       "      <td>265</td>\n",
       "    </tr>\n",
       "  </tbody>\n",
       "</table>\n",
       "</div>"
      ],
      "text/plain": [
       "          word  obj\n",
       "doc_id             \n",
       "16371368   307  307\n",
       "17435236   229  229\n",
       "18031991   235  235\n",
       "18594199   189  189\n",
       "19338054   265  265"
      ]
     },
     "execution_count": 10,
     "metadata": {},
     "output_type": "execute_result"
    }
   ],
   "source": [
    "data_df.groupby('doc_id').count().head()"
   ]
  },
  {
   "cell_type": "markdown",
   "metadata": {},
   "source": [
    "### Stats about the data."
   ]
  },
  {
   "cell_type": "code",
   "execution_count": 11,
   "metadata": {},
   "outputs": [
    {
     "data": {
      "text/html": [
       "<div>\n",
       "<style scoped>\n",
       "    .dataframe tbody tr th:only-of-type {\n",
       "        vertical-align: middle;\n",
       "    }\n",
       "\n",
       "    .dataframe tbody tr th {\n",
       "        vertical-align: top;\n",
       "    }\n",
       "\n",
       "    .dataframe thead th {\n",
       "        text-align: right;\n",
       "    }\n",
       "</style>\n",
       "<table border=\"1\" class=\"dataframe\">\n",
       "  <thead>\n",
       "    <tr style=\"text-align: right;\">\n",
       "      <th></th>\n",
       "      <th>doc_id</th>\n",
       "      <th>word</th>\n",
       "      <th>obj</th>\n",
       "    </tr>\n",
       "  </thead>\n",
       "  <tbody>\n",
       "    <tr>\n",
       "      <th>count</th>\n",
       "      <td>55808</td>\n",
       "      <td>55808</td>\n",
       "      <td>55808</td>\n",
       "    </tr>\n",
       "    <tr>\n",
       "      <th>unique</th>\n",
       "      <td>250</td>\n",
       "      <td>9744</td>\n",
       "      <td>25</td>\n",
       "    </tr>\n",
       "    <tr>\n",
       "      <th>top</th>\n",
       "      <td>28283687</td>\n",
       "      <td>of</td>\n",
       "      <td>O</td>\n",
       "    </tr>\n",
       "    <tr>\n",
       "      <th>freq</th>\n",
       "      <td>513</td>\n",
       "      <td>2206</td>\n",
       "      <td>35790</td>\n",
       "    </tr>\n",
       "  </tbody>\n",
       "</table>\n",
       "</div>"
      ],
      "text/plain": [
       "          doc_id   word    obj\n",
       "count      55808  55808  55808\n",
       "unique       250   9744     25\n",
       "top     28283687     of      O\n",
       "freq         513   2206  35790"
      ]
     },
     "execution_count": 11,
     "metadata": {},
     "output_type": "execute_result"
    }
   ],
   "source": [
    "data_df.describe()"
   ]
  },
  {
   "cell_type": "markdown",
   "metadata": {},
   "source": [
    "### Frequncy of different output labels."
   ]
  },
  {
   "cell_type": "markdown",
   "metadata": {},
   "source": [
    "Frequency with label 'O'."
   ]
  },
  {
   "cell_type": "code",
   "execution_count": 12,
   "metadata": {},
   "outputs": [
    {
     "data": {
      "text/plain": [
       "<matplotlib.axes._subplots.AxesSubplot at 0x7f3958a1d8d0>"
      ]
     },
     "execution_count": 12,
     "metadata": {},
     "output_type": "execute_result"
    },
    {
     "data": {
      "image/png": "[encoded data removed]",
      "text/plain": [
       "<Figure size 432x288 with 1 Axes>"
      ]
     },
     "metadata": {},
     "output_type": "display_data"
    }
   ],
   "source": [
    "sns.countplot(y = \"obj\", data=data_df)"
   ]
  },
  {
   "cell_type": "markdown",
   "metadata": {},
   "source": [
    "Frequency without label 'O'."
   ]
  },
  {
   "cell_type": "code",
   "execution_count": 13,
   "metadata": {},
   "outputs": [
    {
     "data": {
      "text/plain": [
       "<matplotlib.axes._subplots.AxesSubplot at 0x7f3958912e80>"
      ]
     },
     "execution_count": 13,
     "metadata": {},
     "output_type": "execute_result"
    },
    {
     "data": {
      "image/png": "[encoded data removed]",
      "text/plain": [
       "<Figure size 432x288 with 1 Axes>"
      ]
     },
     "metadata": {},
     "output_type": "display_data"
    }
   ],
   "source": [
    "sns.countplot(y = \"obj\", data=data_df[data_df['obj'] != 'O'])"
   ]
  },
  {
   "cell_type": "markdown",
   "metadata": {},
   "source": [
    "## Deep Learning - BiGRU | PyTorch"
   ]
  },
  {
   "cell_type": "markdown",
   "metadata": {},
   "source": [
    "### Create a list of words and output tags"
   ]
  },
  {
   "cell_type": "code",
   "execution_count": 14,
   "metadata": {},
   "outputs": [
    {
     "name": "stdout",
     "output_type": "stream",
     "text": [
      "Number of words = 9745\n"
     ]
    }
   ],
   "source": [
    "words = list(set(data_df[\"word\"].values))\n",
    "words.insert(0, \"PAD\")\n",
    "n_words = len(words)\n",
    "print(f\"Number of words = {n_words}\")"
   ]
  },
  {
   "cell_type": "code",
   "execution_count": 15,
   "metadata": {},
   "outputs": [
    {
     "name": "stdout",
     "output_type": "stream",
     "text": [
      "Number of tags = 26\n"
     ]
    }
   ],
   "source": [
    "tags = list(set(data_df[\"obj\"].values))\n",
    "tags.insert(0, \"PAD-TAG\")\n",
    "n_tags = len(tags)\n",
    "print(f\"Number of tags = {n_tags}\")"
   ]
  },
  {
   "cell_type": "markdown",
   "metadata": {},
   "source": [
    "### Data Loader"
   ]
  },
  {
   "cell_type": "code",
   "execution_count": 16,
   "metadata": {},
   "outputs": [],
   "source": [
    "class LoadData(Dataset):\n",
    "    \n",
    "    def __init__(self, data):\n",
    "        self.data = data\n",
    "        \n",
    "        agg_func = lambda x: [(w, t) for w, t in zip(x['word'].values.tolist(), x['obj'].values.tolist())]\n",
    "        \n",
    "        self.grouped_data = self.data.groupby('doc_id').apply(agg_func)\n",
    "        self.sentences = [x for x in self.grouped_data]\n",
    "        \n",
    "    def __getitem__(self, index):\n",
    "        return self.sentences[index]\n",
    "        \n",
    "    def __len__ (self):\n",
    "        return len(self.X_data)\n",
    "\n",
    "    \n",
    "\n",
    "\n",
    "class TrainData(Dataset):\n",
    "    \n",
    "    def __init__(self, X_data, y_data, maxlen):\n",
    "        self.X_data = X_data\n",
    "        self.y_data = y_data\n",
    "        self.maxlen = maxlen\n",
    "        \n",
    "        \n",
    "    def __getitem__(self, index):\n",
    "        self.X_data[index] = self.pad_data(self.X_data[index])\n",
    "        self.y_data[index] = self.pad_data(self.y_data[index])\n",
    "\n",
    "        return self.X_data[index], self.y_data[index]\n",
    "        \n",
    "    def __len__ (self):\n",
    "        return len(self.X_data)\n",
    "    \n",
    "    def pad_data(self, s):\n",
    "        padded = np.zeros((self.maxlen,), dtype=np.int64)\n",
    "        \n",
    "        if len(s) > self.maxlen:\n",
    "            padded[:] = s[:self.maxlen]\n",
    "        else: \n",
    "            padded[:len(s)] = s\n",
    "        return padded\n",
    "\n",
    "    \n",
    "class TestData(Dataset):\n",
    "    \n",
    "    def __init__(self, X_data, y_data, maxlen):\n",
    "        self.X_data = X_data\n",
    "        self.y_data = y_data\n",
    "        self.maxlen = maxlen\n",
    "        \n",
    "    def __getitem__(self, index):\n",
    "        self.X_data[index] = self.pad_data(self.X_data[index])\n",
    "        self.y_data[index] = self.pad_data(self.y_data[index])\n",
    "        return self.X_data[index], self.y_data[index]\n",
    "        \n",
    "    def __len__ (self):\n",
    "        return len(self.X_data)\n",
    "    \n",
    "    def pad_data(self, s):\n",
    "        padded = np.zeros((self.maxlen,), dtype=np.int64)\n",
    "\n",
    "        if len(s) > self.maxlen:\n",
    "            padded[:] = s[:self.maxlen]\n",
    "        else: \n",
    "            padded[:len(s)] = s\n",
    "        return padded\n"
   ]
  },
  {
   "cell_type": "code",
   "execution_count": 17,
   "metadata": {},
   "outputs": [],
   "source": [
    "loaded_data = LoadData(data_df)"
   ]
  },
  {
   "cell_type": "markdown",
   "metadata": {},
   "source": [
    "### Extract Sentences"
   ]
  },
  {
   "cell_type": "code",
   "execution_count": 18,
   "metadata": {},
   "outputs": [],
   "source": [
    "sentence_tag_list = loaded_data.sentences"
   ]
  },
  {
   "cell_type": "markdown",
   "metadata": {},
   "source": [
    "### Number of words per sentence."
   ]
  },
  {
   "cell_type": "code",
   "execution_count": 19,
   "metadata": {},
   "outputs": [
    {
     "data": {
      "image/png": "[encoded data removed]",
      "text/plain": [
       "<Figure size 432x288 with 1 Axes>"
      ]
     },
     "metadata": {},
     "output_type": "display_data"
    }
   ],
   "source": [
    "plt.hist([len(s) for s in sentence_tag_list], bins=20)\n",
    "plt.show()"
   ]
  },
  {
   "cell_type": "markdown",
   "metadata": {},
   "source": [
    "Majority of the sentences have 250 words per sentence. So, we'll set the limit for max words as 250. Each sentence will be padded or stripped down to maintain 250 words."
   ]
  },
  {
   "cell_type": "markdown",
   "metadata": {},
   "source": [
    "### Create word/tag to id dictionary."
   ]
  },
  {
   "cell_type": "code",
   "execution_count": 20,
   "metadata": {},
   "outputs": [],
   "source": [
    "word2idx = {w: i for i, w in enumerate(words)}\n",
    "tag2idx = {t: i for i, t in enumerate(tags)}"
   ]
  },
  {
   "cell_type": "code",
   "execution_count": 21,
   "metadata": {},
   "outputs": [
    {
     "name": "stdout",
     "output_type": "stream",
     "text": [
      "ID for the word 'variations' in the dictionary is: 240\n",
      "ID for the tag 'O' in the dictionary is: 9\n"
     ]
    }
   ],
   "source": [
    "print(f\"ID for the word 'variations' in the dictionary is: {word2idx['variations']}\")\n",
    "print(f\"ID for the tag 'O' in the dictionary is: {tag2idx['O']}\")"
   ]
  },
  {
   "cell_type": "markdown",
   "metadata": {},
   "source": [
    "### Encode sentences."
   ]
  },
  {
   "cell_type": "code",
   "execution_count": 22,
   "metadata": {},
   "outputs": [],
   "source": [
    "X = [[word2idx[w[0]] for w in s] for s in sentence_tag_list]"
   ]
  },
  {
   "cell_type": "markdown",
   "metadata": {},
   "source": [
    "### Encode tags."
   ]
  },
  {
   "cell_type": "code",
   "execution_count": 23,
   "metadata": {},
   "outputs": [],
   "source": [
    "y = [[tag2idx[w[1]] for w in s] for s in sentence_tag_list]"
   ]
  },
  {
   "cell_type": "markdown",
   "metadata": {},
   "source": [
    "### Split data into train and test sets."
   ]
  },
  {
   "cell_type": "code",
   "execution_count": 24,
   "metadata": {},
   "outputs": [],
   "source": [
    "X_train, X_test, y_train, y_test = train_test_split(X, y, test_size=0.1)"
   ]
  },
  {
   "cell_type": "markdown",
   "metadata": {},
   "source": [
    "### Define NN architecture."
   ]
  },
  {
   "cell_type": "code",
   "execution_count": 25,
   "metadata": {},
   "outputs": [],
   "source": [
    "EMBEDDING_SIZE = 128\n",
    "HIDDEN_SIZE = 128\n",
    "LEARNING_RATE = 0.01\n",
    "EPOCHS = 100\n",
    "STACKED_LAYERS = 2\n",
    "SENTENCE_LEN = 256\n",
    "BATCH_SIZE = 32"
   ]
  },
  {
   "cell_type": "code",
   "execution_count": 26,
   "metadata": {},
   "outputs": [],
   "source": [
    "train_data = TrainData(X_train, y_train, maxlen = SENTENCE_LEN)\n",
    "train_loader = DataLoader(train_data, batch_size=BATCH_SIZE)\n",
    "\n",
    "test_data = TestData(X_test, y_test, maxlen = SENTENCE_LEN)\n",
    "test_loader = DataLoader(test_data, batch_size=1)"
   ]
  },
  {
   "cell_type": "code",
   "execution_count": 27,
   "metadata": {},
   "outputs": [],
   "source": [
    "class BiGRUtagger(nn.Module):\n",
    "    \n",
    "    def __init__(self, embedding_size, vocab_size, hidden_size, target_size):\n",
    "        super(BiGRUtagger, self).__init__()\n",
    "        \n",
    "        self.word_embeddings = nn.Embedding(num_embeddings = vocab_size+1, embedding_dim = embedding_size)\n",
    "        self.gru = nn.GRU(input_size = embedding_size, hidden_size=hidden_size, batch_first = True, num_layers = STACKED_LAYERS, bidirectional = True)\n",
    "        self.linear = nn.Linear(in_features = hidden_size * 2, out_features=target_size)\n",
    "\n",
    "    def forward(self, sentence):\n",
    "        embeds = self.word_embeddings(sentence)\n",
    "        gru_out, _ = self.gru(embeds)\n",
    "        linear_out = self.linear(gru_out)\n",
    "        y_out = F.log_softmax(linear_out, dim=1)\n",
    "        return y_out"
   ]
  },
  {
   "cell_type": "code",
   "execution_count": 28,
   "metadata": {},
   "outputs": [
    {
     "name": "stdout",
     "output_type": "stream",
     "text": [
      "tensor([[2152, 8217, 6690,  ...,    0,    0,    0],\n",
      "        [ 679, 2117, 7894,  ...,    0,    0,    0],\n",
      "        [5903, 8541, 3300,  ..., 8248, 8217, 2042],\n",
      "        ...,\n",
      "        [7785, 2110, 5706,  ...,  955, 6892, 8927],\n",
      "        [2798, 6929, 8217,  ...,    0,    0,    0],\n",
      "        [9219, 2539, 1110,  ...,    0,    0,    0]])\n",
      "tensor([[ 7,  9,  9,  ...,  0,  0,  0],\n",
      "        [11, 23,  9,  ...,  0,  0,  0],\n",
      "        [ 9,  9,  9,  ...,  8,  9,  9],\n",
      "        ...,\n",
      "        [ 9,  9,  9,  ...,  9, 11,  9],\n",
      "        [ 9, 15,  9,  ...,  0,  0,  0],\n",
      "        [ 9,  8, 11,  ...,  0,  0,  0]])\n"
     ]
    }
   ],
   "source": [
    "tl = iter(train_loader)\n",
    "i, j = next(tl)\n",
    "print(i)\n",
    "print(j)"
   ]
  },
  {
   "cell_type": "code",
   "execution_count": 29,
   "metadata": {},
   "outputs": [
    {
     "name": "stdout",
     "output_type": "stream",
     "text": [
      "BiGRUtagger(\n",
      "  (word_embeddings): Embedding(9746, 128)\n",
      "  (gru): GRU(128, 128, num_layers=2, batch_first=True, bidirectional=True)\n",
      "  (linear): Linear(in_features=256, out_features=26, bias=True)\n",
      ")\n"
     ]
    }
   ],
   "source": [
    "model = BiGRUtagger(embedding_size=EMBEDDING_SIZE, vocab_size=len(word2idx), hidden_size=HIDDEN_SIZE, target_size=len(tag2idx))\n",
    "print(model)\n",
    "criterion = nn.NLLLoss()\n",
    "optimizer = optim.Adam(model.parameters(), lr = LEARNING_RATE)"
   ]
  },
  {
   "cell_type": "markdown",
   "metadata": {},
   "source": [
    "### Check out the output from the model"
   ]
  },
  {
   "cell_type": "code",
   "execution_count": 30,
   "metadata": {},
   "outputs": [
    {
     "name": "stdout",
     "output_type": "stream",
     "text": [
      "Input:\n",
      "tensor([[2152, 8217, 6690,  ...,    0,    0,    0],\n",
      "        [ 679, 2117, 7894,  ...,    0,    0,    0],\n",
      "        [5903, 8541, 3300,  ..., 8248, 8217, 2042],\n",
      "        ...,\n",
      "        [7785, 2110, 5706,  ...,  955, 6892, 8927],\n",
      "        [2798, 6929, 8217,  ...,    0,    0,    0],\n",
      "        [9219, 2539, 1110,  ...,    0,    0,    0]])\n",
      "\n",
      "Output:\n",
      "tensor([[[-5.5278, -5.6287, -5.6086,  ..., -5.6706, -5.5777, -5.5658],\n",
      "         [-5.5611, -5.5502, -5.5307,  ..., -5.6883, -5.4795, -5.5779],\n",
      "         [-5.6265, -5.6086, -5.5859,  ..., -5.6163, -5.4919, -5.6467],\n",
      "         ...,\n",
      "         [-5.4871, -5.4858, -5.6938,  ..., -5.5611, -5.4797, -5.2821],\n",
      "         [-5.4771, -5.4995, -5.6705,  ..., -5.5485, -5.5021, -5.3246],\n",
      "         [-5.4488, -5.5222, -5.6196,  ..., -5.5211, -5.5388, -5.3894]],\n",
      "\n",
      "        [[-5.6512, -5.7161, -5.5031,  ..., -5.5351, -5.5010, -5.6287],\n",
      "         [-5.6447, -5.7320, -5.5943,  ..., -5.4633, -5.6026, -5.6671],\n",
      "         [-5.6942, -5.7040, -5.4520,  ..., -5.3970, -5.5438, -5.6244],\n",
      "         ...,\n",
      "         [-5.5084, -5.5206, -5.6427,  ..., -5.5732, -5.5253, -5.3993],\n",
      "         [-5.4984, -5.5343, -5.6194,  ..., -5.5607, -5.5477, -5.4417],\n",
      "         [-5.4701, -5.5569, -5.5685,  ..., -5.5333, -5.5844, -5.5065]],\n",
      "\n",
      "        [[-5.5968, -5.5790, -5.4420,  ..., -5.4152, -5.6039, -5.6245],\n",
      "         [-5.6418, -5.6318, -5.4981,  ..., -5.4491, -5.6490, -5.5674],\n",
      "         [-5.5871, -5.6702, -5.5691,  ..., -5.4961, -5.6481, -5.5024],\n",
      "         ...,\n",
      "         [-5.3987, -5.6850, -5.5945,  ..., -5.6913, -5.4570, -5.6255],\n",
      "         [-5.3939, -5.6034, -5.5541,  ..., -5.7010, -5.4386, -5.5770],\n",
      "         [-5.4376, -5.5408, -5.5807,  ..., -5.6569, -5.4838, -5.5808]],\n",
      "\n",
      "        ...,\n",
      "\n",
      "        [[-5.4136, -5.5621, -5.5800,  ..., -5.4879, -5.6121, -5.4901],\n",
      "         [-5.4348, -5.4904, -5.5924,  ..., -5.5401, -5.5020, -5.5834],\n",
      "         [-5.5464, -5.4480, -5.6478,  ..., -5.5385, -5.5100, -5.6912],\n",
      "         ...,\n",
      "         [-5.4509, -5.6106, -5.6602,  ..., -5.6644, -5.6243, -5.4069],\n",
      "         [-5.5319, -5.4624, -5.5728,  ..., -5.7209, -5.6215, -5.4980],\n",
      "         [-5.5874, -5.4802, -5.5806,  ..., -5.5531, -5.5738, -5.5339]],\n",
      "\n",
      "        [[-5.6341, -5.5710, -5.4308,  ..., -5.4430, -5.4738, -5.4951],\n",
      "         [-5.5549, -5.5497, -5.3863,  ..., -5.5501, -5.4310, -5.4560],\n",
      "         [-5.5773, -5.4484, -5.4741,  ..., -5.6844, -5.4680, -5.3888],\n",
      "         ...,\n",
      "         [-5.5049, -5.4641, -5.6189,  ..., -5.6531, -5.4953, -5.2870],\n",
      "         [-5.4912, -5.4909, -5.6256,  ..., -5.6274, -5.5327, -5.3075],\n",
      "         [-5.4542, -5.5181, -5.5953,  ..., -5.5837, -5.5744, -5.3556]],\n",
      "\n",
      "        [[-5.5652, -5.4975, -5.5622,  ..., -5.6362, -5.7051, -5.7384],\n",
      "         [-5.6382, -5.5042, -5.6052,  ..., -5.6494, -5.7543, -5.7504],\n",
      "         [-5.6151, -5.5486, -5.5079,  ..., -5.5773, -5.7092, -5.8358],\n",
      "         ...,\n",
      "         [-5.5268, -5.5389, -5.6196,  ..., -5.5530, -5.5479, -5.4820],\n",
      "         [-5.5169, -5.5526, -5.5962,  ..., -5.5405, -5.5703, -5.5244],\n",
      "         [-5.4885, -5.5752, -5.5454,  ..., -5.5130, -5.6070, -5.5893]]]) torch.Size([32, 256, 26])\n",
      "\n",
      "Output Indices:\n",
      "tensor([[203,  93, 105, 106, 197,  19,  81, 103, 111,   4,   7, 195, 159,  14,\n",
      "         151, 248, 254,  92, 191,  26, 119,  81, 152, 117, 117, 240],\n",
      "        [ 97,   8,  34, 156, 137, 157, 131,  94,  63,  89,  49,  20, 114,   7,\n",
      "         130, 195, 254, 109,  62, 114,  47, 130,  28, 138, 142, 235],\n",
      "        [104, 134,  62,  49, 241,  48, 216, 255, 153,  25,  90,  19, 171, 205,\n",
      "         219, 184, 229, 235, 226,  10, 239, 111,  27,  12,  63, 217],\n",
      "        [101, 183,  70, 121,  34, 251,   3,  68,  80,  83,  69, 243,  56,  41,\n",
      "          29,  68,   2, 235,  65, 216,  32,  71,  37, 238, 151,   8],\n",
      "        [164,  40,  51,  73,  94,   9,  91, 188, 156,  82, 103,  26, 115,  88,\n",
      "         161, 248, 254,  31,  53,  33, 128,  61, 113, 111, 180, 239],\n",
      "        [ 61,  90, 184, 121,  67,  90,  85,  70, 206, 201,  22, 193,  82, 123,\n",
      "          71, 232, 164,  42, 179, 232, 154,  78, 174, 189,  67, 238],\n",
      "        [141,  92,  72, 155,  70,  83, 235, 145, 231, 200, 220, 178,  37,  74,\n",
      "         225, 115, 207, 101, 187,  96, 212,  14, 159,  61,  23,  80],\n",
      "        [  3,  76, 112,  13,  53,  35, 116,  78, 111,  88,  83,  68,  67, 102,\n",
      "          16, 150,  46,  55,  23, 123,  80,  96,  76,  84,  19, 235],\n",
      "        [ 25,  80, 202, 154,   6,  82, 242,  17, 192, 220,  68, 107, 254, 111,\n",
      "         163,  18, 230, 141, 252,  65, 106,  22, 136, 138,  14,  40],\n",
      "        [115,  69,  55, 151,  56, 165, 150, 136,  72,  68,  29,  50, 172,  86,\n",
      "         111, 216, 254,  22,  13, 108,   4,  25, 170,  60,  69, 235],\n",
      "        [ 56, 160, 163, 153,  66, 163,  65,  93,  51,   7,  90,  52, 152,  91,\n",
      "           6, 198, 140, 132, 102,  76,  58,  68,  45,  24, 160, 235],\n",
      "        [ 93,  55, 195, 206, 154,  96, 127, 105, 161, 168, 195,  51,   8,  30,\n",
      "         253, 189,  63,  32,  14,  86, 120,  71, 228,  46,   8, 108],\n",
      "        [ 67, 158,   9, 175,  70, 163, 173, 204,  43, 139,  37, 204,   2,  26,\n",
      "         160,  71, 170, 101, 237,  13, 103, 138, 211, 108, 244,  23],\n",
      "        [225, 131, 137, 242, 197, 176,  46,  32, 131, 225,  26,  43, 191, 132,\n",
      "         236, 253, 255, 227,  79,  43, 105, 195,  11, 236,  47,  46],\n",
      "        [ 58,  58, 115, 143, 132,  74, 159, 189, 180, 197,  66,  84, 156,  85,\n",
      "          72, 225, 254,  92,  82,  50,  28, 138, 154,  54, 115, 236],\n",
      "        [ 71, 100,  65, 164, 178,  52, 197, 208,  10,  13,  93,  54, 100, 197,\n",
      "          51, 233, 254, 196,  90,   9,  19,  17,  99,  76, 196, 235],\n",
      "        [ 59,  86, 106, 104, 169, 105,  21,  92, 129,  98,  43,  50, 184,  25,\n",
      "          10, 248, 254, 121,  53, 179, 173,  19, 126,  81, 210, 236],\n",
      "        [ 67, 129, 120, 145, 129, 120,  53, 106,  30, 232,  41,  85,  21, 212,\n",
      "         106, 178, 233, 251,  21, 107, 179,  50,  18, 119, 214,  53],\n",
      "        [105, 152,  12, 237,  53, 178,  36,  77,   3,   9, 172,  57,  83, 138,\n",
      "          87,  47, 188,  57,  93,  64, 107, 200,  80, 240, 214, 152],\n",
      "        [239, 185, 218, 226, 154,  93, 102,  20, 195, 218, 112, 166, 194, 128,\n",
      "         102, 251, 254, 163,  35,  97, 143, 221,  89, 156, 103, 250],\n",
      "        [119, 222, 111, 180, 167,  80,  84, 148,  52, 193, 190,  46,  42, 176,\n",
      "          48, 248,  46, 124, 209,  14, 169, 129, 207, 208, 108, 242],\n",
      "        [163, 182, 179,  24,  30,  56,  48,  90,  22, 114,   7, 119,  43,  17,\n",
      "          76, 248, 254,  46, 208, 186, 135,   6,  90,  90, 178, 237],\n",
      "        [159,  30,  19,  37,  13,  39,  99,  11,  65,  80, 128, 119, 105,   5,\n",
      "          16, 254, 168,  25, 140, 204,  85, 122, 235,  17, 137,  38],\n",
      "        [139,  20,  65, 153,  29,  21, 227,  51,  43,  37, 196, 114, 149, 104,\n",
      "          77, 247, 254,   4, 219, 110, 179, 170,  69, 210, 204, 239],\n",
      "        [126,  34, 147,  79,  34, 238, 208,  31,  38,  86,  95, 172, 162, 152,\n",
      "          39, 252, 254, 210,  28, 194, 120,  33,  59,  79,  55, 249],\n",
      "        [ 42, 247,  85,  87,  14, 152, 213,  85,  87,   5, 172,  57, 195, 163,\n",
      "         165, 114, 149,  10, 247,   3, 170, 221,  63,  18,   2,  85],\n",
      "        [ 43,   3, 105,   4,  17, 141, 108, 101,  36, 153,  29,  31, 147,  66,\n",
      "         116, 183, 254,  21,  29,  21, 118, 136,  10, 121, 142, 235],\n",
      "        [178,  73, 123,   6, 124, 159, 125,  58, 100, 147,  39, 142, 129, 121,\n",
      "          59, 211, 140,  65, 146, 167,  15, 108, 120,   5,  23, 235],\n",
      "        [ 19, 181, 105, 202,   8, 121,   6, 150,  15, 129, 189, 148,  21, 186,\n",
      "          18, 232,  39, 174, 168,  39, 188,  83, 185, 204,  85, 236],\n",
      "        [126, 223, 142,  43,  67,  90,  71,  78, 111, 134, 227, 110,  64,  86,\n",
      "         143, 155,  37, 189, 191,  27, 214, 107,  71, 120, 168, 227],\n",
      "        [150, 247, 120,  56, 122, 250,  33, 142,  20, 118, 213,  39,  31, 123,\n",
      "          33, 254, 200,  87, 188,  18,  30,  15,  62, 220, 145, 251],\n",
      "        [ 19, 111, 106,  40,  96,  16, 109,  86,  13,  20,  15,   5,  81,  27,\n",
      "          62, 135, 254,  34, 101,  80, 102,  90,  16,  80, 113, 235]])\n",
      "\n",
      "Actual Output:\n",
      "tensor([[ 7,  9,  9,  ...,  0,  0,  0],\n",
      "        [11, 23,  9,  ...,  0,  0,  0],\n",
      "        [ 9,  9,  9,  ...,  8,  9,  9],\n",
      "        ...,\n",
      "        [ 9,  9,  9,  ...,  9, 11,  9],\n",
      "        [ 9, 15,  9,  ...,  0,  0,  0],\n",
      "        [ 9,  8, 11,  ...,  0,  0,  0]]) torch.Size([32, 256])\n",
      "==================================================\n"
     ]
    }
   ],
   "source": [
    "with torch.no_grad():\n",
    "    for x_batch, y_batch in train_loader:\n",
    "               \n",
    "        print(\"Input:\")\n",
    "        print(x_batch)\n",
    "        y_out = model(x_batch)\n",
    "        _, y_out_tags = torch.max(y_out.squeeze(), dim = 1)\n",
    "        \n",
    "        print(\"\\nOutput:\")\n",
    "        print(y_out, y_out.shape)\n",
    "        \n",
    "        print(\"\\nOutput Indices:\")\n",
    "        print(y_out_tags)\n",
    "\n",
    "        print(\"\\nActual Output:\")\n",
    "        print(y_batch, y_batch.shape)\n",
    "        \n",
    "        print(\"=\" * 50)\n",
    "        \n",
    "        break"
   ]
  },
  {
   "cell_type": "markdown",
   "metadata": {},
   "source": [
    "### Train the model."
   ]
  },
  {
   "cell_type": "code",
   "execution_count": 31,
   "metadata": {},
   "outputs": [
    {
     "data": {
      "text/plain": [
       "8"
      ]
     },
     "execution_count": 31,
     "metadata": {},
     "output_type": "execute_result"
    }
   ],
   "source": [
    "PRINT_EVERY = int(len(X_train)/BATCH_SIZE) + 1\n",
    "PRINT_EVERY"
   ]
  },
  {
   "cell_type": "code",
   "execution_count": 32,
   "metadata": {},
   "outputs": [
    {
     "name": "stdout",
     "output_type": "stream",
     "text": [
      "Training Started.\n",
      "Epoch 1/100 : loss = 0.6915750503540039\n",
      "Epoch 2/100 : loss = 0.5852529406547546\n",
      "Epoch 3/100 : loss = 0.5526776909828186\n",
      "Epoch 4/100 : loss = 0.5290166735649109\n",
      "Epoch 5/100 : loss = 0.5167582631111145\n",
      "Epoch 6/100 : loss = 0.5064786672592163\n",
      "Epoch 7/100 : loss = 0.5013303756713867\n",
      "Epoch 8/100 : loss = 0.49784132838249207\n",
      "Epoch 9/100 : loss = 0.49598732590675354\n",
      "Epoch 10/100 : loss = 0.4948514699935913\n",
      "Epoch 11/100 : loss = 0.4942764937877655\n",
      "Epoch 12/100 : loss = 0.4940122067928314\n",
      "Epoch 13/100 : loss = 0.4938204884529114\n",
      "Epoch 14/100 : loss = 0.49372807145118713\n",
      "Epoch 15/100 : loss = 0.4935787618160248\n",
      "Epoch 16/100 : loss = 0.4935224950313568\n",
      "Epoch 17/100 : loss = 0.49352529644966125\n",
      "Epoch 18/100 : loss = 0.49347954988479614\n",
      "Epoch 19/100 : loss = 0.49340513348579407\n",
      "Epoch 20/100 : loss = 0.4933854341506958\n",
      "Epoch 21/100 : loss = 0.4933502674102783\n",
      "Epoch 22/100 : loss = 0.4933740496635437\n",
      "Epoch 23/100 : loss = 0.49340420961380005\n",
      "Epoch 24/100 : loss = 0.493394672870636\n",
      "Epoch 25/100 : loss = 0.49337056279182434\n",
      "Epoch 26/100 : loss = 0.49337905645370483\n",
      "Epoch 27/100 : loss = 0.49341437220573425\n",
      "Epoch 28/100 : loss = 0.4933921992778778\n",
      "Epoch 29/100 : loss = 0.49338987469673157\n",
      "Epoch 30/100 : loss = 0.49335458874702454\n",
      "Epoch 31/100 : loss = 0.49332329630851746\n",
      "Epoch 32/100 : loss = 0.4932965338230133\n",
      "Epoch 33/100 : loss = 0.4933139979839325\n",
      "Epoch 34/100 : loss = 0.4933027923107147\n",
      "Epoch 35/100 : loss = 0.4932992160320282\n",
      "Epoch 36/100 : loss = 0.4932998716831207\n",
      "Epoch 37/100 : loss = 0.4932902455329895\n",
      "Epoch 38/100 : loss = 0.4932883083820343\n",
      "Epoch 39/100 : loss = 0.49328091740608215\n",
      "Epoch 40/100 : loss = 0.4932757616043091\n",
      "Epoch 41/100 : loss = 0.49324753880500793\n",
      "Epoch 42/100 : loss = 0.4932442009449005\n",
      "Epoch 43/100 : loss = 0.4932405948638916\n",
      "Epoch 44/100 : loss = 0.4932394325733185\n",
      "Epoch 45/100 : loss = 0.4932548999786377\n",
      "Epoch 46/100 : loss = 0.49325722455978394\n",
      "Epoch 47/100 : loss = 0.4932539761066437\n",
      "Epoch 48/100 : loss = 0.49323511123657227\n",
      "Epoch 49/100 : loss = 0.49322769045829773\n",
      "Epoch 50/100 : loss = 0.49322471022605896\n",
      "Epoch 51/100 : loss = 0.4932386577129364\n",
      "Epoch 52/100 : loss = 0.4932304322719574\n",
      "Epoch 53/100 : loss = 0.4932464063167572\n",
      "Epoch 54/100 : loss = 0.49326905608177185\n",
      "Epoch 55/100 : loss = 0.49325472116470337\n",
      "Epoch 56/100 : loss = 0.49325641989707947\n",
      "Epoch 57/100 : loss = 0.4932689368724823\n",
      "Epoch 58/100 : loss = 0.4932680130004883\n",
      "Epoch 59/100 : loss = 0.4932652711868286\n",
      "Epoch 60/100 : loss = 0.4932507872581482\n",
      "Epoch 61/100 : loss = 0.49323761463165283\n",
      "Epoch 62/100 : loss = 0.4932316541671753\n",
      "Epoch 63/100 : loss = 0.49322643876075745\n",
      "Epoch 64/100 : loss = 0.49321913719177246\n",
      "Epoch 65/100 : loss = 0.4932135343551636\n",
      "Epoch 66/100 : loss = 0.49321237206459045\n",
      "Epoch 67/100 : loss = 0.4932090640068054\n",
      "Epoch 68/100 : loss = 0.4932086169719696\n",
      "Epoch 69/100 : loss = 0.4932093620300293\n",
      "Epoch 70/100 : loss = 0.493211030960083\n",
      "Epoch 71/100 : loss = 0.4932117760181427\n",
      "Epoch 72/100 : loss = 0.49321311712265015\n",
      "Epoch 73/100 : loss = 0.4932093918323517\n",
      "Epoch 74/100 : loss = 0.49321141839027405\n",
      "Epoch 75/100 : loss = 0.49320751428604126\n",
      "Epoch 76/100 : loss = 0.4932067096233368\n",
      "Epoch 77/100 : loss = 0.49321281909942627\n",
      "Epoch 78/100 : loss = 0.49321386218070984\n",
      "Epoch 79/100 : loss = 0.49321451783180237\n",
      "Epoch 80/100 : loss = 0.4932159185409546\n",
      "Epoch 81/100 : loss = 0.4932202994823456\n",
      "Epoch 82/100 : loss = 0.49321603775024414\n",
      "Epoch 83/100 : loss = 0.4932084381580353\n",
      "Epoch 84/100 : loss = 0.4932105243206024\n",
      "Epoch 85/100 : loss = 0.49321040511131287\n",
      "Epoch 86/100 : loss = 0.49320754408836365\n",
      "Epoch 87/100 : loss = 0.4932076632976532\n",
      "Epoch 88/100 : loss = 0.4932031035423279\n",
      "Epoch 89/100 : loss = 0.4932042062282562\n",
      "Epoch 90/100 : loss = 0.49320319294929504\n",
      "Epoch 91/100 : loss = 0.49319911003112793\n",
      "Epoch 92/100 : loss = 0.4932040870189667\n",
      "Epoch 93/100 : loss = 0.493196964263916\n",
      "Epoch 94/100 : loss = 0.4931993782520294\n",
      "Epoch 95/100 : loss = 0.49320220947265625\n",
      "Epoch 96/100 : loss = 0.49319830536842346\n",
      "Epoch 97/100 : loss = 0.4931964874267578\n",
      "Epoch 98/100 : loss = 0.4931965470314026\n",
      "Epoch 99/100 : loss = 0.49320128560066223\n",
      "Epoch 100/100 : loss = 0.49320462346076965\n",
      "Training Completed.\n"
     ]
    }
   ],
   "source": [
    "print(\"Training Started.\")\n",
    "loss_list = []\n",
    "for e in range(1, EPOCHS+1):\n",
    "    model.train()\n",
    "    running_loss = 0.0\n",
    "    \n",
    "    for i, data in enumerate(train_loader):    \n",
    "        x_batch, y_batch = data\n",
    "        \n",
    "        model.zero_grad()\n",
    "        \n",
    "        y_pred = model(x_batch)\n",
    "        y_batch = y_batch.view(-1)\n",
    "        y_pred = y_pred.view(-1, len(tag2idx))\n",
    "\n",
    "        loss = criterion(y_pred, y_batch)\n",
    "        loss.backward()\n",
    "        optimizer.step()\n",
    "        \n",
    "        _, y_pred_tags = torch.max(y_pred.squeeze(), dim = 1)\n",
    "        \n",
    "        running_loss += loss.item()\n",
    "        \n",
    "        \n",
    "        if (i % PRINT_EVERY == 0):\n",
    "            loss_list.append(running_loss/PRINT_EVERY)\n",
    "            print(f'Epoch {e}/{EPOCHS} : loss = {running_loss/PRINT_EVERY}')\n",
    "        \n",
    "print(\"Training Completed.\")"
   ]
  },
  {
   "cell_type": "markdown",
   "metadata": {},
   "source": [
    "### Train Acc and Val Acc."
   ]
  },
  {
   "cell_type": "code",
   "execution_count": 34,
   "metadata": {},
   "outputs": [
    {
     "data": {
      "image/png": "[encoded data removed]",
      "text/plain": [
       "<Figure size 432x288 with 1 Axes>"
      ]
     },
     "metadata": {},
     "output_type": "display_data"
    }
   ],
   "source": [
    "import matplotlib.pyplot as plt\n",
    "\n",
    "plt.plot(loss_list, c=\"blue\", label =\"Loss\")\n",
    "plt.xlabel(\"Epochs\")\n",
    "plt.ylabel(\"Value\")\n",
    "plt.legend()\n",
    "plt.show()\n"
   ]
  },
  {
   "cell_type": "markdown",
   "metadata": {},
   "source": [
    "### Classification Metrics."
   ]
  },
  {
   "cell_type": "code",
   "execution_count": 35,
   "metadata": {},
   "outputs": [
    {
     "name": "stdout",
     "output_type": "stream",
     "text": [
      "              precision    recall  f1-score   support\n",
      "\n",
      "           0       0.88      1.00      0.94      1340\n",
      "           1       0.17      0.81      0.28        16\n",
      "           2       0.07      0.83      0.13         6\n",
      "           3       1.00      0.94      0.97       135\n",
      "           4       0.07      0.70      0.13        10\n",
      "           5       0.74      0.95      0.83        42\n",
      "           6       1.00      0.98      0.99       329\n",
      "           7       0.90      0.86      0.88        94\n",
      "           8       0.96      0.90      0.93       115\n",
      "           9       0.97      0.75      0.85      3170\n",
      "          10       0.02      1.00      0.04         2\n",
      "          11       1.00      0.80      0.89       220\n",
      "          12       0.75      0.67      0.71       110\n",
      "          13       0.12      1.00      0.22         9\n",
      "          14       0.07      1.00      0.14         8\n",
      "          15       0.99      0.76      0.86       184\n",
      "          16       0.93      1.00      0.96        77\n",
      "          17       0.77      0.88      0.82        66\n",
      "          18       0.91      0.76      0.83       173\n",
      "          19       0.37      0.77      0.50        13\n",
      "          20       0.00      0.00      0.00         0\n",
      "          21       0.89      0.87      0.88       117\n",
      "          22       0.12      1.00      0.21         5\n",
      "          23       0.53      0.46      0.49       128\n",
      "          24       0.00      0.00      0.00         0\n",
      "          25       0.56      0.77      0.65        31\n",
      "\n",
      "    accuracy                           0.83      6400\n",
      "   macro avg       0.57      0.79      0.58      6400\n",
      "weighted avg       0.93      0.83      0.86      6400\n",
      "\n"
     ]
    },
    {
     "name": "stderr",
     "output_type": "stream",
     "text": [
      "/home/akshaj/anaconda3/envs/nlp/lib/python3.6/site-packages/sklearn/metrics/classification.py:1439: UndefinedMetricWarning: Recall and F-score are ill-defined and being set to 0.0 in labels with no true samples.\n",
      "  'recall', 'true', average, warn_for)\n",
      "/home/akshaj/anaconda3/envs/nlp/lib/python3.6/site-packages/sklearn/metrics/classification.py:1439: UndefinedMetricWarning: Recall and F-score are ill-defined and being set to 0.0 in labels with no true samples.\n",
      "  'recall', 'true', average, warn_for)\n",
      "/home/akshaj/anaconda3/envs/nlp/lib/python3.6/site-packages/sklearn/metrics/classification.py:1439: UndefinedMetricWarning: Recall and F-score are ill-defined and being set to 0.0 in labels with no true samples.\n",
      "  'recall', 'true', average, warn_for)\n"
     ]
    }
   ],
   "source": [
    "y_out_tags_list = []\n",
    "with torch.no_grad():\n",
    "    for x_batch, y_batch in test_loader: \n",
    "        y_out = model(x_batch)\n",
    "        _, y_out_tags = torch.max(y_out.squeeze(), dim = 1)\n",
    "        y_out_tags = np.array(y_out_tags)\n",
    "        y_out_tags_list.append(y_out_tags)\n",
    "        \n",
    "        \n",
    "print(metrics.flat_classification_report(y_test, y_out_tags_list))"
   ]
  },
  {
   "cell_type": "markdown",
   "metadata": {},
   "source": [
    "### Try out the model"
   ]
  },
  {
   "cell_type": "code",
   "execution_count": 36,
   "metadata": {},
   "outputs": [],
   "source": [
    "testl = iter(test_loader)"
   ]
  },
  {
   "cell_type": "markdown",
   "metadata": {},
   "source": [
    "Rerun the below cell to generate outputs to different inputs in the test-set."
   ]
  },
  {
   "cell_type": "code",
   "execution_count": 38,
   "metadata": {},
   "outputs": [
    {
     "name": "stdout",
     "output_type": "stream",
     "text": [
      "Word                      : Pred           : Actual\n",
      "\n",
      "'Allele                   : B-Enzyme       : O'\n",
      "'specific                 : B-MPA          : B-MPA'\n",
      "'gain-of-function         : B-PosReg       : B-PosReg'\n",
      "'activity                 : I-CPA          : I-CPA'\n",
      "'of                       : O              : O'\n",
      "'p53                      : B-Gene         : B-Gene'\n",
      "'mutants                  : B-Var          : B-Var'\n",
      "'in                       : I-Reg          : I-Reg'\n",
      "'lung                     : B-Disease      : B-Disease'\n",
      "'cancer                   : B-Disease      : B-Disease'\n",
      "'cells                    : B-CPA          : B-CPA'\n",
      "'p53                      : B-Gene         : B-Gene'\n",
      "'mutations                : B-Var          : B-Var'\n",
      "'are                      : O              : O'\n",
      "'mostly                   : O              : O'\n",
      "'single                   : B-Var          : B-Var'\n",
      "'amino                    : B-Enzyme       : O'\n",
      "'acid                     : I-MPA          : I-MPA'\n",
      "'changes                  : B-Var          : B-Var'\n",
      "'resulting                : B-Reg          : B-Reg'\n",
      "'in                       : I-Reg          : I-Reg'\n",
      "'expression               : B-MPA          : B-MPA'\n",
      "'of                       : O              : O'\n",
      "'a                        : O              : O'\n",
      "'stable                   : O              : O'\n",
      "'mutant                   : B-Var          : B-Var'\n",
      "'protein                  : B-MPA          : B-MPA'\n",
      "'with                     : I-Interaction  : I-Interaction'\n",
      "'\"gain                    : O              : O'\n",
      "'of                       : O              : O'\n",
      "'function\"                : O              : O'\n",
      "'(GOF)                    : O              : O'\n",
      "'activity                 : I-CPA          : I-CPA'\n",
      "'having                   : O              : O'\n",
      "'a                        : O              : O'\n",
      "'dominant                 : O              : O'\n",
      "'oncogenic                : B-CPA          : B-CPA'\n",
      "'role                     : I-PosReg       : I-PosReg'\n",
      "'rather                   : O              : O'\n",
      "'than                     : O              : O'\n",
      "'simple                   : O              : O'\n",
      "'loss                     : B-NegReg       : B-NegReg'\n",
      "'of                       : O              : O'\n",
      "'function                 : B-MPA          : B-MPA'\n",
      "'of                       : O              : O'\n",
      "'wild-type                : O              : O'\n",
      "'p53                      : B-Gene         : B-Gene'\n",
      "'Knock-down               : I-Protein      : O'\n",
      "'of                       : O              : O'\n",
      "'mutant                   : B-Var          : B-Var'\n",
      "'p53                      : B-Gene         : B-Gene'\n",
      "'in                       : I-Reg          : I-Reg'\n",
      "'human                    : B-CPA          : B-CPA'\n",
      "'lung                     : B-Disease      : B-Disease'\n",
      "'cancer                   : B-Disease      : B-Disease'\n",
      "'cell                     : B-CPA          : B-CPA'\n",
      "'lines                    : O              : O'\n",
      "'with                     : I-Interaction  : I-Interaction'\n",
      "'different                : O              : O'\n",
      "'endogenous               : B-Var          : B-Var'\n",
      "'p53                      : B-Gene         : B-Gene'\n",
      "'mutants                  : B-Var          : B-Var'\n",
      "'results                  : B-Reg          : B-Reg'\n",
      "'in                       : I-Reg          : I-Reg'\n",
      "'loss                     : B-NegReg       : B-NegReg'\n",
      "'of                       : O              : O'\n",
      "'GOF                      : B-Interaction  : B-PosReg'\n",
      "'activity                 : I-CPA          : I-CPA'\n",
      "'as                       : O              : O'\n",
      "'shown                    : O              : O'\n",
      "'by                       : I-Reg          : I-Reg'\n",
      "'lowering                 : B-NegReg       : B-NegReg'\n",
      "'of                       : O              : O'\n",
      "'cell                     : B-CPA          : B-CPA'\n",
      "'growth                   : I-CPA          : I-CPA'\n",
      "'rate                     : B-MPA          : B-MPA'\n",
      "'Two                      : O              : O'\n",
      "'lung                     : B-Disease      : B-Disease'\n",
      "'cancer                   : B-Disease      : B-Disease'\n",
      "'cell                     : B-CPA          : B-CPA'\n",
      "'lines                    : O              : O'\n",
      "'ABC1                     : I-Disease      : O'\n",
      "'and                      : O              : O'\n",
      "'H1437                    : O              : O'\n",
      "'carrying                 : O              : O'\n",
      "'endogenous               : B-Var          : B-Var'\n",
      "'mutants                  : B-Var          : B-Var'\n",
      "'p53-P278S                : I-Var          : O'\n",
      "'and                      : O              : O'\n",
      "'-R267P                   : I-Disease      : O'\n",
      "'show                     : O              : O'\n",
      "'reduction                : B-NegReg       : B-NegReg'\n",
      "'in                       : I-Reg          : I-Reg'\n",
      "'growth                   : I-Protein      : I-CPA'\n",
      "'rate                     : B-MPA          : B-MPA'\n",
      "'on                       : O              : O'\n",
      "'knock-down               : B-Pathway      : B-Var'\n",
      "'on                       : O              : O'\n",
      "'p53                      : B-Gene         : B-Gene'\n",
      "'levels                   : B-MPA          : B-MPA'\n",
      "'However                  : O              : O'\n",
      "'whereas                  : O              : O'\n",
      "'reduction                : B-NegReg       : B-NegReg'\n",
      "'of                       : O              : O'\n",
      "'the                      : O              : O'\n",
      "'p53                      : B-Gene         : B-Gene'\n",
      "'level                    : I-MPA          : I-MPA'\n",
      "'induces                  : I-NegReg       : B-PosReg'\n",
      "'loss                     : B-NegReg       : B-NegReg'\n",
      "'of                       : O              : O'\n",
      "'tumorigenicity           : I-Enzyme       : B-CPA'\n",
      "'in                       : I-Reg          : I-Reg'\n",
      "'nude                     : B-Enzyme       : O'\n",
      "'mice                     : O              : O'\n",
      "'for                      : O              : O'\n",
      "'ABC1                     : I-Protein      : O'\n",
      "'cells                    : B-CPA          : B-CPA'\n",
      "'it                       : O              : O'\n",
      "'escalates                : B-Enzyme       : B-PosReg'\n",
      "'tumorigenicity           : I-Pathway      : B-CPA'\n",
      "'for                      : O              : O'\n",
      "'H1437                    : I-Pathway      : O'\n",
      "'cells                    : B-CPA          : B-CPA'\n",
      "'We                       : O              : O'\n",
      "'have                     : B-PosReg       : B-PosReg'\n",
      "'tested                   : B-Reg          : B-Reg'\n",
      "'their                    : O              : O'\n",
      "'transactivation          : B-MPA          : B-MPA'\n",
      "'potential                : I-Protein      : I-CPA'\n",
      "'on                       : O              : O'\n",
      "'p53                      : B-Gene         : B-Gene'\n",
      "'target                   : O              : O'\n",
      "'gene                     : I-Gene         : I-Gene'\n",
      "'promoters                : B-Enzyme       : O'\n",
      "'by                       : I-Reg          : I-Reg'\n",
      "'performing               : O              : O'\n",
      "'transient                : B-MPA          : B-MPA'\n",
      "'transcriptional          : B-MPA          : B-MPA'\n",
      "'assays                   : O              : O'\n",
      "'in                       : I-Reg          : I-Reg'\n",
      "'the                      : O              : O'\n",
      "'p53-null                 : O              : O'\n",
      "'H1299                    : O              : O'\n",
      "'lung                     : B-Disease      : B-Disease'\n",
      "'cancer                   : B-Disease      : B-Disease'\n",
      "'cell                     : B-CPA          : B-CPA'\n",
      "'line                     : O              : O'\n",
      "'Interestingly            : O              : O'\n",
      "'while                    : O              : O'\n",
      "'the                      : O              : O'\n",
      "'mutant                   : B-Var          : B-Var'\n",
      "'p53                      : B-Gene         : B-Gene'\n",
      "'target                   : O              : O'\n",
      "'promoter                 : O              : O'\n",
      "'Axl                      : B-Protein      : B-Protein'\n",
      "'was                      : O              : O'\n",
      "'activated                : B-PosReg       : B-PosReg'\n",
      "'by                       : I-Reg          : I-Reg'\n",
      "'both                     : O              : O'\n",
      "'the                      : O              : O'\n",
      "'mutants                  : B-Var          : B-Var'\n",
      "'the                      : O              : O'\n",
      "'p21                      : I-Disease      : O'\n",
      "'promoter                 : O              : O'\n",
      "'was                      : O              : O'\n",
      "'activated                : B-PosReg       : B-PosReg'\n",
      "'by                       : I-Reg          : I-Reg'\n",
      "'p53-R267P                : O              : O'\n",
      "'and                      : O              : O'\n",
      "'wild-type                : O              : O'\n",
      "'p53                      : B-Gene         : B-Gene'\n",
      "'but                      : O              : O'\n",
      "'not                      : B-NegReg       : B-NegReg'\n",
      "'by                       : I-Reg          : I-Reg'\n",
      "'p53-P278S;               : I-Pathway      : O'\n",
      "'showing                  : O              : O'\n",
      "'a                        : O              : O'\n",
      "'clear                    : O              : O'\n",
      "'difference               : O              : O'\n",
      "'in                       : I-Reg          : I-Reg'\n",
      "'transcriptional          : B-MPA          : B-MPA'\n",
      "'activity                 : I-CPA          : I-CPA'\n",
      "'between                  : O              : O'\n",
      "'the                      : O              : O'\n",
      "'two                      : B-MPA          : B-MPA'\n",
      "'mutants                  : I-NegReg       : B-Var'\n",
      "'Our                      : O              : O'\n",
      "'results                  : B-Reg          : B-Reg'\n",
      "'demonstrate              : O              : O'\n",
      "'allele                   : B-Var          : B-Var'\n",
      "'specificity              : O              : O'\n",
      "'between                  : O              : O'\n",
      "'GOF                      : B-PosReg       : B-PosReg'\n",
      "'p53                      : B-Gene         : B-Gene'\n",
      "'mutants                  : I-NegReg       : B-Var'\n",
      "'and                      : O              : O'\n",
      "'attempt                  : O              : O'\n",
      "'to                       : I-Reg          : I-Reg'\n",
      "'show                     : O              : O'\n",
      "'that                     : O              : O'\n",
      "'the                      : O              : O'\n",
      "'specificity              : O              : O'\n",
      "'is                       : O              : O'\n",
      "'dependent                : O              : O'\n",
      "'on                       : O              : O'\n",
      "'the                      : O              : O'\n",
      "'transactivation          : B-MPA          : B-MPA'\n",
      "'property                 : O              : O'\n",
      "'of                       : O              : O'\n",
      "'GOF                      : B-PosReg       : B-PosReg'\n",
      "'p53;                     : O              : O'\n",
      "'it                       : O              : O'\n",
      "'also                     : O              : O'\n",
      "'suggests                 : O              : O'\n",
      "'importance               : O              : O'\n",
      "'of                       : O              : O'\n",
      "'p21                      : I-Disease      : O'\n",
      "'activation               : B-PosReg       : B-PosReg'\n",
      "'in                       : I-Reg          : I-Reg'\n",
      "'tumor                    : B-Disease      : B-Disease'\n",
      "'suppression              : I-Disease      : I-CPA'\n",
      "'by                       : I-Reg          : I-Reg'\n",
      "'p53                      : I-Enzyme       : B-Gene'\n",
      "'PAD                      : PAD-TAG        : PAD-TAG'\n",
      "'PAD                      : PAD-TAG        : PAD-TAG'\n",
      "'PAD                      : PAD-TAG        : PAD-TAG'\n",
      "'PAD                      : PAD-TAG        : PAD-TAG'\n",
      "'PAD                      : PAD-TAG        : PAD-TAG'\n",
      "'PAD                      : PAD-TAG        : PAD-TAG'\n",
      "'PAD                      : PAD-TAG        : PAD-TAG'\n",
      "'PAD                      : PAD-TAG        : PAD-TAG'\n",
      "'PAD                      : PAD-TAG        : PAD-TAG'\n",
      "'PAD                      : PAD-TAG        : PAD-TAG'\n",
      "'PAD                      : PAD-TAG        : PAD-TAG'\n",
      "'PAD                      : PAD-TAG        : PAD-TAG'\n",
      "'PAD                      : PAD-TAG        : PAD-TAG'\n",
      "'PAD                      : PAD-TAG        : PAD-TAG'\n",
      "'PAD                      : PAD-TAG        : PAD-TAG'\n",
      "'PAD                      : PAD-TAG        : PAD-TAG'\n",
      "'PAD                      : PAD-TAG        : PAD-TAG'\n",
      "'PAD                      : PAD-TAG        : PAD-TAG'\n",
      "'PAD                      : PAD-TAG        : PAD-TAG'\n",
      "'PAD                      : PAD-TAG        : PAD-TAG'\n",
      "'PAD                      : PAD-TAG        : PAD-TAG'\n",
      "'PAD                      : PAD-TAG        : PAD-TAG'\n",
      "'PAD                      : PAD-TAG        : PAD-TAG'\n",
      "'PAD                      : PAD-TAG        : PAD-TAG'\n",
      "'PAD                      : PAD-TAG        : PAD-TAG'\n",
      "'PAD                      : PAD-TAG        : PAD-TAG'\n",
      "'PAD                      : PAD-TAG        : PAD-TAG'\n",
      "'PAD                      : PAD-TAG        : PAD-TAG'\n",
      "'PAD                      : PAD-TAG        : PAD-TAG'\n",
      "'PAD                      : PAD-TAG        : PAD-TAG'\n",
      "'PAD                      : PAD-TAG        : PAD-TAG'\n",
      "'PAD                      : PAD-TAG        : PAD-TAG'\n",
      "'PAD                      : PAD-TAG        : PAD-TAG'\n"
     ]
    }
   ],
   "source": [
    "with torch.no_grad():\n",
    "    x_batch, y_batch = next(testl)\n",
    "    y_pred = model(x_batch)\n",
    "    \n",
    "    _, y_pred = torch.max(y_pred.squeeze(), 1)\n",
    "    x_batch = x_batch.squeeze()\n",
    "    y_batch = y_batch.squeeze()\n",
    "    \n",
    "    print('{:26}: {:15}: {}\\n'.format(\"Word\", \"Pred\", \"Actual\"))\n",
    "    \n",
    "    for w, pred, actual in zip(x_batch, y_pred, y_batch):\n",
    "        pprint(\"{:25}: {:15}: {}\".format(words[w.item()], tags[pred], tags[actual.item()]))"
   ]
  }
 ],
 "metadata": {
  "kernelspec": {
   "display_name": "Python 3",
   "language": "python",
   "name": "python3"
  },
  "language_info": {
   "codemirror_mode": {
    "name": "ipython",
    "version": 3
   },
   "file_extension": ".py",
   "mimetype": "text/x-python",
   "name": "python",
   "nbconvert_exporter": "python",
   "pygments_lexer": "ipython3",
   "version": "3.6.8"
  }
 },
 "nbformat": 4,
 "nbformat_minor": 2
}
