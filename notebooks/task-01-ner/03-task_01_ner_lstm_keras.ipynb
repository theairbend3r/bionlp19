{
 "cells": [
  {
   "cell_type": "markdown",
   "metadata": {},
   "source": [
    "# [Task 1] Named Entity Recognition  |  LSTM  |  Keras"
   ]
  },
  {
   "cell_type": "markdown",
   "metadata": {},
   "source": [
    "Import Libraries."
   ]
  },
  {
   "cell_type": "code",
   "execution_count": 38,
   "metadata": {},
   "outputs": [],
   "source": [
    "import re\n",
    "import os\n",
    "import json\n",
    "import numpy as np\n",
    "import pandas as pd\n",
    "import seaborn as sns\n",
    "from pprint import pprint\n",
    "import matplotlib.pyplot as plt\n",
    "from collections import Counter\n",
    "from pandas.io.json import json_normalize\n",
    "\n",
    "from keras.models import Model, Input\n",
    "from keras.utils import to_categorical\n",
    "from keras.preprocessing.sequence import pad_sequences\n",
    "from keras.layers import LSTM, Embedding, Dense, TimeDistributed, Dropout, Bidirectional\n",
    "\n",
    "from sklearn_crfsuite import metrics\n",
    "\n",
    "from sklearn.model_selection import train_test_split\n",
    "from sklearn.metrics import classification_report, confusion_matrix"
   ]
  },
  {
   "cell_type": "code",
   "execution_count": 2,
   "metadata": {},
   "outputs": [],
   "source": [
    "%matplotlib inline\n",
    "sns.set_style(\"dark\")"
   ]
  },
  {
   "cell_type": "markdown",
   "metadata": {},
   "source": [
    "## Util"
   ]
  },
  {
   "cell_type": "markdown",
   "metadata": {},
   "source": [
    "Define class to read sentences one at a time."
   ]
  },
  {
   "cell_type": "code",
   "execution_count": 3,
   "metadata": {},
   "outputs": [],
   "source": [
    "class GetSentence(object):\n",
    "    \n",
    "    def __init__(self, data):\n",
    "        self.i = 0\n",
    "        self.id_list = np.unique(data['doc_id']).tolist()\n",
    "        self.data = data\n",
    "        \n",
    "        agg_func = lambda x: [(w, t) for w, t in zip(x['word'].values.tolist(), x['obj'].values.tolist())]\n",
    "        \n",
    "        self.grouped_data = self.data.groupby('doc_id').apply(agg_func)\n",
    "        self.sentences = [x for x in self.grouped_data]\n",
    "        \n",
    "    def get_next_sentence(self):\n",
    "        try: \n",
    "            self.sentence = self.id_list[self.i]\n",
    "            s = self.grouped_data[self.sentence]\n",
    "            self.i += 1\n",
    "\n",
    "            return s\n",
    "        except:\n",
    "            return None"
   ]
  },
  {
   "cell_type": "markdown",
   "metadata": {},
   "source": [
    "Function to read json files."
   ]
  },
  {
   "cell_type": "code",
   "execution_count": 4,
   "metadata": {},
   "outputs": [],
   "source": [
    "def read_json(path):\n",
    "    file = json.loads(open(path).read())\n",
    "    \n",
    "    return file"
   ]
  },
  {
   "cell_type": "markdown",
   "metadata": {},
   "source": [
    "Function to extract words from text based on the indices."
   ]
  },
  {
   "cell_type": "code",
   "execution_count": 5,
   "metadata": {},
   "outputs": [],
   "source": [
    "def extract_word(begin, end, txt):\n",
    "    return txt[begin:end]"
   ]
  },
  {
   "cell_type": "code",
   "execution_count": 6,
   "metadata": {},
   "outputs": [],
   "source": [
    "base_dir = \"../../data/AGAC_training-annotations/AGAC_training/json/\""
   ]
  },
  {
   "cell_type": "markdown",
   "metadata": {},
   "source": [
    "## Prepare Data"
   ]
  },
  {
   "cell_type": "markdown",
   "metadata": {},
   "source": [
    "BIO labelling of data.  "
   ]
  },
  {
   "cell_type": "code",
   "execution_count": 7,
   "metadata": {},
   "outputs": [],
   "source": [
    "word_label_dict = {}\n",
    "\n",
    "    \n",
    "for f in os.listdir(base_dir):\n",
    "    file = read_json(base_dir + f)\n",
    "    # Extract the document ID from the file name\n",
    "    doc_id = \"\".join(re.findall(r'\\d', f))\n",
    "    txt = file['text']\n",
    "\n",
    "\n",
    "    for i in range(len(file['denotations'])):\n",
    "        b = file['denotations'][i]['span']['begin']\n",
    "        e = file['denotations'][i]['span']['end']\n",
    "        word = extract_word(b, e, txt)\n",
    "        word_split = word.split(' ')\n",
    "        obj = file['denotations'][i]['obj']\n",
    "\n",
    "        # If length of word (after splitting on \" \") is more than 2\n",
    "        # Put 'B/I' labels\n",
    "        if len(word_split) == 2:\n",
    "            b_word = word_split[0]\n",
    "            i_word = word_split[-1]\n",
    "            b_obj = \"B-\" + obj\n",
    "            i_obj = \"I-\" + obj\n",
    "            word_label_dict[i_word] = i_obj\n",
    "            word_label_dict[b_word] = b_obj\n",
    "\n",
    "        # If length of word (after splitting on \" \") is equal to 1\n",
    "        # Put a 'B' label\n",
    "        else:\n",
    "            b_word = word_split[0]\n",
    "            b_obj = \"B-\" + obj\n",
    "\n",
    "            word_label_dict[b_word] = b_obj"
   ]
  },
  {
   "cell_type": "markdown",
   "metadata": {},
   "source": [
    "Clean the data and put the label 'O' where necessary."
   ]
  },
  {
   "cell_type": "code",
   "execution_count": 8,
   "metadata": {},
   "outputs": [],
   "source": [
    "final_list = []\n",
    "\n",
    "for f in os.listdir(base_dir):\n",
    "    file = read_json(base_dir + f)\n",
    "    doc_id = \"\".join(re.findall(r'\\d', f))\n",
    "    txt = file['text']\n",
    "\n",
    "    # Clean the text data\n",
    "    txt = re.sub(r'\\n', \" \", txt)\n",
    "    txt = re.sub(r'\\.', \"\", txt)\n",
    "    txt = re.sub(r',', \"\", txt)\n",
    "    txt = re.sub(r':', \"\", txt)\n",
    "\n",
    "\n",
    "    txt_split = txt.split(\" \")\n",
    "\n",
    "    # Put a label 'O' for words that do not appear\n",
    "    # in word_label_dict\n",
    "    for w in txt_split:\n",
    "        if w in word_label_dict.keys():\n",
    "            final_list.append((doc_id, w, word_label_dict[w]))\n",
    "        else:\n",
    "            final_list.append((doc_id, w, \"O\"))"
   ]
  },
  {
   "cell_type": "code",
   "execution_count": 9,
   "metadata": {},
   "outputs": [],
   "source": [
    "data_df = pd.DataFrame(final_list, columns=['doc_id', 'word', 'obj'])"
   ]
  },
  {
   "cell_type": "code",
   "execution_count": 10,
   "metadata": {},
   "outputs": [
    {
     "data": {
      "text/html": [
       "<div>\n",
       "<style scoped>\n",
       "    .dataframe tbody tr th:only-of-type {\n",
       "        vertical-align: middle;\n",
       "    }\n",
       "\n",
       "    .dataframe tbody tr th {\n",
       "        vertical-align: top;\n",
       "    }\n",
       "\n",
       "    .dataframe thead th {\n",
       "        text-align: right;\n",
       "    }\n",
       "</style>\n",
       "<table border=\"1\" class=\"dataframe\">\n",
       "  <thead>\n",
       "    <tr style=\"text-align: right;\">\n",
       "      <th></th>\n",
       "      <th>doc_id</th>\n",
       "      <th>word</th>\n",
       "      <th>obj</th>\n",
       "    </tr>\n",
       "  </thead>\n",
       "  <tbody>\n",
       "    <tr>\n",
       "      <th>0</th>\n",
       "      <td>30442766</td>\n",
       "      <td>LZTR1</td>\n",
       "      <td>B-Gene</td>\n",
       "    </tr>\n",
       "    <tr>\n",
       "      <th>1</th>\n",
       "      <td>30442766</td>\n",
       "      <td>is</td>\n",
       "      <td>O</td>\n",
       "    </tr>\n",
       "    <tr>\n",
       "      <th>2</th>\n",
       "      <td>30442766</td>\n",
       "      <td>a</td>\n",
       "      <td>O</td>\n",
       "    </tr>\n",
       "    <tr>\n",
       "      <th>3</th>\n",
       "      <td>30442766</td>\n",
       "      <td>regulator</td>\n",
       "      <td>O</td>\n",
       "    </tr>\n",
       "    <tr>\n",
       "      <th>4</th>\n",
       "      <td>30442766</td>\n",
       "      <td>of</td>\n",
       "      <td>O</td>\n",
       "    </tr>\n",
       "  </tbody>\n",
       "</table>\n",
       "</div>"
      ],
      "text/plain": [
       "     doc_id       word     obj\n",
       "0  30442766      LZTR1  B-Gene\n",
       "1  30442766         is       O\n",
       "2  30442766          a       O\n",
       "3  30442766  regulator       O\n",
       "4  30442766         of       O"
      ]
     },
     "execution_count": 10,
     "metadata": {},
     "output_type": "execute_result"
    }
   ],
   "source": [
    "data_df.head()"
   ]
  },
  {
   "cell_type": "markdown",
   "metadata": {},
   "source": [
    "## EDA"
   ]
  },
  {
   "cell_type": "markdown",
   "metadata": {},
   "source": [
    "### Count of words/obj per document."
   ]
  },
  {
   "cell_type": "code",
   "execution_count": 11,
   "metadata": {},
   "outputs": [
    {
     "data": {
      "text/html": [
       "<div>\n",
       "<style scoped>\n",
       "    .dataframe tbody tr th:only-of-type {\n",
       "        vertical-align: middle;\n",
       "    }\n",
       "\n",
       "    .dataframe tbody tr th {\n",
       "        vertical-align: top;\n",
       "    }\n",
       "\n",
       "    .dataframe thead th {\n",
       "        text-align: right;\n",
       "    }\n",
       "</style>\n",
       "<table border=\"1\" class=\"dataframe\">\n",
       "  <thead>\n",
       "    <tr style=\"text-align: right;\">\n",
       "      <th></th>\n",
       "      <th>word</th>\n",
       "      <th>obj</th>\n",
       "    </tr>\n",
       "    <tr>\n",
       "      <th>doc_id</th>\n",
       "      <th></th>\n",
       "      <th></th>\n",
       "    </tr>\n",
       "  </thead>\n",
       "  <tbody>\n",
       "    <tr>\n",
       "      <th>16371368</th>\n",
       "      <td>307</td>\n",
       "      <td>307</td>\n",
       "    </tr>\n",
       "    <tr>\n",
       "      <th>17435236</th>\n",
       "      <td>229</td>\n",
       "      <td>229</td>\n",
       "    </tr>\n",
       "    <tr>\n",
       "      <th>18031991</th>\n",
       "      <td>235</td>\n",
       "      <td>235</td>\n",
       "    </tr>\n",
       "    <tr>\n",
       "      <th>18594199</th>\n",
       "      <td>189</td>\n",
       "      <td>189</td>\n",
       "    </tr>\n",
       "    <tr>\n",
       "      <th>19338054</th>\n",
       "      <td>265</td>\n",
       "      <td>265</td>\n",
       "    </tr>\n",
       "  </tbody>\n",
       "</table>\n",
       "</div>"
      ],
      "text/plain": [
       "          word  obj\n",
       "doc_id             \n",
       "16371368   307  307\n",
       "17435236   229  229\n",
       "18031991   235  235\n",
       "18594199   189  189\n",
       "19338054   265  265"
      ]
     },
     "execution_count": 11,
     "metadata": {},
     "output_type": "execute_result"
    }
   ],
   "source": [
    "data_df.groupby('doc_id').count().head()"
   ]
  },
  {
   "cell_type": "markdown",
   "metadata": {},
   "source": [
    "### Stats about the data."
   ]
  },
  {
   "cell_type": "code",
   "execution_count": 12,
   "metadata": {},
   "outputs": [
    {
     "data": {
      "text/html": [
       "<div>\n",
       "<style scoped>\n",
       "    .dataframe tbody tr th:only-of-type {\n",
       "        vertical-align: middle;\n",
       "    }\n",
       "\n",
       "    .dataframe tbody tr th {\n",
       "        vertical-align: top;\n",
       "    }\n",
       "\n",
       "    .dataframe thead th {\n",
       "        text-align: right;\n",
       "    }\n",
       "</style>\n",
       "<table border=\"1\" class=\"dataframe\">\n",
       "  <thead>\n",
       "    <tr style=\"text-align: right;\">\n",
       "      <th></th>\n",
       "      <th>doc_id</th>\n",
       "      <th>word</th>\n",
       "      <th>obj</th>\n",
       "    </tr>\n",
       "  </thead>\n",
       "  <tbody>\n",
       "    <tr>\n",
       "      <th>count</th>\n",
       "      <td>55808</td>\n",
       "      <td>55808</td>\n",
       "      <td>55808</td>\n",
       "    </tr>\n",
       "    <tr>\n",
       "      <th>unique</th>\n",
       "      <td>250</td>\n",
       "      <td>9744</td>\n",
       "      <td>25</td>\n",
       "    </tr>\n",
       "    <tr>\n",
       "      <th>top</th>\n",
       "      <td>28283687</td>\n",
       "      <td>of</td>\n",
       "      <td>O</td>\n",
       "    </tr>\n",
       "    <tr>\n",
       "      <th>freq</th>\n",
       "      <td>513</td>\n",
       "      <td>2206</td>\n",
       "      <td>35790</td>\n",
       "    </tr>\n",
       "  </tbody>\n",
       "</table>\n",
       "</div>"
      ],
      "text/plain": [
       "          doc_id   word    obj\n",
       "count      55808  55808  55808\n",
       "unique       250   9744     25\n",
       "top     28283687     of      O\n",
       "freq         513   2206  35790"
      ]
     },
     "execution_count": 12,
     "metadata": {},
     "output_type": "execute_result"
    }
   ],
   "source": [
    "data_df.describe()"
   ]
  },
  {
   "cell_type": "markdown",
   "metadata": {},
   "source": [
    "### Frequncy of different output labels."
   ]
  },
  {
   "cell_type": "markdown",
   "metadata": {},
   "source": [
    "Frequency with label 'O'."
   ]
  },
  {
   "cell_type": "code",
   "execution_count": 13,
   "metadata": {},
   "outputs": [
    {
     "data": {
      "text/plain": [
       "<matplotlib.axes._subplots.AxesSubplot at 0x7f884f4160b8>"
      ]
     },
     "execution_count": 13,
     "metadata": {},
     "output_type": "execute_result"
    },
    {
     "data": {
      "image/png": "[encoded data removed]",
      "text/plain": [
       "<Figure size 432x288 with 1 Axes>"
      ]
     },
     "metadata": {},
     "output_type": "display_data"
    }
   ],
   "source": [
    "sns.countplot(y = \"obj\", data=data_df)"
   ]
  },
  {
   "cell_type": "markdown",
   "metadata": {},
   "source": [
    "Frequency without label 'O'."
   ]
  },
  {
   "cell_type": "code",
   "execution_count": 14,
   "metadata": {},
   "outputs": [
    {
     "data": {
      "text/plain": [
       "<matplotlib.axes._subplots.AxesSubplot at 0x7f884f056240>"
      ]
     },
     "execution_count": 14,
     "metadata": {},
     "output_type": "execute_result"
    },
    {
     "data": {
      "image/png": "[encoded data removed]",
      "text/plain": [
       "<Figure size 432x288 with 1 Axes>"
      ]
     },
     "metadata": {},
     "output_type": "display_data"
    }
   ],
   "source": [
    "sns.countplot(y = \"obj\", data=data_df[data_df['obj'] != 'O'])"
   ]
  },
  {
   "cell_type": "markdown",
   "metadata": {},
   "source": [
    "## Deep Learning - LSTM Keras"
   ]
  },
  {
   "cell_type": "markdown",
   "metadata": {},
   "source": [
    "### Create a list of words and output tags"
   ]
  },
  {
   "cell_type": "code",
   "execution_count": 15,
   "metadata": {},
   "outputs": [
    {
     "name": "stdout",
     "output_type": "stream",
     "text": [
      "Number of words = 9745\n"
     ]
    }
   ],
   "source": [
    "words = list(set(data_df[\"word\"].values))\n",
    "words.append(\"ENDPAD\")\n",
    "n_words = len(words)\n",
    "print(f\"Number of words = {n_words}\")"
   ]
  },
  {
   "cell_type": "code",
   "execution_count": 16,
   "metadata": {},
   "outputs": [
    {
     "name": "stdout",
     "output_type": "stream",
     "text": [
      "Number of tags = 25\n"
     ]
    }
   ],
   "source": [
    "tags = list(set(data_df[\"obj\"].values))\n",
    "n_tags = len(tags)\n",
    "print(f\"Number of tags = {n_tags}\")"
   ]
  },
  {
   "cell_type": "markdown",
   "metadata": {},
   "source": [
    "### Extract Sentences"
   ]
  },
  {
   "cell_type": "code",
   "execution_count": 17,
   "metadata": {},
   "outputs": [],
   "source": [
    "getter = GetSentence(data_df)\n",
    "sent = getter.get_next_sentence()"
   ]
  },
  {
   "cell_type": "code",
   "execution_count": 18,
   "metadata": {},
   "outputs": [
    {
     "name": "stdout",
     "output_type": "stream",
     "text": [
      "[('Effects', 'O'), ('of', 'O'), ('a', 'O'), ('leukemia-associated', 'O'), ('gain-of-function', 'B-PosReg'), ('mutation', 'B-Var'), ('of', 'O'), ('SHP-2', 'B-Gene'), ('phosphatase', 'B-Enzyme'), ('on', 'O'), ('interleukin-3', 'O'), ('signaling', 'B-MPA'), ('Mutations', 'B-Var'), ('in', 'I-Reg'), ('SHP-2', 'B-Gene'), ('phosphatase', 'B-Enzyme'), ('that', 'O'), ('cause', 'B-Reg'), ('hyperactivation', 'B-PosReg'), ('of', 'O'), ('its', 'O'), ('catalytic', 'B-Var'), ('activity', 'I-CPA'), ('have', 'B-PosReg'), ('been', 'O'), ('identified', 'B-Reg'), ('in', 'I-Reg'), ('human', 'B-CPA'), ('leukemias', 'I-Disease'), ('particularly', 'O'), ('juvenile', 'B-Disease'), ('myelomonocytic', 'O'), ('leukemia', 'I-Disease'), ('which', 'O'), ('is', 'O'), ('characterized', 'O'), ('by', 'I-Reg'), ('hypersensitivity', 'O'), ('of', 'O'), ('myeloid', 'O'), ('progenitor', 'B-CPA'), ('cells', 'B-CPA'), ('to', 'I-Reg'), ('granulocyte', 'O'), ('macrophage', 'O'), ('colony-stimulating', 'O'), ('factor', 'O'), ('and', 'O'), ('interleukin', 'O'), ('(IL)-3', 'O'), ('However', 'O'), ('the', 'O'), ('molecular', 'O'), ('mechanisms', 'B-Reg'), ('by', 'I-Reg'), ('which', 'O'), ('gain-of-function', 'B-PosReg'), ('(GOF)', 'O'), ('mutations', 'B-Var'), ('of', 'O'), ('SHP-2', 'B-Gene'), ('induce', 'B-PosReg'), ('hematopoietic', 'O'), ('malignancies', 'I-Disease'), ('are', 'O'), ('not', 'B-NegReg'), ('fully', 'B-CPA'), ('understood', 'O'), ('Our', 'O'), ('previous', 'O'), ('studies', 'O'), ('have', 'B-PosReg'), ('shown', 'O'), ('that', 'O'), ('SHP-2', 'B-Gene'), ('plays', 'O'), ('an', 'O'), ('essential', 'O'), ('role', 'I-PosReg'), ('in', 'I-Reg'), ('IL-3', 'O'), ('signal', 'B-Gene'), ('transduction', 'O'), ('in', 'I-Reg'), ('both', 'O'), ('catalytic-dependent', 'O'), ('and', 'O'), ('-independent', 'O'), ('manners', 'O'), ('and', 'O'), ('that', 'O'), ('overexpression', 'B-PosReg'), ('(5-6-fold)', 'O'), ('of', 'O'), ('wild', 'B-MPA'), ('type', 'B-Disease'), ('(WT)', 'O'), ('SHP-2', 'B-Gene'), ('attenuates', 'O'), ('IL-3-mediated', 'O'), ('hematopoietic', 'O'), ('cell', 'B-CPA'), ('function', 'B-MPA'), ('through', 'O'), ('accelerated', 'B-PosReg'), ('dephosphorylation', 'B-MPA'), ('of', 'O'), ('STAT5', 'B-MPA'), ('These', 'O'), ('results', 'B-Reg'), ('raised', 'O'), ('the', 'O'), ('possibility', 'O'), ('that', 'O'), ('SHP-2-associated', 'O'), ('leukemias', 'I-Disease'), ('are', 'O'), ('not', 'B-NegReg'), ('solely', 'O'), ('attributed', 'O'), ('to', 'I-Reg'), ('the', 'O'), ('increased', 'B-PosReg'), ('catalytic', 'B-Var'), ('activity', 'I-CPA'), ('of', 'O'), ('GOF', 'B-PosReg'), ('mutant', 'B-Var'), ('SHP-2', 'B-Gene'), ('GOF', 'B-PosReg'), ('mutant', 'B-Var'), ('SHP-2', 'B-Gene'), ('must', 'O'), ('have', 'B-PosReg'), ('gained', 'B-PosReg'), ('additional', 'B-CPA'), ('capacities', 'O'), ('To', 'O'), ('test', 'O'), ('this', 'O'), ('possibility', 'O'), ('we', 'O'), ('investigated', 'O'), ('effects', 'B-Reg'), ('of', 'O'), ('a', 'O'), ('GOF', 'B-PosReg'), ('mutation', 'B-Var'), ('of', 'O'), ('SHP-2', 'B-Gene'), ('(SHP-2', 'O'), ('E76K)', 'O'), ('on', 'O'), ('hematopoietic', 'O'), ('cell', 'B-CPA'), ('function', 'B-MPA'), ('and', 'O'), ('IL-3', 'O'), ('signal', 'B-Gene'), ('transduction', 'O'), ('by', 'I-Reg'), ('comparing', 'O'), ('with', 'I-Interaction'), ('those', 'O'), ('of', 'O'), ('overexpressed', 'O'), ('WT', 'O'), ('SHP-2', 'B-Gene'), ('Our', 'O'), ('results', 'B-Reg'), ('showed', 'O'), ('that', 'O'), ('SHP-2', 'B-Gene'), ('E76K', 'B-Var'), ('mutation', 'B-Var'), ('caused', 'B-Reg'), ('myeloproliferative', 'B-Disease'), ('disease', 'I-Disease'), ('in', 'I-Reg'), ('mice', 'O'), ('while', 'O'), ('overexpression', 'B-PosReg'), ('of', 'O'), ('WT', 'O'), ('SHP-2', 'B-Gene'), ('decreased', 'B-NegReg'), ('hematopoietic', 'O'), ('potential', 'I-CPA'), ('of', 'O'), ('the', 'O'), ('transduced', 'O'), ('cells', 'B-CPA'), ('in', 'I-Reg'), ('recipient', 'O'), ('animals', 'O'), ('The', 'O'), ('E76K', 'B-Var'), ('mutation', 'B-Var'), ('in', 'I-Reg'), ('the', 'O'), ('N-terminal', 'O'), ('Src', 'O'), ('homology', 'O'), ('2', 'O'), ('domain', 'I-MPA'), ('increased', 'B-PosReg'), ('interactions', 'I-MPA'), ('of', 'O'), ('mutant', 'B-Var'), ('SHP-2', 'B-Gene'), ('with', 'I-Interaction'), ('Grb2', 'B-Protein'), ('Gab2', 'B-Protein'), ('and', 'O'), ('p85', 'O'), ('leading', 'B-Reg'), ('to', 'I-Reg'), ('hyperactivation', 'B-PosReg'), ('of', 'O'), ('IL-3-induced', 'B-Pathway'), ('Erk', 'O'), ('and', 'O'), ('phosphatidylinositol', 'O'), ('3-kinase', 'O'), ('(PI3K)', 'O'), ('pathways', 'I-Pathway'), ('In', 'O'), ('addition', 'O'), ('despite', 'O'), ('the', 'O'), ('substantial', 'O'), ('increase', 'B-PosReg'), ('in', 'I-Reg'), ('the', 'O'), ('catalytic', 'B-Var'), ('activity', 'I-CPA'), ('dephosphorylation', 'B-MPA'), ('of', 'O'), ('STAT5', 'B-MPA'), ('by', 'I-Reg'), ('SHP-2', 'B-Gene'), ('E76K', 'B-Var'), ('was', 'O'), ('dampened', 'B-NegReg'), ('Furthermore', 'O'), ('catalytically', 'B-Var'), ('inactive', 'O'), ('SHP-2', 'B-Gene'), ('E76K', 'B-Var'), ('with', 'I-Interaction'), ('an', 'O'), ('additional', 'B-CPA'), ('C459S', 'O'), ('mutation', 'B-Var'), ('retained', 'O'), ('the', 'O'), ('capability', 'O'), ('to', 'I-Reg'), ('increase', 'B-PosReg'), ('the', 'O'), ('interaction', 'B-Interaction'), ('with', 'I-Interaction'), ('Gab2', 'B-Protein'), ('and', 'O'), ('to', 'I-Reg'), ('enhance', 'B-PosReg'), ('the', 'O'), ('activation', 'B-PosReg'), ('of', 'O'), ('the', 'O'), ('PI3K', 'O'), ('pathway', 'I-Pathway'), ('Taken', 'O'), ('together', 'O'), ('these', 'O'), ('studies', 'O'), ('suggest', 'O'), ('that', 'O'), ('in', 'I-Reg'), ('addition', 'O'), ('to', 'I-Reg'), ('the', 'O'), ('elevated', 'B-PosReg'), ('catalytic', 'B-Var'), ('activity', 'I-CPA'), ('fundamental', 'O'), ('changes', 'B-Var'), ('in', 'I-Reg'), ('physical', 'O'), ('and', 'O'), ('functional', 'B-MPA'), ('interactions', 'I-MPA'), ('between', 'O'), ('GOF', 'B-PosReg'), ('mutant', 'B-Var'), ('SHP-2', 'B-Gene'), ('and', 'O'), ('signaling', 'B-MPA'), ('partners', 'O'), ('also', 'O'), ('play', 'B-Reg'), ('an', 'O'), ('important', 'O'), ('role', 'I-PosReg'), ('in', 'I-Reg'), ('SHP-2-related', 'O'), ('leukemigenesis', 'O')]\n"
     ]
    }
   ],
   "source": [
    "print(sent)"
   ]
  },
  {
   "cell_type": "code",
   "execution_count": 19,
   "metadata": {},
   "outputs": [],
   "source": [
    "sentences = getter.sentences"
   ]
  },
  {
   "cell_type": "markdown",
   "metadata": {},
   "source": [
    "### Number of words per sentence."
   ]
  },
  {
   "cell_type": "code",
   "execution_count": 20,
   "metadata": {},
   "outputs": [
    {
     "data": {
      "image/png": "[encoded data removed]",
      "text/plain": [
       "<Figure size 432x288 with 1 Axes>"
      ]
     },
     "metadata": {},
     "output_type": "display_data"
    }
   ],
   "source": [
    "plt.hist([len(s) for s in sentences], bins=20)\n",
    "plt.show()"
   ]
  },
  {
   "cell_type": "markdown",
   "metadata": {},
   "source": [
    "Majority of the sentences have 250 words per sentence. So, we'll set the limit for max words as 250. Each sentence will be padded or stripped down to maintain 250 words."
   ]
  },
  {
   "cell_type": "markdown",
   "metadata": {},
   "source": [
    "### Create word/tag to id dictionary."
   ]
  },
  {
   "cell_type": "code",
   "execution_count": 21,
   "metadata": {},
   "outputs": [],
   "source": [
    "max_len = 250\n",
    "word2idx = {w: i for i, w in enumerate(words)}\n",
    "tag2idx = {t: i for i, t in enumerate(tags)}"
   ]
  },
  {
   "cell_type": "code",
   "execution_count": 22,
   "metadata": {},
   "outputs": [
    {
     "name": "stdout",
     "output_type": "stream",
     "text": [
      "993\n",
      "0\n"
     ]
    }
   ],
   "source": [
    "print(word2idx['variations'])\n",
    "print(tag2idx['O'])"
   ]
  },
  {
   "cell_type": "markdown",
   "metadata": {},
   "source": [
    "### Pad sentences."
   ]
  },
  {
   "cell_type": "code",
   "execution_count": 23,
   "metadata": {},
   "outputs": [],
   "source": [
    "X = [[word2idx[w[0]] for w in s] for s in sentences]"
   ]
  },
  {
   "cell_type": "code",
   "execution_count": 24,
   "metadata": {},
   "outputs": [],
   "source": [
    "X = pad_sequences(maxlen=max_len, sequences=X, padding=\"post\", value=n_words - 1)"
   ]
  },
  {
   "cell_type": "markdown",
   "metadata": {},
   "source": [
    "### Pad tags."
   ]
  },
  {
   "cell_type": "code",
   "execution_count": 25,
   "metadata": {},
   "outputs": [],
   "source": [
    "y = [[tag2idx[w[1]] for w in s] for s in sentences]"
   ]
  },
  {
   "cell_type": "code",
   "execution_count": 26,
   "metadata": {},
   "outputs": [],
   "source": [
    "y = pad_sequences(maxlen=max_len, sequences=y, padding=\"post\", value=tag2idx[\"O\"])"
   ]
  },
  {
   "cell_type": "markdown",
   "metadata": {},
   "source": [
    "### Convert tags to categorical values."
   ]
  },
  {
   "cell_type": "code",
   "execution_count": 27,
   "metadata": {},
   "outputs": [],
   "source": [
    "y = [to_categorical(i, num_classes=n_tags) for i in y]"
   ]
  },
  {
   "cell_type": "markdown",
   "metadata": {},
   "source": [
    "### Split data into train and test sets."
   ]
  },
  {
   "cell_type": "code",
   "execution_count": 28,
   "metadata": {},
   "outputs": [],
   "source": [
    "X_train, X_test, y_train, y_test = train_test_split(X, y, test_size=0.1)"
   ]
  },
  {
   "cell_type": "markdown",
   "metadata": {},
   "source": [
    "### Define NN architecture."
   ]
  },
  {
   "cell_type": "code",
   "execution_count": 31,
   "metadata": {},
   "outputs": [],
   "source": [
    "inp = Input(shape=(max_len,))\n",
    "model = Embedding(input_dim=n_words, output_dim=90, input_length=max_len)(inp)\n",
    "model = Dropout(0.1)(model)\n",
    "model = Bidirectional(LSTM(units=120, return_sequences=True, recurrent_dropout=0.1))(model)\n",
    "out = TimeDistributed(Dense(n_tags, activation=\"softmax\"))(model)  "
   ]
  },
  {
   "cell_type": "code",
   "execution_count": 32,
   "metadata": {},
   "outputs": [],
   "source": [
    "model = Model(inp, out)"
   ]
  },
  {
   "cell_type": "code",
   "execution_count": 34,
   "metadata": {},
   "outputs": [],
   "source": [
    "model.compile(optimizer=\"adam\", loss=\"categorical_crossentropy\", metrics=[\"accuracy\"])"
   ]
  },
  {
   "cell_type": "markdown",
   "metadata": {},
   "source": [
    "### Train the model."
   ]
  },
  {
   "cell_type": "code",
   "execution_count": 35,
   "metadata": {},
   "outputs": [
    {
     "name": "stderr",
     "output_type": "stream",
     "text": [
      "W0715 09:54:05.839657 140224608380736 deprecation.py:323] From /home/akshaj/anaconda3/envs/nlp/lib/python3.6/site-packages/tensorflow/python/ops/math_grad.py:1250: add_dispatch_support.<locals>.wrapper (from tensorflow.python.ops.array_ops) is deprecated and will be removed in a future version.\n",
      "Instructions for updating:\n",
      "Use tf.where in 2.0, which has the same broadcast rule as np.where\n"
     ]
    },
    {
     "name": "stdout",
     "output_type": "stream",
     "text": [
      "Train on 202 samples, validate on 23 samples\n",
      "Epoch 1/80\n",
      "202/202 [==============================] - 6s 28ms/step - loss: 3.1355 - acc: 0.5862 - val_loss: 2.9103 - val_acc: 0.6927\n",
      "Epoch 2/80\n",
      "202/202 [==============================] - 3s 16ms/step - loss: 2.2434 - acc: 0.6957 - val_loss: 1.7886 - val_acc: 0.6927\n",
      "Epoch 3/80\n",
      "202/202 [==============================] - 3s 16ms/step - loss: 1.5799 - acc: 0.6957 - val_loss: 1.5310 - val_acc: 0.6927\n",
      "Epoch 4/80\n",
      "202/202 [==============================] - 3s 16ms/step - loss: 1.4957 - acc: 0.6957 - val_loss: 1.4423 - val_acc: 0.6927\n",
      "Epoch 5/80\n",
      "202/202 [==============================] - 4s 19ms/step - loss: 1.4179 - acc: 0.6957 - val_loss: 1.4149 - val_acc: 0.6927\n",
      "Epoch 6/80\n",
      "202/202 [==============================] - 3s 15ms/step - loss: 1.3908 - acc: 0.6957 - val_loss: 1.3783 - val_acc: 0.6927\n",
      "Epoch 7/80\n",
      "202/202 [==============================] - 3s 16ms/step - loss: 1.3556 - acc: 0.6957 - val_loss: 1.3525 - val_acc: 0.6927\n",
      "Epoch 8/80\n",
      "202/202 [==============================] - 3s 15ms/step - loss: 1.3213 - acc: 0.6957 - val_loss: 1.3235 - val_acc: 0.6927\n",
      "Epoch 9/80\n",
      "202/202 [==============================] - 3s 16ms/step - loss: 1.2896 - acc: 0.6957 - val_loss: 1.2990 - val_acc: 0.6927\n",
      "Epoch 10/80\n",
      "202/202 [==============================] - 3s 16ms/step - loss: 1.2565 - acc: 0.6957 - val_loss: 1.2645 - val_acc: 0.6927\n",
      "Epoch 11/80\n",
      "202/202 [==============================] - 3s 16ms/step - loss: 1.2182 - acc: 0.6957 - val_loss: 1.2279 - val_acc: 0.6927\n",
      "Epoch 12/80\n",
      "202/202 [==============================] - 3s 15ms/step - loss: 1.1752 - acc: 0.6958 - val_loss: 1.1839 - val_acc: 0.6929\n",
      "Epoch 13/80\n",
      "202/202 [==============================] - 3s 15ms/step - loss: 1.1253 - acc: 0.6960 - val_loss: 1.1328 - val_acc: 0.6939\n",
      "Epoch 14/80\n",
      "202/202 [==============================] - 3s 15ms/step - loss: 1.0673 - acc: 0.6993 - val_loss: 1.0772 - val_acc: 0.7021\n",
      "Epoch 15/80\n",
      "202/202 [==============================] - 3s 15ms/step - loss: 1.0044 - acc: 0.7086 - val_loss: 1.0194 - val_acc: 0.7179\n",
      "Epoch 16/80\n",
      "202/202 [==============================] - 3s 15ms/step - loss: 0.9400 - acc: 0.7254 - val_loss: 0.9652 - val_acc: 0.7414\n",
      "Epoch 17/80\n",
      "202/202 [==============================] - 3s 15ms/step - loss: 0.8804 - acc: 0.7470 - val_loss: 0.9149 - val_acc: 0.7579\n",
      "Epoch 18/80\n",
      "202/202 [==============================] - 3s 15ms/step - loss: 0.8283 - acc: 0.7616 - val_loss: 0.8727 - val_acc: 0.7704\n",
      "Epoch 19/80\n",
      "202/202 [==============================] - 3s 15ms/step - loss: 0.7858 - acc: 0.7752 - val_loss: 0.8353 - val_acc: 0.7852\n",
      "Epoch 20/80\n",
      "202/202 [==============================] - 3s 15ms/step - loss: 0.7488 - acc: 0.7879 - val_loss: 0.7982 - val_acc: 0.7957\n",
      "Epoch 21/80\n",
      "202/202 [==============================] - 3s 15ms/step - loss: 0.7129 - acc: 0.8018 - val_loss: 0.7604 - val_acc: 0.8061\n",
      "Epoch 22/80\n",
      "202/202 [==============================] - 3s 15ms/step - loss: 0.6755 - acc: 0.8105 - val_loss: 0.7221 - val_acc: 0.8157\n",
      "Epoch 23/80\n",
      "202/202 [==============================] - 3s 15ms/step - loss: 0.6369 - acc: 0.8205 - val_loss: 0.6867 - val_acc: 0.8329\n",
      "Epoch 24/80\n",
      "202/202 [==============================] - 3s 15ms/step - loss: 0.5972 - acc: 0.8470 - val_loss: 0.6523 - val_acc: 0.8334\n",
      "Epoch 25/80\n",
      "202/202 [==============================] - 3s 16ms/step - loss: 0.5547 - acc: 0.8581 - val_loss: 0.6134 - val_acc: 0.8546\n",
      "Epoch 26/80\n",
      "202/202 [==============================] - 3s 15ms/step - loss: 0.5110 - acc: 0.8722 - val_loss: 0.5769 - val_acc: 0.8826\n",
      "Epoch 27/80\n",
      "202/202 [==============================] - 3s 15ms/step - loss: 0.4648 - acc: 0.8986 - val_loss: 0.5337 - val_acc: 0.8930\n",
      "Epoch 28/80\n",
      "202/202 [==============================] - 3s 16ms/step - loss: 0.4179 - acc: 0.9132 - val_loss: 0.4968 - val_acc: 0.9141\n",
      "Epoch 29/80\n",
      "202/202 [==============================] - 3s 15ms/step - loss: 0.3710 - acc: 0.9360 - val_loss: 0.4568 - val_acc: 0.9289\n",
      "Epoch 30/80\n",
      "202/202 [==============================] - 3s 15ms/step - loss: 0.3277 - acc: 0.9470 - val_loss: 0.4239 - val_acc: 0.9323\n",
      "Epoch 31/80\n",
      "202/202 [==============================] - 3s 15ms/step - loss: 0.2840 - acc: 0.9574 - val_loss: 0.3810 - val_acc: 0.9393\n",
      "Epoch 32/80\n",
      "202/202 [==============================] - 3s 15ms/step - loss: 0.2447 - acc: 0.9633 - val_loss: 0.3526 - val_acc: 0.9433\n",
      "Epoch 33/80\n",
      "202/202 [==============================] - 3s 15ms/step - loss: 0.2091 - acc: 0.9687 - val_loss: 0.3233 - val_acc: 0.9470\n",
      "Epoch 34/80\n",
      "202/202 [==============================] - 3s 15ms/step - loss: 0.1778 - acc: 0.9738 - val_loss: 0.3018 - val_acc: 0.9501\n",
      "Epoch 35/80\n",
      "202/202 [==============================] - 3s 15ms/step - loss: 0.1514 - acc: 0.9787 - val_loss: 0.2781 - val_acc: 0.9522\n",
      "Epoch 36/80\n",
      "202/202 [==============================] - 3s 15ms/step - loss: 0.1286 - acc: 0.9812 - val_loss: 0.2634 - val_acc: 0.9544\n",
      "Epoch 37/80\n",
      "202/202 [==============================] - 3s 15ms/step - loss: 0.1095 - acc: 0.9848 - val_loss: 0.2491 - val_acc: 0.9565\n",
      "Epoch 38/80\n",
      "202/202 [==============================] - 3s 15ms/step - loss: 0.0939 - acc: 0.9862 - val_loss: 0.2359 - val_acc: 0.9579\n",
      "Epoch 39/80\n",
      "202/202 [==============================] - 3s 15ms/step - loss: 0.0810 - acc: 0.9880 - val_loss: 0.2264 - val_acc: 0.9602\n",
      "Epoch 40/80\n",
      "202/202 [==============================] - 3s 15ms/step - loss: 0.0702 - acc: 0.9911 - val_loss: 0.2194 - val_acc: 0.9623\n",
      "Epoch 41/80\n",
      "202/202 [==============================] - 3s 15ms/step - loss: 0.0610 - acc: 0.9932 - val_loss: 0.2125 - val_acc: 0.9643\n",
      "Epoch 42/80\n",
      "202/202 [==============================] - 3s 15ms/step - loss: 0.0536 - acc: 0.9948 - val_loss: 0.2047 - val_acc: 0.9652\n",
      "Epoch 43/80\n",
      "202/202 [==============================] - 3s 15ms/step - loss: 0.0470 - acc: 0.9963 - val_loss: 0.1977 - val_acc: 0.9661\n",
      "Epoch 44/80\n",
      "202/202 [==============================] - 3s 15ms/step - loss: 0.0415 - acc: 0.9969 - val_loss: 0.1945 - val_acc: 0.9671\n",
      "Epoch 45/80\n",
      "202/202 [==============================] - 3s 16ms/step - loss: 0.0365 - acc: 0.9978 - val_loss: 0.1915 - val_acc: 0.9680\n",
      "Epoch 46/80\n",
      "202/202 [==============================] - 3s 16ms/step - loss: 0.0327 - acc: 0.9983 - val_loss: 0.1862 - val_acc: 0.9675\n",
      "Epoch 47/80\n",
      "202/202 [==============================] - 3s 16ms/step - loss: 0.0292 - acc: 0.9987 - val_loss: 0.1843 - val_acc: 0.9680\n",
      "Epoch 48/80\n",
      "202/202 [==============================] - 3s 15ms/step - loss: 0.0263 - acc: 0.9991 - val_loss: 0.1824 - val_acc: 0.9685\n",
      "Epoch 49/80\n",
      "202/202 [==============================] - 3s 16ms/step - loss: 0.0238 - acc: 0.9993 - val_loss: 0.1801 - val_acc: 0.9687\n",
      "Epoch 50/80\n",
      "202/202 [==============================] - 3s 16ms/step - loss: 0.0214 - acc: 0.9994 - val_loss: 0.1776 - val_acc: 0.9690\n",
      "Epoch 51/80\n",
      "202/202 [==============================] - 3s 16ms/step - loss: 0.0195 - acc: 0.9995 - val_loss: 0.1770 - val_acc: 0.9692\n",
      "Epoch 52/80\n",
      "202/202 [==============================] - 3s 15ms/step - loss: 0.0178 - acc: 0.9996 - val_loss: 0.1757 - val_acc: 0.9692\n",
      "Epoch 53/80\n",
      "202/202 [==============================] - 3s 15ms/step - loss: 0.0162 - acc: 0.9996 - val_loss: 0.1741 - val_acc: 0.9694\n",
      "Epoch 54/80\n",
      "202/202 [==============================] - 3s 15ms/step - loss: 0.0150 - acc: 0.9997 - val_loss: 0.1731 - val_acc: 0.9692\n",
      "Epoch 55/80\n",
      "202/202 [==============================] - 3s 15ms/step - loss: 0.0137 - acc: 0.9998 - val_loss: 0.1724 - val_acc: 0.9696\n",
      "Epoch 56/80\n",
      "202/202 [==============================] - 3s 16ms/step - loss: 0.0127 - acc: 0.9997 - val_loss: 0.1719 - val_acc: 0.9696\n",
      "Epoch 57/80\n",
      "202/202 [==============================] - 3s 16ms/step - loss: 0.0117 - acc: 0.9998 - val_loss: 0.1714 - val_acc: 0.9697\n",
      "Epoch 58/80\n",
      "202/202 [==============================] - 3s 15ms/step - loss: 0.0110 - acc: 0.9998 - val_loss: 0.1709 - val_acc: 0.9697\n",
      "Epoch 59/80\n",
      "202/202 [==============================] - 3s 15ms/step - loss: 0.0104 - acc: 0.9998 - val_loss: 0.1706 - val_acc: 0.9697\n",
      "Epoch 60/80\n",
      "202/202 [==============================] - 3s 15ms/step - loss: 0.0096 - acc: 0.9998 - val_loss: 0.1704 - val_acc: 0.9697\n",
      "Epoch 61/80\n",
      "202/202 [==============================] - 3s 16ms/step - loss: 0.0091 - acc: 0.9998 - val_loss: 0.1703 - val_acc: 0.9697\n"
     ]
    },
    {
     "name": "stdout",
     "output_type": "stream",
     "text": [
      "Epoch 62/80\n",
      "202/202 [==============================] - 3s 15ms/step - loss: 0.0086 - acc: 0.9998 - val_loss: 0.1697 - val_acc: 0.9699\n",
      "Epoch 63/80\n",
      "202/202 [==============================] - 3s 15ms/step - loss: 0.0081 - acc: 0.9998 - val_loss: 0.1694 - val_acc: 0.9699\n",
      "Epoch 64/80\n",
      "202/202 [==============================] - 3s 16ms/step - loss: 0.0076 - acc: 0.9998 - val_loss: 0.1696 - val_acc: 0.9699\n",
      "Epoch 65/80\n",
      "202/202 [==============================] - 3s 15ms/step - loss: 0.0072 - acc: 0.9998 - val_loss: 0.1697 - val_acc: 0.9699\n",
      "Epoch 66/80\n",
      "202/202 [==============================] - 3s 16ms/step - loss: 0.0068 - acc: 0.9998 - val_loss: 0.1693 - val_acc: 0.9697\n",
      "Epoch 67/80\n",
      "202/202 [==============================] - 3s 15ms/step - loss: 0.0065 - acc: 0.9998 - val_loss: 0.1690 - val_acc: 0.9699\n",
      "Epoch 68/80\n",
      "202/202 [==============================] - 3s 15ms/step - loss: 0.0062 - acc: 0.9998 - val_loss: 0.1687 - val_acc: 0.9699\n",
      "Epoch 69/80\n",
      "202/202 [==============================] - 3s 15ms/step - loss: 0.0059 - acc: 0.9998 - val_loss: 0.1688 - val_acc: 0.9699\n",
      "Epoch 70/80\n",
      "202/202 [==============================] - 3s 15ms/step - loss: 0.0057 - acc: 0.9998 - val_loss: 0.1690 - val_acc: 0.9699\n",
      "Epoch 71/80\n",
      "202/202 [==============================] - 3s 15ms/step - loss: 0.0054 - acc: 0.9998 - val_loss: 0.1696 - val_acc: 0.9697\n",
      "Epoch 72/80\n",
      "202/202 [==============================] - 3s 15ms/step - loss: 0.0051 - acc: 0.9998 - val_loss: 0.1696 - val_acc: 0.9697\n",
      "Epoch 73/80\n",
      "202/202 [==============================] - 3s 15ms/step - loss: 0.0050 - acc: 0.9998 - val_loss: 0.1696 - val_acc: 0.9697\n",
      "Epoch 74/80\n",
      "202/202 [==============================] - 3s 15ms/step - loss: 0.0047 - acc: 0.9998 - val_loss: 0.1695 - val_acc: 0.9696\n",
      "Epoch 75/80\n",
      "202/202 [==============================] - 3s 15ms/step - loss: 0.0045 - acc: 0.9998 - val_loss: 0.1697 - val_acc: 0.9696\n",
      "Epoch 76/80\n",
      "202/202 [==============================] - 3s 15ms/step - loss: 0.0044 - acc: 0.9998 - val_loss: 0.1698 - val_acc: 0.9696\n",
      "Epoch 77/80\n",
      "202/202 [==============================] - 3s 15ms/step - loss: 0.0042 - acc: 0.9998 - val_loss: 0.1698 - val_acc: 0.9696\n",
      "Epoch 78/80\n",
      "202/202 [==============================] - 3s 15ms/step - loss: 0.0040 - acc: 0.9998 - val_loss: 0.1700 - val_acc: 0.9696\n",
      "Epoch 79/80\n",
      "202/202 [==============================] - 3s 15ms/step - loss: 0.0039 - acc: 0.9998 - val_loss: 0.1701 - val_acc: 0.9697\n",
      "Epoch 80/80\n",
      "202/202 [==============================] - 3s 15ms/step - loss: 0.0038 - acc: 0.9999 - val_loss: 0.1703 - val_acc: 0.9699\n"
     ]
    }
   ],
   "source": [
    "history = model.fit(X_train, np.array(y_train), batch_size=32, epochs=80, validation_split=0.1, verbose=1)"
   ]
  },
  {
   "cell_type": "markdown",
   "metadata": {},
   "source": [
    "### Train Acc and Val Acc."
   ]
  },
  {
   "cell_type": "code",
   "execution_count": 36,
   "metadata": {},
   "outputs": [
    {
     "data": {
      "image/png": "[encoded data removed]",
      "text/plain": [
       "<Figure size 1008x504 with 1 Axes>"
      ]
     },
     "metadata": {},
     "output_type": "display_data"
    }
   ],
   "source": [
    "hist = pd.DataFrame(history.history)\n",
    "plt.figure(figsize=(14,7))\n",
    "plt.plot(hist[\"acc\"])\n",
    "plt.plot(hist[\"val_acc\"])\n",
    "plt.show()"
   ]
  },
  {
   "cell_type": "markdown",
   "metadata": {},
   "source": [
    "### Classification Metrics."
   ]
  },
  {
   "cell_type": "code",
   "execution_count": 39,
   "metadata": {},
   "outputs": [
    {
     "name": "stdout",
     "output_type": "stream",
     "text": [
      "              precision    recall  f1-score   support\n",
      "\n",
      "           0       0.96      1.00      0.98      4497\n",
      "           1       0.98      0.93      0.95        55\n",
      "           2       0.00      0.00      0.00         2\n",
      "           3       1.00      1.00      1.00        10\n",
      "           4       1.00      0.95      0.97        92\n",
      "           5       1.00      0.87      0.93        70\n",
      "           6       0.83      0.28      0.42        85\n",
      "           8       0.99      0.89      0.94       210\n",
      "           9       1.00      0.75      0.85        59\n",
      "          10       1.00      0.92      0.96        95\n",
      "          11       1.00      0.92      0.96       115\n",
      "          12       1.00      1.00      1.00         9\n",
      "          13       1.00      0.99      1.00       117\n",
      "          14       1.00      1.00      1.00       312\n",
      "          15       1.00      0.41      0.58        17\n",
      "          16       1.00      0.96      0.98        26\n",
      "          17       1.00      0.86      0.93       102\n",
      "          18       1.00      1.00      1.00         8\n",
      "          19       1.00      1.00      1.00        31\n",
      "          20       1.00      1.00      1.00        16\n",
      "          21       1.00      1.00      1.00         9\n",
      "          22       1.00      0.92      0.96        48\n",
      "          23       1.00      1.00      1.00        60\n",
      "          24       1.00      0.91      0.95       205\n",
      "\n",
      "    accuracy                           0.97      6250\n",
      "   macro avg       0.95      0.86      0.89      6250\n",
      "weighted avg       0.97      0.97      0.97      6250\n",
      "\n"
     ]
    },
    {
     "name": "stderr",
     "output_type": "stream",
     "text": [
      "/home/akshaj/anaconda3/envs/nlp/lib/python3.6/site-packages/sklearn/metrics/classification.py:1437: UndefinedMetricWarning: Precision and F-score are ill-defined and being set to 0.0 in labels with no predicted samples.\n",
      "  'precision', 'predicted', average, warn_for)\n",
      "/home/akshaj/anaconda3/envs/nlp/lib/python3.6/site-packages/sklearn/metrics/classification.py:1437: UndefinedMetricWarning: Precision and F-score are ill-defined and being set to 0.0 in labels with no predicted samples.\n",
      "  'precision', 'predicted', average, warn_for)\n",
      "/home/akshaj/anaconda3/envs/nlp/lib/python3.6/site-packages/sklearn/metrics/classification.py:1437: UndefinedMetricWarning: Precision and F-score are ill-defined and being set to 0.0 in labels with no predicted samples.\n",
      "  'precision', 'predicted', average, warn_for)\n"
     ]
    }
   ],
   "source": [
    "y_pred = model.predict(X_test)\n",
    "y_pred = np.argmax(y_pred, axis=-1)\n",
    "y_t = np.array(np.argmax(y_test, axis=-1))\n",
    "\n",
    "print(metrics.flat_classification_report(y_t, y_pred))"
   ]
  },
  {
   "cell_type": "markdown",
   "metadata": {},
   "source": [
    "### Try out the model"
   ]
  },
  {
   "cell_type": "code",
   "execution_count": 40,
   "metadata": {},
   "outputs": [
    {
     "name": "stdout",
     "output_type": "stream",
     "text": [
      "Word : Predicted : Actual\n",
      "\n",
      "'HER2                     : B-Protein      : B-Protein'\n",
      "'over-expression          : B-MPA          : B-MPA'\n",
      "'is                       : O              : O'\n",
      "'related                  : O              : O'\n",
      "'with                     : I-Interaction  : I-Interaction'\n",
      "'a                        : O              : O'\n",
      "'poor                     : O              : O'\n",
      "'prognosis                : O              : O'\n",
      "'in                       : I-Reg          : I-Reg'\n",
      "'patients                 : O              : O'\n",
      "'with                     : I-Interaction  : I-Interaction'\n",
      "'invasive                 : B-Disease      : B-Disease'\n",
      "'breast                   : B-Disease      : B-Disease'\n",
      "'cancer                   : B-Disease      : B-Disease'\n",
      "'tumors                   : I-CPA          : I-CPA'\n",
      "'Clinical                 : O              : O'\n",
      "'associations             : O              : O'\n",
      "'have                     : B-PosReg       : B-PosReg'\n",
      "'reported                 : B-Reg          : B-Reg'\n",
      "'that                     : O              : O'\n",
      "'somatic                  : B-CPA          : B-CPA'\n",
      "'mutations                : B-Var          : B-Var'\n",
      "'of                       : O              : O'\n",
      "'p53                      : B-Gene         : B-Gene'\n",
      "'more                     : B-PosReg       : B-PosReg'\n",
      "'frequently               : O              : O'\n",
      "'detected                 : O              : O'\n",
      "'in                       : I-Reg          : I-Reg'\n",
      "'cases                    : B-Reg          : B-Reg'\n",
      "'of                       : O              : O'\n",
      "'sporadic                 : O              : O'\n",
      "'breast                   : B-Disease      : B-Disease'\n",
      "'cancer                   : B-Disease      : B-Disease'\n",
      "'of                       : O              : O'\n",
      "'the                      : O              : O'\n",
      "'HER2                     : B-Protein      : B-Protein'\n",
      "'subtypes                 : O              : O'\n",
      "'besides                  : O              : O'\n",
      "'a                        : O              : O'\n",
      "'high                     : B-MPA          : B-MPA'\n",
      "'percentage               : O              : O'\n",
      "'of                       : O              : O'\n",
      "'HER2-amplifying          : O              : O'\n",
      "'tumors                   : I-CPA          : I-CPA'\n",
      "'carry                    : O              : O'\n",
      "'germline                 : B-Var          : B-Var'\n",
      "'mutations                : B-Var          : B-Var'\n",
      "'of                       : O              : O'\n",
      "'p53                      : B-Gene         : B-Gene'\n",
      "'The                      : O              : O'\n",
      "'mechanisms               : B-Reg          : B-Reg'\n",
      "'responsible              : B-Reg          : B-Reg'\n",
      "'for                      : O              : O'\n",
      "'the                      : O              : O'\n",
      "'acquisition              : O              : O'\n",
      "'of                       : O              : O'\n",
      "'oncogenic                : B-CPA          : B-CPA'\n",
      "'functions                : I-MPA          : I-MPA'\n",
      "'of                       : O              : O'\n",
      "'p53                      : B-Gene         : B-Gene'\n",
      "'mutant                   : B-Var          : B-Var'\n",
      "'proteins                 : B-Protein      : B-Protein'\n",
      "'(mtp53)                  : O              : O'\n",
      "'known                    : O              : O'\n",
      "'as                       : O              : O'\n",
      "'Gain                     : B-PosReg       : B-PosReg'\n",
      "'of                       : O              : O'\n",
      "'Function                 : O              : O'\n",
      "'(GOF)                    : O              : O'\n",
      "'over                     : B-PosReg       : B-PosReg'\n",
      "'HER2                     : B-Protein      : B-Protein'\n",
      "'expression               : B-MPA          : B-MPA'\n",
      "'have                     : B-PosReg       : B-PosReg'\n",
      "'not                      : B-NegReg       : B-NegReg'\n",
      "'been                     : O              : O'\n",
      "'reported                 : B-Reg          : B-Reg'\n",
      "'The                      : O              : O'\n",
      "'objective                : O              : O'\n",
      "'of                       : O              : O'\n",
      "'this                     : O              : O'\n",
      "'study                    : O              : O'\n",
      "'was                      : O              : O'\n",
      "'to                       : I-Reg          : I-Reg'\n",
      "'evaluate                 : O              : O'\n",
      "'a                        : O              : O'\n",
      "'possible                 : O              : O'\n",
      "'relationship             : O              : O'\n",
      "'between                  : O              : O'\n",
      "'p53                      : B-Gene         : B-Gene'\n",
      "'mutants                  : B-Var          : B-Var'\n",
      "'and                      : O              : O'\n",
      "'HER2                     : B-Protein      : B-Protein'\n",
      "'regulation               : B-MPA          : B-MPA'\n",
      "'METHODS                  : O              : O'\n",
      "'HER2                     : B-Protein      : B-Protein'\n",
      "'expression               : B-MPA          : B-MPA'\n",
      "'(transcription           : O              : O'\n",
      "'and                      : O              : O'\n",
      "'protein)                 : O              : O'\n",
      "'as                       : O              : O'\n",
      "'well                     : O              : O'\n",
      "'as                       : O              : O'\n",
      "'HER2                     : B-Protein      : B-Protein'\n",
      "'protein                  : B-MPA          : B-MPA'\n",
      "'stabilization            : O              : O'\n",
      "'have                     : B-PosReg       : B-PosReg'\n",
      "'been                     : O              : O'\n",
      "'evaluated                : O              : O'\n",
      "'after                    : O              : O'\n",
      "'inducing                 : B-PosReg       : B-PosReg'\n",
      "'or                       : O              : O'\n",
      "'silencing                : I-Var          : I-Var'\n",
      "'of                       : O              : O'\n",
      "'p53                      : B-Gene         : B-Gene'\n",
      "\"mutants'                 : O              : O\"\n",
      "'expression               : B-MPA          : B-MPA'\n",
      "'in                       : I-Reg          : I-Reg'\n",
      "'cell                     : B-CPA          : B-CPA'\n",
      "'lines                    : O              : O'\n",
      "'Finally                  : O              : O'\n",
      "'we                       : O              : O'\n",
      "'evaluated                : O              : O'\n",
      "'the                      : O              : O'\n",
      "'interaction              : B-Interaction  : B-Interaction'\n",
      "'of                       : O              : O'\n",
      "'the                      : O              : O'\n",
      "'p53                      : B-Gene         : B-Gene'\n",
      "'mutants                  : B-Var          : B-Var'\n",
      "'over                     : B-PosReg       : B-PosReg'\n",
      "'the                      : O              : O'\n",
      "'HER2                     : B-Protein      : B-Protein'\n",
      "'receptor                 : I-Protein      : I-Protein'\n",
      "'promoter                 : O              : O'\n",
      "'RESULTS                  : O              : O'\n",
      "'Higher                   : O              : B-PosReg'\n",
      "'HER2                     : B-Protein      : B-Protein'\n",
      "'expression               : B-MPA          : B-MPA'\n",
      "'in                       : I-Reg          : I-Reg'\n",
      "'cell                     : B-CPA          : B-CPA'\n",
      "'lines                    : O              : O'\n",
      "'harboring                : O              : O'\n",
      "'endogenous               : B-Var          : B-Var'\n",
      "'mtp53                    : O              : B-Var'\n",
      "'compared                 : O              : O'\n",
      "'with                     : I-Interaction  : I-Interaction'\n",
      "'wt                       : O              : O'\n",
      "'or                       : O              : O'\n",
      "'null                     : B-Var          : B-Var'\n",
      "'expression               : B-MPA          : B-MPA'\n",
      "'of                       : O              : O'\n",
      "'p53                      : B-Gene         : B-Gene'\n",
      "'cell                     : B-CPA          : B-CPA'\n",
      "'lines                    : O              : O'\n",
      "'Transfection             : O              : O'\n",
      "'of                       : O              : O'\n",
      "'p53                      : B-Gene         : B-Gene'\n",
      "'mutants                  : B-Var          : B-Var'\n",
      "'(R248Q                   : O              : O'\n",
      "'and                      : O              : O'\n",
      "'R273C)                   : O              : O'\n",
      "'in                       : I-Reg          : I-Reg'\n",
      "'cell                     : B-CPA          : B-CPA'\n",
      "'lines                    : O              : O'\n",
      "'increased                : B-PosReg       : B-PosReg'\n",
      "'the                      : O              : O'\n",
      "'expression               : B-MPA          : B-MPA'\n",
      "'of                       : O              : O'\n",
      "'HER2                     : B-Protein      : B-Protein'\n",
      "'Silencing                : O              : O'\n",
      "'of                       : O              : O'\n",
      "'p53                      : B-Gene         : B-Gene'\n",
      "'mutants                  : B-Var          : B-Var'\n",
      "'decrease                 : B-NegReg       : B-NegReg'\n",
      "'HER2                     : B-Protein      : B-Protein'\n",
      "'expression               : B-MPA          : B-MPA'\n",
      "'The                      : O              : O'\n",
      "'p53                      : B-Gene         : B-Gene'\n",
      "'mutants                  : B-Var          : B-Var'\n",
      "'R248Q                    : O              : B-Var'\n",
      "'and                      : O              : O'\n",
      "'R273C                    : O              : B-Var'\n",
      "'significantly            : O              : O'\n",
      "'increase                 : B-PosReg       : B-PosReg'\n",
      "'the                      : O              : O'\n",
      "'luciferase               : B-Enzyme       : B-Enzyme'\n",
      "'activity                 : I-CPA          : I-CPA'\n",
      "'on                       : O              : O'\n",
      "'the                      : O              : O'\n",
      "'HER2                     : B-Protein      : B-Protein'\n",
      "'promoter                 : O              : O'\n",
      "'and                      : O              : O'\n",
      "'both                     : O              : O'\n",
      "'mutants                  : B-Var          : B-Var'\n",
      "'also                     : O              : O'\n",
      "'promote                  : B-PosReg       : B-PosReg'\n",
      "'acetylation              : B-MPA          : B-MPA'\n",
      "'of                       : O              : O'\n",
      "'H3                       : B-Protein      : B-Protein'\n",
      "'and                      : O              : O'\n",
      "'H4                       : O              : B-Protein'\n",
      "'histones                 : O              : I-Protein'\n",
      "'binding                  : B-Interaction  : B-Interaction'\n",
      "'in                       : I-Reg          : I-Reg'\n",
      "'it                       : O              : O'\n",
      "'CONCLUSIONS              : O              : O'\n",
      "'These                    : O              : O'\n",
      "'findings                 : O              : O'\n",
      "'show                     : O              : O'\n",
      "'for                      : O              : O'\n",
      "'the                      : O              : O'\n",
      "'first                    : O              : O'\n",
      "'time                     : O              : O'\n",
      "'that                     : O              : O'\n",
      "'p53                      : B-Gene         : B-Gene'\n",
      "'mutants                  : B-Var          : B-Var'\n",
      "'induce                   : B-PosReg       : B-PosReg'\n",
      "'over-expression          : B-MPA          : B-MPA'\n",
      "'of                       : O              : O'\n",
      "'HER2                     : B-Protein      : B-Protein'\n",
      "'at                       : O              : O'\n",
      "'transcriptional          : B-MPA          : B-MPA'\n",
      "'level                    : I-MPA          : I-MPA'\n",
      "'of                       : O              : O'\n",
      "'the                      : O              : O'\n",
      "'HER2                     : B-Protein      : B-Protein'\n",
      "'protein                  : B-MPA          : B-MPA'\n",
      "'Our                      : O              : O'\n",
      "'results                  : B-Reg          : B-Reg'\n",
      "'could                    : O              : O'\n",
      "'have                     : B-PosReg       : B-PosReg'\n",
      "'clinical                 : O              : O'\n",
      "'implications             : O              : O'\n",
      "'in                       : I-Reg          : I-Reg'\n",
      "'breast                   : B-Disease      : B-Disease'\n",
      "'cancer                   : B-Disease      : B-Disease'\n",
      "'and                      : O              : O'\n",
      "'other                    : O              : O'\n",
      "'types                    : O              : O'\n",
      "'of                       : O              : O'\n",
      "'cancer                   : B-Disease      : B-Disease'\n",
      "'where                    : O              : O'\n",
      "'HER2                     : B-Protein      : B-Protein'\n",
      "'is                       : O              : O'\n",
      "'over-expressed           : O              : O'\n",
      "'and                      : O              : O'\n",
      "'used                     : O              : O'\n",
      "'as                       : O              : O'\n",
      "'a                        : O              : O'\n",
      "'therapy                  : O              : O'\n",
      "'target                   : O              : O'\n"
     ]
    }
   ],
   "source": [
    "i = 24\n",
    "y_pred = model.predict(np.array([X_test[i]]))\n",
    "y_pred = np.argmax(y_pred, axis=-1)\n",
    "y_t = np.array(np.argmax(y_test[i], axis=-1))\n",
    "print(\"Word : Predicted : Actual\\n\")\n",
    "\n",
    "for w, pred, actual in zip(X_test[i], y_pred[0], y_t):\n",
    "    pprint(\"{:25}: {:15}: {}\".format(words[w], tags[pred], tags[actual]))"
   ]
  }
 ],
 "metadata": {
  "kernelspec": {
   "display_name": "Python 3",
   "language": "python",
   "name": "python3"
  },
  "language_info": {
   "codemirror_mode": {
    "name": "ipython",
    "version": 3
   },
   "file_extension": ".py",
   "mimetype": "text/x-python",
   "name": "python",
   "nbconvert_exporter": "python",
   "pygments_lexer": "ipython3",
   "version": "3.6.8"
  }
 },
 "nbformat": 4,
 "nbformat_minor": 2
}
