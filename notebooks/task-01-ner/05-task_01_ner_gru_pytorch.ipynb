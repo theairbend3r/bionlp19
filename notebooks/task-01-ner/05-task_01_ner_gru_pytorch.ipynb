{
 "cells": [
  {
   "cell_type": "markdown",
   "metadata": {},
   "source": [
    "# [Task 1] Named Entity Recognition  |  GRU  |  PyTorch"
   ]
  },
  {
   "cell_type": "markdown",
   "metadata": {},
   "source": [
    "Import Libraries."
   ]
  },
  {
   "cell_type": "code",
   "execution_count": 1,
   "metadata": {},
   "outputs": [],
   "source": [
    "import re\n",
    "import os\n",
    "import json\n",
    "import numpy as np\n",
    "import pandas as pd\n",
    "import seaborn as sns\n",
    "from pprint import pprint\n",
    "import matplotlib.pyplot as plt\n",
    "from collections import Counter\n",
    "from pandas.io.json import json_normalize\n",
    "\n",
    "import torch\n",
    "import torch.nn as nn\n",
    "import torch.optim as optim\n",
    "import torch.nn.functional as F\n",
    "from torch.nn.utils.rnn import pad_sequence\n",
    "from torch.utils.data import Dataset, DataLoader\n",
    "\n",
    "from sklearn_crfsuite import metrics\n",
    "\n",
    "from sklearn.model_selection import train_test_split\n",
    "from sklearn.metrics import classification_report, confusion_matrix"
   ]
  },
  {
   "cell_type": "code",
   "execution_count": 2,
   "metadata": {},
   "outputs": [],
   "source": [
    "%matplotlib inline\n",
    "sns.set_style(\"dark\")"
   ]
  },
  {
   "cell_type": "markdown",
   "metadata": {},
   "source": [
    "## Util"
   ]
  },
  {
   "cell_type": "markdown",
   "metadata": {},
   "source": [
    "Function to read json files."
   ]
  },
  {
   "cell_type": "code",
   "execution_count": 3,
   "metadata": {},
   "outputs": [],
   "source": [
    "def read_json(path):\n",
    "    file = json.loads(open(path).read())\n",
    "    \n",
    "    return file"
   ]
  },
  {
   "cell_type": "markdown",
   "metadata": {},
   "source": [
    "Function to extract words from text based on the indices."
   ]
  },
  {
   "cell_type": "code",
   "execution_count": 4,
   "metadata": {},
   "outputs": [],
   "source": [
    "def extract_word(begin, end, txt):\n",
    "    return txt[begin:end]"
   ]
  },
  {
   "cell_type": "code",
   "execution_count": 5,
   "metadata": {},
   "outputs": [],
   "source": [
    "base_dir = \"../../data/AGAC_training-annotations/AGAC_training/json/\""
   ]
  },
  {
   "cell_type": "markdown",
   "metadata": {},
   "source": [
    "## Prepare Data"
   ]
  },
  {
   "cell_type": "markdown",
   "metadata": {},
   "source": [
    "BIO labelling of data.  "
   ]
  },
  {
   "cell_type": "code",
   "execution_count": 6,
   "metadata": {},
   "outputs": [],
   "source": [
    "word_label_dict = {}\n",
    "\n",
    "    \n",
    "for f in os.listdir(base_dir):\n",
    "    file = read_json(base_dir + f)\n",
    "    # Extract the document ID from the file name\n",
    "    doc_id = \"\".join(re.findall(r'\\d', f))\n",
    "    txt = file['text']\n",
    "\n",
    "\n",
    "    for i in range(len(file['denotations'])):\n",
    "        b = file['denotations'][i]['span']['begin']\n",
    "        e = file['denotations'][i]['span']['end']\n",
    "        word = extract_word(b, e, txt)\n",
    "        word_split = word.split(' ')\n",
    "        obj = file['denotations'][i]['obj']\n",
    "\n",
    "        # If length of word (after splitting on \" \") is more than 2\n",
    "        # Put 'B/I' labels\n",
    "        if len(word_split) == 2:\n",
    "            b_word = word_split[0]\n",
    "            i_word = word_split[-1]\n",
    "            b_obj = \"B-\" + obj\n",
    "            i_obj = \"I-\" + obj\n",
    "            word_label_dict[i_word] = i_obj\n",
    "            word_label_dict[b_word] = b_obj\n",
    "\n",
    "        # If length of word (after splitting on \" \") is equal to 1\n",
    "        # Put a 'B' label\n",
    "        else:\n",
    "            b_word = word_split[0]\n",
    "            b_obj = \"B-\" + obj\n",
    "\n",
    "            word_label_dict[b_word] = b_obj"
   ]
  },
  {
   "cell_type": "markdown",
   "metadata": {},
   "source": [
    "Clean the data and put the label 'O' where necessary."
   ]
  },
  {
   "cell_type": "code",
   "execution_count": 7,
   "metadata": {},
   "outputs": [],
   "source": [
    "final_list = []\n",
    "\n",
    "for f in os.listdir(base_dir):\n",
    "    file = read_json(base_dir + f)\n",
    "    doc_id = \"\".join(re.findall(r'\\d', f))\n",
    "    txt = file['text']\n",
    "\n",
    "    # Clean the text data\n",
    "    txt = re.sub(r'\\n', \" \", txt)\n",
    "    txt = re.sub(r'\\.', \"\", txt)\n",
    "    txt = re.sub(r',', \"\", txt)\n",
    "    txt = re.sub(r':', \"\", txt)\n",
    "\n",
    "\n",
    "    txt_split = txt.split(\" \")\n",
    "\n",
    "    # Put a label 'O' for words that do not appear\n",
    "    # in word_label_dict\n",
    "    for w in txt_split:\n",
    "        if w in word_label_dict.keys():\n",
    "            final_list.append((doc_id, w, word_label_dict[w]))\n",
    "        else:\n",
    "            final_list.append((doc_id, w, \"O\"))"
   ]
  },
  {
   "cell_type": "code",
   "execution_count": 8,
   "metadata": {},
   "outputs": [],
   "source": [
    "data_df = pd.DataFrame(final_list, columns=['doc_id', 'word', 'obj'])"
   ]
  },
  {
   "cell_type": "code",
   "execution_count": 9,
   "metadata": {},
   "outputs": [
    {
     "data": {
      "text/html": [
       "<div>\n",
       "<style scoped>\n",
       "    .dataframe tbody tr th:only-of-type {\n",
       "        vertical-align: middle;\n",
       "    }\n",
       "\n",
       "    .dataframe tbody tr th {\n",
       "        vertical-align: top;\n",
       "    }\n",
       "\n",
       "    .dataframe thead th {\n",
       "        text-align: right;\n",
       "    }\n",
       "</style>\n",
       "<table border=\"1\" class=\"dataframe\">\n",
       "  <thead>\n",
       "    <tr style=\"text-align: right;\">\n",
       "      <th></th>\n",
       "      <th>doc_id</th>\n",
       "      <th>word</th>\n",
       "      <th>obj</th>\n",
       "    </tr>\n",
       "  </thead>\n",
       "  <tbody>\n",
       "    <tr>\n",
       "      <th>0</th>\n",
       "      <td>30442766</td>\n",
       "      <td>LZTR1</td>\n",
       "      <td>B-Gene</td>\n",
       "    </tr>\n",
       "    <tr>\n",
       "      <th>1</th>\n",
       "      <td>30442766</td>\n",
       "      <td>is</td>\n",
       "      <td>O</td>\n",
       "    </tr>\n",
       "    <tr>\n",
       "      <th>2</th>\n",
       "      <td>30442766</td>\n",
       "      <td>a</td>\n",
       "      <td>O</td>\n",
       "    </tr>\n",
       "    <tr>\n",
       "      <th>3</th>\n",
       "      <td>30442766</td>\n",
       "      <td>regulator</td>\n",
       "      <td>O</td>\n",
       "    </tr>\n",
       "    <tr>\n",
       "      <th>4</th>\n",
       "      <td>30442766</td>\n",
       "      <td>of</td>\n",
       "      <td>O</td>\n",
       "    </tr>\n",
       "  </tbody>\n",
       "</table>\n",
       "</div>"
      ],
      "text/plain": [
       "     doc_id       word     obj\n",
       "0  30442766      LZTR1  B-Gene\n",
       "1  30442766         is       O\n",
       "2  30442766          a       O\n",
       "3  30442766  regulator       O\n",
       "4  30442766         of       O"
      ]
     },
     "execution_count": 9,
     "metadata": {},
     "output_type": "execute_result"
    }
   ],
   "source": [
    "data_df.head()"
   ]
  },
  {
   "cell_type": "markdown",
   "metadata": {},
   "source": [
    "## EDA"
   ]
  },
  {
   "cell_type": "markdown",
   "metadata": {},
   "source": [
    "### Count of words/obj per document."
   ]
  },
  {
   "cell_type": "code",
   "execution_count": 10,
   "metadata": {},
   "outputs": [
    {
     "data": {
      "text/html": [
       "<div>\n",
       "<style scoped>\n",
       "    .dataframe tbody tr th:only-of-type {\n",
       "        vertical-align: middle;\n",
       "    }\n",
       "\n",
       "    .dataframe tbody tr th {\n",
       "        vertical-align: top;\n",
       "    }\n",
       "\n",
       "    .dataframe thead th {\n",
       "        text-align: right;\n",
       "    }\n",
       "</style>\n",
       "<table border=\"1\" class=\"dataframe\">\n",
       "  <thead>\n",
       "    <tr style=\"text-align: right;\">\n",
       "      <th></th>\n",
       "      <th>word</th>\n",
       "      <th>obj</th>\n",
       "    </tr>\n",
       "    <tr>\n",
       "      <th>doc_id</th>\n",
       "      <th></th>\n",
       "      <th></th>\n",
       "    </tr>\n",
       "  </thead>\n",
       "  <tbody>\n",
       "    <tr>\n",
       "      <th>16371368</th>\n",
       "      <td>307</td>\n",
       "      <td>307</td>\n",
       "    </tr>\n",
       "    <tr>\n",
       "      <th>17435236</th>\n",
       "      <td>229</td>\n",
       "      <td>229</td>\n",
       "    </tr>\n",
       "    <tr>\n",
       "      <th>18031991</th>\n",
       "      <td>235</td>\n",
       "      <td>235</td>\n",
       "    </tr>\n",
       "    <tr>\n",
       "      <th>18594199</th>\n",
       "      <td>189</td>\n",
       "      <td>189</td>\n",
       "    </tr>\n",
       "    <tr>\n",
       "      <th>19338054</th>\n",
       "      <td>265</td>\n",
       "      <td>265</td>\n",
       "    </tr>\n",
       "  </tbody>\n",
       "</table>\n",
       "</div>"
      ],
      "text/plain": [
       "          word  obj\n",
       "doc_id             \n",
       "16371368   307  307\n",
       "17435236   229  229\n",
       "18031991   235  235\n",
       "18594199   189  189\n",
       "19338054   265  265"
      ]
     },
     "execution_count": 10,
     "metadata": {},
     "output_type": "execute_result"
    }
   ],
   "source": [
    "data_df.groupby('doc_id').count().head()"
   ]
  },
  {
   "cell_type": "markdown",
   "metadata": {},
   "source": [
    "### Stats about the data."
   ]
  },
  {
   "cell_type": "code",
   "execution_count": 11,
   "metadata": {},
   "outputs": [
    {
     "data": {
      "text/html": [
       "<div>\n",
       "<style scoped>\n",
       "    .dataframe tbody tr th:only-of-type {\n",
       "        vertical-align: middle;\n",
       "    }\n",
       "\n",
       "    .dataframe tbody tr th {\n",
       "        vertical-align: top;\n",
       "    }\n",
       "\n",
       "    .dataframe thead th {\n",
       "        text-align: right;\n",
       "    }\n",
       "</style>\n",
       "<table border=\"1\" class=\"dataframe\">\n",
       "  <thead>\n",
       "    <tr style=\"text-align: right;\">\n",
       "      <th></th>\n",
       "      <th>doc_id</th>\n",
       "      <th>word</th>\n",
       "      <th>obj</th>\n",
       "    </tr>\n",
       "  </thead>\n",
       "  <tbody>\n",
       "    <tr>\n",
       "      <th>count</th>\n",
       "      <td>55808</td>\n",
       "      <td>55808</td>\n",
       "      <td>55808</td>\n",
       "    </tr>\n",
       "    <tr>\n",
       "      <th>unique</th>\n",
       "      <td>250</td>\n",
       "      <td>9744</td>\n",
       "      <td>25</td>\n",
       "    </tr>\n",
       "    <tr>\n",
       "      <th>top</th>\n",
       "      <td>28283687</td>\n",
       "      <td>of</td>\n",
       "      <td>O</td>\n",
       "    </tr>\n",
       "    <tr>\n",
       "      <th>freq</th>\n",
       "      <td>513</td>\n",
       "      <td>2206</td>\n",
       "      <td>35790</td>\n",
       "    </tr>\n",
       "  </tbody>\n",
       "</table>\n",
       "</div>"
      ],
      "text/plain": [
       "          doc_id   word    obj\n",
       "count      55808  55808  55808\n",
       "unique       250   9744     25\n",
       "top     28283687     of      O\n",
       "freq         513   2206  35790"
      ]
     },
     "execution_count": 11,
     "metadata": {},
     "output_type": "execute_result"
    }
   ],
   "source": [
    "data_df.describe()"
   ]
  },
  {
   "cell_type": "markdown",
   "metadata": {},
   "source": [
    "### Frequncy of different output labels."
   ]
  },
  {
   "cell_type": "markdown",
   "metadata": {},
   "source": [
    "Frequency with label 'O'."
   ]
  },
  {
   "cell_type": "code",
   "execution_count": 12,
   "metadata": {},
   "outputs": [
    {
     "data": {
      "text/plain": [
       "<matplotlib.axes._subplots.AxesSubplot at 0x7f96cda46860>"
      ]
     },
     "execution_count": 12,
     "metadata": {},
     "output_type": "execute_result"
    },
    {
     "data": {
      "image/png": "[encoded data removed]",
      "text/plain": [
       "<Figure size 432x288 with 1 Axes>"
      ]
     },
     "metadata": {},
     "output_type": "display_data"
    }
   ],
   "source": [
    "sns.countplot(y = \"obj\", data=data_df)"
   ]
  },
  {
   "cell_type": "markdown",
   "metadata": {},
   "source": [
    "Frequency without label 'O'."
   ]
  },
  {
   "cell_type": "code",
   "execution_count": 13,
   "metadata": {},
   "outputs": [
    {
     "data": {
      "text/plain": [
       "<matplotlib.axes._subplots.AxesSubplot at 0x7f96cd9e14e0>"
      ]
     },
     "execution_count": 13,
     "metadata": {},
     "output_type": "execute_result"
    },
    {
     "data": {
      "image/png": "[encoded data removed]",
      "text/plain": [
       "<Figure size 432x288 with 1 Axes>"
      ]
     },
     "metadata": {},
     "output_type": "display_data"
    }
   ],
   "source": [
    "sns.countplot(y = \"obj\", data=data_df[data_df['obj'] != 'O'])"
   ]
  },
  {
   "cell_type": "markdown",
   "metadata": {},
   "source": [
    "## Deep Learning - GRU | PyTorch"
   ]
  },
  {
   "cell_type": "markdown",
   "metadata": {},
   "source": [
    "### Create a list of words and output tags"
   ]
  },
  {
   "cell_type": "code",
   "execution_count": 14,
   "metadata": {},
   "outputs": [
    {
     "name": "stdout",
     "output_type": "stream",
     "text": [
      "Number of words = 9745\n"
     ]
    }
   ],
   "source": [
    "words = list(set(data_df[\"word\"].values))\n",
    "words.insert(0, \"PAD\")\n",
    "n_words = len(words)\n",
    "print(f\"Number of words = {n_words}\")"
   ]
  },
  {
   "cell_type": "code",
   "execution_count": 15,
   "metadata": {},
   "outputs": [
    {
     "name": "stdout",
     "output_type": "stream",
     "text": [
      "Number of tags = 26\n"
     ]
    }
   ],
   "source": [
    "tags = list(set(data_df[\"obj\"].values))\n",
    "tags.insert(0, \"PAD-TAG\")\n",
    "n_tags = len(tags)\n",
    "print(f\"Number of tags = {n_tags}\")"
   ]
  },
  {
   "cell_type": "markdown",
   "metadata": {},
   "source": [
    "### Data Loader"
   ]
  },
  {
   "cell_type": "code",
   "execution_count": 16,
   "metadata": {},
   "outputs": [],
   "source": [
    "class LoadData(Dataset):\n",
    "    \n",
    "    def __init__(self, data):\n",
    "        self.data = data\n",
    "        \n",
    "        agg_func = lambda x: [(w, t) for w, t in zip(x['word'].values.tolist(), x['obj'].values.tolist())]\n",
    "        \n",
    "        self.grouped_data = self.data.groupby('doc_id').apply(agg_func)\n",
    "        self.sentences = [x for x in self.grouped_data]\n",
    "        \n",
    "    def __getitem__(self, index):\n",
    "        return self.sentences[index]\n",
    "        \n",
    "    def __len__ (self):\n",
    "        return len(self.X_data)\n",
    "\n",
    "    \n",
    "\n",
    "\n",
    "class TrainData(Dataset):\n",
    "    \n",
    "    def __init__(self, X_data, y_data, maxlen):\n",
    "        self.X_data = X_data\n",
    "        self.y_data = y_data\n",
    "        self.maxlen = maxlen\n",
    "        \n",
    "        \n",
    "    def __getitem__(self, index):\n",
    "        self.X_data[index] = self.pad_data(self.X_data[index])\n",
    "        self.y_data[index] = self.pad_data(self.y_data[index])\n",
    "\n",
    "        return self.X_data[index], self.y_data[index]\n",
    "        \n",
    "    def __len__ (self):\n",
    "        return len(self.X_data)\n",
    "    \n",
    "    def pad_data(self, s):\n",
    "        padded = np.zeros((self.maxlen,), dtype=np.int64)\n",
    "        \n",
    "        if len(s) > self.maxlen:\n",
    "            padded[:] = s[:self.maxlen]\n",
    "        else: \n",
    "            padded[:len(s)] = s\n",
    "        return padded\n",
    "\n",
    "    \n",
    "class TestData(Dataset):\n",
    "    \n",
    "    def __init__(self, X_data, y_data, maxlen):\n",
    "        self.X_data = X_data\n",
    "        self.y_data = y_data\n",
    "        self.maxlen = maxlen\n",
    "        \n",
    "    def __getitem__(self, index):\n",
    "        self.X_data[index] = self.pad_data(self.X_data[index])\n",
    "        self.y_data[index] = self.pad_data(self.y_data[index])\n",
    "        return self.X_data[index], self.y_data[index]\n",
    "        \n",
    "    def __len__ (self):\n",
    "        return len(self.X_data)\n",
    "    \n",
    "    def pad_data(self, s):\n",
    "        padded = np.zeros((self.maxlen,), dtype=np.int64)\n",
    "\n",
    "        if len(s) > self.maxlen:\n",
    "            padded[:] = s[:self.maxlen]\n",
    "        else: \n",
    "            padded[:len(s)] = s\n",
    "        return padded\n"
   ]
  },
  {
   "cell_type": "code",
   "execution_count": 17,
   "metadata": {},
   "outputs": [],
   "source": [
    "loaded_data = LoadData(data_df)"
   ]
  },
  {
   "cell_type": "markdown",
   "metadata": {},
   "source": [
    "### Extract Sentences"
   ]
  },
  {
   "cell_type": "code",
   "execution_count": 18,
   "metadata": {},
   "outputs": [],
   "source": [
    "sentence_tag_list = loaded_data.sentences"
   ]
  },
  {
   "cell_type": "markdown",
   "metadata": {},
   "source": [
    "### Number of words per sentence."
   ]
  },
  {
   "cell_type": "code",
   "execution_count": 19,
   "metadata": {},
   "outputs": [
    {
     "data": {
      "image/png": "[encoded data removed]",
      "text/plain": [
       "<Figure size 432x288 with 1 Axes>"
      ]
     },
     "metadata": {},
     "output_type": "display_data"
    }
   ],
   "source": [
    "plt.hist([len(s) for s in sentence_tag_list], bins=20)\n",
    "plt.show()"
   ]
  },
  {
   "cell_type": "markdown",
   "metadata": {},
   "source": [
    "Majority of the sentences have 250 words per sentence. So, we'll set the limit for max words as 250. Each sentence will be padded or stripped down to maintain 250 words."
   ]
  },
  {
   "cell_type": "markdown",
   "metadata": {},
   "source": [
    "### Create word/tag to id dictionary."
   ]
  },
  {
   "cell_type": "code",
   "execution_count": 20,
   "metadata": {},
   "outputs": [],
   "source": [
    "word2idx = {w: i for i, w in enumerate(words)}\n",
    "tag2idx = {t: i for i, t in enumerate(tags)}"
   ]
  },
  {
   "cell_type": "code",
   "execution_count": 21,
   "metadata": {},
   "outputs": [
    {
     "name": "stdout",
     "output_type": "stream",
     "text": [
      "ID for the word 'variations' in the dictionary is: 4916\n",
      "ID for the tag 'O' in the dictionary is: 24\n"
     ]
    }
   ],
   "source": [
    "print(f\"ID for the word 'variations' in the dictionary is: {word2idx['variations']}\")\n",
    "print(f\"ID for the tag 'O' in the dictionary is: {tag2idx['O']}\")"
   ]
  },
  {
   "cell_type": "markdown",
   "metadata": {},
   "source": [
    "### Encode sentences."
   ]
  },
  {
   "cell_type": "code",
   "execution_count": 22,
   "metadata": {},
   "outputs": [],
   "source": [
    "X = [[word2idx[w[0]] for w in s] for s in sentence_tag_list]"
   ]
  },
  {
   "cell_type": "markdown",
   "metadata": {},
   "source": [
    "### Encode tags."
   ]
  },
  {
   "cell_type": "code",
   "execution_count": 23,
   "metadata": {},
   "outputs": [],
   "source": [
    "y = [[tag2idx[w[1]] for w in s] for s in sentence_tag_list]"
   ]
  },
  {
   "cell_type": "markdown",
   "metadata": {},
   "source": [
    "### Split data into train and test sets."
   ]
  },
  {
   "cell_type": "code",
   "execution_count": 24,
   "metadata": {},
   "outputs": [],
   "source": [
    "X_train, X_test, y_train, y_test = train_test_split(X, y, test_size=0.1)"
   ]
  },
  {
   "cell_type": "markdown",
   "metadata": {},
   "source": [
    "### Define NN architecture."
   ]
  },
  {
   "cell_type": "code",
   "execution_count": 25,
   "metadata": {},
   "outputs": [],
   "source": [
    "EMBEDDING_SIZE = 128\n",
    "HIDDEN_SIZE = 128\n",
    "LEARNING_RATE = 0.01\n",
    "EPOCHS = 100\n",
    "STACKED_LAYERS = 2\n",
    "SENTENCE_LEN = 256\n",
    "BATCH_SIZE = 32"
   ]
  },
  {
   "cell_type": "code",
   "execution_count": 26,
   "metadata": {},
   "outputs": [],
   "source": [
    "train_data = TrainData(X_train, y_train, maxlen = SENTENCE_LEN)\n",
    "train_loader = DataLoader(train_data, batch_size=BATCH_SIZE)\n",
    "\n",
    "test_data = TestData(X_test, y_test, maxlen = SENTENCE_LEN)\n",
    "test_loader = DataLoader(test_data, batch_size=1)"
   ]
  },
  {
   "cell_type": "code",
   "execution_count": 27,
   "metadata": {},
   "outputs": [],
   "source": [
    "class GRUtagger(nn.Module):\n",
    "    \n",
    "    def __init__(self, embedding_size, vocab_size, hidden_size, target_size):\n",
    "        super(GRUtagger, self).__init__()\n",
    "        \n",
    "        self.word_embeddings = nn.Embedding(num_embeddings = vocab_size+1, embedding_dim = embedding_size)\n",
    "        self.gru = nn.GRU(input_size = embedding_size, hidden_size=hidden_size, batch_first = True, num_layers = STACKED_LAYERS)\n",
    "        self.linear = nn.Linear(in_features = hidden_size, out_features=target_size)\n",
    "\n",
    "    def forward(self, sentence):\n",
    "        embeds = self.word_embeddings(sentence)\n",
    "        gru_out, _ = self.gru(embeds)\n",
    "        linear_out = self.linear(gru_out)\n",
    "        y_out = F.log_softmax(linear_out, dim=1)\n",
    "        return y_out"
   ]
  },
  {
   "cell_type": "code",
   "execution_count": 28,
   "metadata": {},
   "outputs": [
    {
     "name": "stdout",
     "output_type": "stream",
     "text": [
      "tensor([[6674, 3089, 8822,  ...,    0,    0,    0],\n",
      "        [ 567, 9261, 5846,  ...,    0,    0,    0],\n",
      "        [1016, 9497, 8387,  ...,    0,    0,    0],\n",
      "        ...,\n",
      "        [1695,  789, 6714,  ...,    0,    0,    0],\n",
      "        [7769, 8387, 5394,  ...,    0,    0,    0],\n",
      "        [2391, 9261, 6714,  ..., 3624, 1470, 5607]])\n",
      "tensor([[23, 16,  1,  ...,  0,  0,  0],\n",
      "        [24, 24,  1,  ...,  0,  0,  0],\n",
      "        [24, 13, 24,  ...,  0,  0,  0],\n",
      "        ...,\n",
      "        [24, 24, 24,  ...,  0,  0,  0],\n",
      "        [ 8, 24, 18,  ...,  0,  0,  0],\n",
      "        [ 6, 24, 24,  ...,  1, 24, 17]])\n"
     ]
    }
   ],
   "source": [
    "tl = iter(train_loader)\n",
    "i, j = next(tl)\n",
    "print(i)\n",
    "print(j)"
   ]
  },
  {
   "cell_type": "code",
   "execution_count": 29,
   "metadata": {},
   "outputs": [
    {
     "name": "stdout",
     "output_type": "stream",
     "text": [
      "GRUtagger(\n",
      "  (word_embeddings): Embedding(9746, 128)\n",
      "  (gru): GRU(128, 128, num_layers=2, batch_first=True)\n",
      "  (linear): Linear(in_features=128, out_features=26, bias=True)\n",
      ")\n"
     ]
    }
   ],
   "source": [
    "model = GRUtagger(embedding_size=EMBEDDING_SIZE, vocab_size=len(word2idx), hidden_size=HIDDEN_SIZE, target_size=len(tag2idx))\n",
    "print(model)\n",
    "criterion = nn.NLLLoss()\n",
    "optimizer = optim.Adam(model.parameters(), lr = LEARNING_RATE)"
   ]
  },
  {
   "cell_type": "markdown",
   "metadata": {},
   "source": [
    "### Check out the output from the model"
   ]
  },
  {
   "cell_type": "code",
   "execution_count": 30,
   "metadata": {},
   "outputs": [
    {
     "name": "stdout",
     "output_type": "stream",
     "text": [
      "Input:\n",
      "tensor([[6674, 3089, 8822,  ...,    0,    0,    0],\n",
      "        [ 567, 9261, 5846,  ...,    0,    0,    0],\n",
      "        [1016, 9497, 8387,  ...,    0,    0,    0],\n",
      "        ...,\n",
      "        [1695,  789, 6714,  ...,    0,    0,    0],\n",
      "        [7769, 8387, 5394,  ...,    0,    0,    0],\n",
      "        [2391, 9261, 6714,  ..., 3624, 1470, 5607]])\n",
      "\n",
      "Output:\n",
      "tensor([[[-5.5444, -5.5448, -5.6186,  ..., -5.5239, -5.4916, -5.4606],\n",
      "         [-5.5964, -5.5666, -5.6273,  ..., -5.5342, -5.4557, -5.4316],\n",
      "         [-5.5838, -5.5616, -5.6185,  ..., -5.5506, -5.4489, -5.4396],\n",
      "         ...,\n",
      "         [-5.5561, -5.5152, -5.4858,  ..., -5.5916, -5.5509, -5.5265],\n",
      "         [-5.5561, -5.5152, -5.4858,  ..., -5.5916, -5.5509, -5.5265],\n",
      "         [-5.5561, -5.5152, -5.4858,  ..., -5.5916, -5.5509, -5.5265]],\n",
      "\n",
      "        [[-5.5981, -5.5217, -5.5569,  ..., -5.5081, -5.5046, -5.5527],\n",
      "         [-5.5610, -5.4994, -5.5261,  ..., -5.5540, -5.5369, -5.5936],\n",
      "         [-5.5263, -5.5084, -5.5870,  ..., -5.5395, -5.4975, -5.5647],\n",
      "         ...,\n",
      "         [-5.5842, -5.5061, -5.4946,  ..., -5.6250, -5.5816, -5.5380],\n",
      "         [-5.5842, -5.5061, -5.4946,  ..., -5.6250, -5.5816, -5.5380],\n",
      "         [-5.5842, -5.5061, -5.4946,  ..., -5.6250, -5.5816, -5.5380]],\n",
      "\n",
      "        [[-5.5346, -5.5684, -5.5184,  ..., -5.5297, -5.5747, -5.5056],\n",
      "         [-5.5530, -5.5372, -5.5132,  ..., -5.6311, -5.6154, -5.5675],\n",
      "         [-5.5318, -5.4884, -5.5381,  ..., -5.6221, -5.6343, -5.5994],\n",
      "         ...,\n",
      "         [-5.5731, -5.5104, -5.4618,  ..., -5.6219, -5.5554, -5.5394],\n",
      "         [-5.5733, -5.5105, -5.4615,  ..., -5.6220, -5.5555, -5.5392],\n",
      "         [-5.5734, -5.5106, -5.4613,  ..., -5.6221, -5.5556, -5.5390]],\n",
      "\n",
      "        ...,\n",
      "\n",
      "        [[-5.5703, -5.5322, -5.5635,  ..., -5.5057, -5.5251, -5.5124],\n",
      "         [-5.5322, -5.4589, -5.5296,  ..., -5.5715, -5.5848, -5.5534],\n",
      "         [-5.5536, -5.4678, -5.5508,  ..., -5.5946, -5.5848, -5.6166],\n",
      "         ...,\n",
      "         [-5.5617, -5.5035, -5.4894,  ..., -5.5857, -5.5651, -5.5571],\n",
      "         [-5.5617, -5.5035, -5.4894,  ..., -5.5857, -5.5651, -5.5571],\n",
      "         [-5.5617, -5.5035, -5.4894,  ..., -5.5857, -5.5651, -5.5571]],\n",
      "\n",
      "        [[-5.5761, -5.5808, -5.5530,  ..., -5.5046, -5.5425, -5.5899],\n",
      "         [-5.5557, -5.5344, -5.5507,  ..., -5.4949, -5.5580, -5.6219],\n",
      "         [-5.5325, -5.4924, -5.5865,  ..., -5.4989, -5.5794, -5.6360],\n",
      "         ...,\n",
      "         [-5.5843, -5.5141, -5.4875,  ..., -5.6018, -5.5669, -5.5557],\n",
      "         [-5.5843, -5.5141, -5.4875,  ..., -5.6018, -5.5669, -5.5557],\n",
      "         [-5.5843, -5.5141, -5.4875,  ..., -5.6018, -5.5669, -5.5557]],\n",
      "\n",
      "        [[-5.5516, -5.5609, -5.4860,  ..., -5.5886, -5.5499, -5.4586],\n",
      "         [-5.5244, -5.5246, -5.4529,  ..., -5.6257, -5.5659, -5.5254],\n",
      "         [-5.5674, -5.5641, -5.4685,  ..., -5.6300, -5.5265, -5.5897],\n",
      "         ...,\n",
      "         [-5.5064, -5.6583, -5.5227,  ..., -5.4269, -5.6190, -5.5951],\n",
      "         [-5.5413, -5.6115, -5.5102,  ..., -5.4488, -5.6639, -5.6492],\n",
      "         [-5.4894, -5.6501, -5.5207,  ..., -5.4948, -5.6454, -5.6250]]]) torch.Size([32, 256, 26])\n",
      "\n",
      "Output Indices:\n",
      "tensor([[159, 165,  28,  96,  26,  46, 138, 145,  10,  64,  34,   2, 171, 110,\n",
      "          13,  33,  39,  24, 107, 107, 127, 139, 187,  38, 160, 174],\n",
      "        [ 13,  82, 104, 113, 139,  82, 128, 128,  10, 163,  83,   2,  44, 103,\n",
      "         174,  92, 103,  43, 153, 108, 255,  47, 181, 160, 132,  11],\n",
      "        [199,  29, 112,  99,  44, 220, 197,  86, 178, 198,   7,  45, 213, 129,\n",
      "         174, 175,  11, 112, 211,  15, 212,  82, 255, 200,  10, 141],\n",
      "        [ 49,  25,  33, 123,  29, 132, 115,  56,  82,  29, 115, 135,   1,  41,\n",
      "          84, 136,  74,   4, 129, 111, 156,   4, 255,  10,  77,  75],\n",
      "        [ 53,  40,  24,  43,  65,  66, 124, 125,  22, 185,   7,  72, 131, 158,\n",
      "           5,  97,  71,  45, 112, 197, 133, 149, 255, 136,  94,   8],\n",
      "        [ 49, 117, 161,  38, 136,  54, 118, 171,   2, 163,  18,  79, 174,  93,\n",
      "         184,   5, 136,  62, 175,  97, 123, 151, 255,  82,   2, 174],\n",
      "        [ 58,  10,  65, 127,  41,  67,  19,  40, 116,  30,  72,  75,  49,  25,\n",
      "         130,  14, 111,  49,  40,   2, 255,  48, 255,  54,  10, 115],\n",
      "        [196,  11,  50, 230, 158, 150, 248, 140, 227, 229, 193, 233, 228, 165,\n",
      "          62, 107, 159,   7, 179, 117, 252,  68, 141,  45, 163,  80],\n",
      "        [190, 218,  71,   7, 100,  47, 135, 170,  63, 194,  85, 124, 136, 224,\n",
      "         134, 191, 126, 136,  10, 233, 147, 164, 122, 178, 177, 234],\n",
      "        [103,  57, 106,  90,  63,  15,  57,  43,  80,  61,  87,  44,  57,  95,\n",
      "         255,  26,  44,  20,  17,  55,  78,  55, 118,  98,  92,  80],\n",
      "        [ 18, 240, 222,  54, 185, 133, 208, 207, 225, 243,  84,  98, 192, 181,\n",
      "         255, 148, 223, 168, 124, 182, 122, 133, 255, 185, 151,  58],\n",
      "        [ 55, 157,  56, 126,   9, 167,  81, 127, 148, 101, 168,  56, 106,  57,\n",
      "         121,  22, 210,  80,  62, 138, 121,  38, 195, 105, 184, 206],\n",
      "        [223,  47,  55, 151,  49, 131,  55,  83, 211, 165,  40, 139,  56, 202,\n",
      "         166,  20,  83, 168,  99,  52, 167,  66,  27,  90, 219, 189],\n",
      "        [ 45, 161, 206, 116, 187, 200,  59, 132,  90, 211, 233,  91, 204,  35,\n",
      "         229, 194, 188, 145, 218,  16,  13, 127, 141, 158, 192,  97],\n",
      "        [  8, 242, 146,  67, 172, 229,  53,  57, 225, 148, 116, 118, 178, 219,\n",
      "         218,  44, 172, 218, 193, 167,  43,  82,  97, 178, 119, 224],\n",
      "        [216,  49,  91,  35, 107, 254, 189, 178, 233, 208, 176, 161,  22, 135,\n",
      "         210, 196, 159, 213, 218, 145, 157,  23, 232, 230,  34,  57],\n",
      "        [130,  92,   5, 139,  61, 143,  10,  12,   6,  21, 107, 128,  24,  92,\n",
      "           5,  41, 102,  94, 163,   0, 156, 166, 114, 118,  50, 137],\n",
      "        [ 95, 117,  43,  23,  10,  78,  76,  55,   8,  14,  89, 114, 108,  72,\n",
      "         105,  56,  10,  93, 117,  20,  81, 107, 131,  60, 111,   6],\n",
      "        [ 84, 209, 122, 101,  72, 114,  13, 237, 151,  34,  38, 142,  49, 119,\n",
      "          13, 160, 210,  49,  92, 210, 151, 124, 255, 147, 174, 174],\n",
      "        [ 86, 145, 124, 149,  69, 127, 137, 108, 102,  60,  92,   7,  53,  18,\n",
      "          18,  80, 147,  28,  53, 102,  54, 136, 170,  10,  44,  17],\n",
      "        [205,  16,  23,  17, 203, 195, 113, 246,  86, 214,  74,  76, 153, 135,\n",
      "          61, 155, 162, 113, 119, 104, 252,  44, 141,  48,  37, 187],\n",
      "        [ 25,  60,  79, 169, 141, 135,  16,  73, 138, 167,  82, 130, 117,  11,\n",
      "         132, 173,  25,  67,  71,  87, 170, 144, 189, 133,  33, 136],\n",
      "        [179, 221,  99, 231,  10,  38, 194, 199, 211, 219, 238, 112, 127,  38,\n",
      "         242,  64, 226, 118, 196, 188, 255, 239, 254,  34,  49, 165],\n",
      "        [  8,  54, 174, 155,  28,  72,  35,  25,  65,  93, 138,  63,  65,  55,\n",
      "          66,  50,  93, 174,  53, 103, 207, 109, 227,  31, 176, 111],\n",
      "        [ 87,  82,   5,  31, 100,  97,  82, 125,  23,  59,  27, 117, 102,   5,\n",
      "          42,  82, 125, 121, 107,  35,  93,  18, 138,  18, 117,   3],\n",
      "        [178,  69,  63, 186,  14,  25, 144, 169,   1,  11, 131, 192, 136, 178,\n",
      "         216,  32,  50,  55,  40, 210, 181, 110, 255, 126,  43,  81],\n",
      "        [ 38,  58, 158, 121,  72,  17, 151,  31,  96,  42, 185,  90,  80,   4,\n",
      "          18, 163,  89,  81,  58, 133, 255,  38, 194,  96,  89, 106],\n",
      "        [144, 119,  89, 235,  52,  50, 194, 165, 162, 138, 187,  27,  89, 149,\n",
      "         162,  54,  50,  24, 222, 119, 247,   8, 140,  73, 164, 207],\n",
      "        [117, 149,  23,  70, 111, 116, 152, 172,  13,  13,  73, 116,  36,   9,\n",
      "         153, 162,  15,  31, 156,  53, 151,  55, 192, 129, 132, 184],\n",
      "        [ 43,  75,  76,  98, 104, 117,  32, 103,  82,  22,  65,  35,  66,  40,\n",
      "         111,  46, 105, 122, 102,  75, 255,  58, 155,  93,  87,  87],\n",
      "        [104, 164,  53,  12, 136, 150, 119, 136, 125,  41,  75,  74, 101, 106,\n",
      "         186,  10, 203, 207,  15,  49, 144, 109, 255, 174,  15, 131],\n",
      "        [173,  41, 225, 227,  83, 188,   8, 255, 184, 229, 188, 236, 254, 250,\n",
      "          70, 157, 104,  81, 178,  72, 226,  95, 201, 183, 109,   6]])\n",
      "\n",
      "Actual Output:\n",
      "tensor([[23, 16,  1,  ...,  0,  0,  0],\n",
      "        [24, 24,  1,  ...,  0,  0,  0],\n",
      "        [24, 13, 24,  ...,  0,  0,  0],\n",
      "        ...,\n",
      "        [24, 24, 24,  ...,  0,  0,  0],\n",
      "        [ 8, 24, 18,  ...,  0,  0,  0],\n",
      "        [ 6, 24, 24,  ...,  1, 24, 17]]) torch.Size([32, 256])\n",
      "==================================================\n"
     ]
    }
   ],
   "source": [
    "with torch.no_grad():\n",
    "    for x_batch, y_batch in train_loader:\n",
    "               \n",
    "        print(\"Input:\")\n",
    "        print(x_batch)\n",
    "        y_out = model(x_batch)\n",
    "        _, y_out_tags = torch.max(y_out.squeeze(), dim = 1)\n",
    "        \n",
    "        print(\"\\nOutput:\")\n",
    "        print(y_out, y_out.shape)\n",
    "        \n",
    "        print(\"\\nOutput Indices:\")\n",
    "        print(y_out_tags)\n",
    "\n",
    "        print(\"\\nActual Output:\")\n",
    "        print(y_batch, y_batch.shape)\n",
    "        \n",
    "        print(\"=\" * 50)\n",
    "        \n",
    "        break"
   ]
  },
  {
   "cell_type": "markdown",
   "metadata": {},
   "source": [
    "### Train the model."
   ]
  },
  {
   "cell_type": "code",
   "execution_count": 31,
   "metadata": {},
   "outputs": [
    {
     "data": {
      "text/plain": [
       "8"
      ]
     },
     "execution_count": 31,
     "metadata": {},
     "output_type": "execute_result"
    }
   ],
   "source": [
    "PRINT_EVERY = int(len(X_train)/BATCH_SIZE) + 1\n",
    "PRINT_EVERY"
   ]
  },
  {
   "cell_type": "code",
   "execution_count": 32,
   "metadata": {},
   "outputs": [
    {
     "name": "stdout",
     "output_type": "stream",
     "text": [
      "Training Started.\n",
      "Epoch 1/100 : loss = 0.6936585307121277\n",
      "Epoch 2/100 : loss = 0.609076201915741\n",
      "Epoch 3/100 : loss = 0.5659545063972473\n",
      "Epoch 4/100 : loss = 0.5382592082023621\n",
      "Epoch 5/100 : loss = 0.5213684439659119\n",
      "Epoch 6/100 : loss = 0.5095674395561218\n",
      "Epoch 7/100 : loss = 0.503402590751648\n",
      "Epoch 8/100 : loss = 0.49979323148727417\n",
      "Epoch 9/100 : loss = 0.49786651134490967\n",
      "Epoch 10/100 : loss = 0.4965086877346039\n",
      "Epoch 11/100 : loss = 0.49578604102134705\n",
      "Epoch 12/100 : loss = 0.4953031837940216\n",
      "Epoch 13/100 : loss = 0.4950367212295532\n",
      "Epoch 14/100 : loss = 0.4948479235172272\n",
      "Epoch 15/100 : loss = 0.4947544038295746\n",
      "Epoch 16/100 : loss = 0.49468886852264404\n",
      "Epoch 17/100 : loss = 0.494667649269104\n",
      "Epoch 18/100 : loss = 0.4946299195289612\n",
      "Epoch 19/100 : loss = 0.49461233615875244\n",
      "Epoch 20/100 : loss = 0.4945918917655945\n",
      "Epoch 21/100 : loss = 0.4945652186870575\n",
      "Epoch 22/100 : loss = 0.4945884943008423\n",
      "Epoch 23/100 : loss = 0.4945527911186218\n",
      "Epoch 24/100 : loss = 0.49455294013023376\n",
      "Epoch 25/100 : loss = 0.4946027398109436\n",
      "Epoch 26/100 : loss = 0.4945823848247528\n",
      "Epoch 27/100 : loss = 0.49455398321151733\n",
      "Epoch 28/100 : loss = 0.4945332109928131\n",
      "Epoch 29/100 : loss = 0.4944895803928375\n",
      "Epoch 30/100 : loss = 0.49446356296539307\n",
      "Epoch 31/100 : loss = 0.4944749176502228\n",
      "Epoch 32/100 : loss = 0.49446389079093933\n",
      "Epoch 33/100 : loss = 0.4944407641887665\n",
      "Epoch 34/100 : loss = 0.4944465756416321\n",
      "Epoch 35/100 : loss = 0.4944474399089813\n",
      "Epoch 36/100 : loss = 0.4944334328174591\n",
      "Epoch 37/100 : loss = 0.49443161487579346\n",
      "Epoch 38/100 : loss = 0.49443304538726807\n",
      "Epoch 39/100 : loss = 0.49442777037620544\n",
      "Epoch 40/100 : loss = 0.4944380819797516\n",
      "Epoch 41/100 : loss = 0.49444329738616943\n",
      "Epoch 42/100 : loss = 0.494435578584671\n",
      "Epoch 43/100 : loss = 0.49443918466567993\n",
      "Epoch 44/100 : loss = 0.4944498538970947\n",
      "Epoch 45/100 : loss = 0.4944658577442169\n",
      "Epoch 46/100 : loss = 0.4944492280483246\n",
      "Epoch 47/100 : loss = 0.4944384694099426\n",
      "Epoch 48/100 : loss = 0.4944237172603607\n",
      "Epoch 49/100 : loss = 0.49441078305244446\n",
      "Epoch 50/100 : loss = 0.4944112300872803\n",
      "Epoch 51/100 : loss = 0.49442046880722046\n",
      "Epoch 52/100 : loss = 0.49441078305244446\n",
      "Epoch 53/100 : loss = 0.4944014847278595\n",
      "Epoch 54/100 : loss = 0.49440306425094604\n",
      "Epoch 55/100 : loss = 0.49439331889152527\n",
      "Epoch 56/100 : loss = 0.49440184235572815\n",
      "Epoch 57/100 : loss = 0.49440494179725647\n",
      "Epoch 58/100 : loss = 0.49439501762390137\n",
      "Epoch 59/100 : loss = 0.4944007992744446\n",
      "Epoch 60/100 : loss = 0.49439898133277893\n",
      "Epoch 61/100 : loss = 0.4943934679031372\n",
      "Epoch 62/100 : loss = 0.4943869709968567\n",
      "Epoch 63/100 : loss = 0.4943797290325165\n",
      "Epoch 64/100 : loss = 0.4943843483924866\n",
      "Epoch 65/100 : loss = 0.4943912625312805\n",
      "Epoch 66/100 : loss = 0.49439090490341187\n",
      "Epoch 67/100 : loss = 0.4943823218345642\n",
      "Epoch 68/100 : loss = 0.4943867027759552\n",
      "Epoch 69/100 : loss = 0.49439647793769836\n",
      "Epoch 70/100 : loss = 0.49439674615859985\n",
      "Epoch 71/100 : loss = 0.49438947439193726\n",
      "Epoch 72/100 : loss = 0.49440640211105347\n",
      "Epoch 73/100 : loss = 0.4944112002849579\n",
      "Epoch 74/100 : loss = 0.4943934381008148\n",
      "Epoch 75/100 : loss = 0.49439898133277893\n",
      "Epoch 76/100 : loss = 0.4944048225879669\n",
      "Epoch 77/100 : loss = 0.4943983852863312\n",
      "Epoch 78/100 : loss = 0.4943963587284088\n",
      "Epoch 79/100 : loss = 0.4943827688694\n",
      "Epoch 80/100 : loss = 0.49437418580055237\n",
      "Epoch 81/100 : loss = 0.4943685531616211\n",
      "Epoch 82/100 : loss = 0.4943741261959076\n",
      "Epoch 83/100 : loss = 0.4943746328353882\n",
      "Epoch 84/100 : loss = 0.49437496066093445\n",
      "Epoch 85/100 : loss = 0.49437186121940613\n",
      "Epoch 86/100 : loss = 0.4943649470806122\n",
      "Epoch 87/100 : loss = 0.494366317987442\n",
      "Epoch 88/100 : loss = 0.4943702816963196\n",
      "Epoch 89/100 : loss = 0.4943710267543793\n",
      "Epoch 90/100 : loss = 0.4943724572658539\n",
      "Epoch 91/100 : loss = 0.49437692761421204\n",
      "Epoch 92/100 : loss = 0.49438193440437317\n",
      "Epoch 93/100 : loss = 0.49438172578811646\n",
      "Epoch 94/100 : loss = 0.4943750500679016\n",
      "Epoch 95/100 : loss = 0.4943714141845703\n",
      "Epoch 96/100 : loss = 0.49437427520751953\n",
      "Epoch 97/100 : loss = 0.49437299370765686\n",
      "Epoch 98/100 : loss = 0.4943714141845703\n",
      "Epoch 99/100 : loss = 0.4943716824054718\n",
      "Epoch 100/100 : loss = 0.4943818151950836\n",
      "Training Completed.\n"
     ]
    }
   ],
   "source": [
    "print(\"Training Started.\")\n",
    "loss_list = []\n",
    "for e in range(1, EPOCHS+1):\n",
    "    model.train()\n",
    "    running_loss = 0.0\n",
    "    \n",
    "#     for x_batch, y_batch in train_loader:\n",
    "    for i, data in enumerate(train_loader):    \n",
    "        x_batch, y_batch = data\n",
    "        \n",
    "        model.zero_grad()\n",
    "        \n",
    "        y_pred = model(x_batch)\n",
    "        y_batch = y_batch.view(-1)\n",
    "        y_pred = y_pred.view(-1, len(tag2idx))\n",
    "\n",
    "        loss = criterion(y_pred, y_batch)\n",
    "        loss.backward()\n",
    "        optimizer.step()\n",
    "        \n",
    "        _, y_pred_tags = torch.max(y_pred.squeeze(), dim = 1)\n",
    "        \n",
    "        running_loss += loss.item()\n",
    "        \n",
    "        \n",
    "        if (i % PRINT_EVERY == 0):\n",
    "            loss_list.append(running_loss/PRINT_EVERY)\n",
    "            print(f'Epoch {e}/{EPOCHS} : loss = {running_loss/PRINT_EVERY}')\n",
    "        \n",
    "print(\"Training Completed.\")"
   ]
  },
  {
   "cell_type": "markdown",
   "metadata": {},
   "source": [
    "### Train Acc and Val Acc."
   ]
  },
  {
   "cell_type": "code",
   "execution_count": 33,
   "metadata": {},
   "outputs": [
    {
     "data": {
      "image/png": "[encoded data removed]",
      "text/plain": [
       "<Figure size 432x288 with 1 Axes>"
      ]
     },
     "metadata": {},
     "output_type": "display_data"
    }
   ],
   "source": [
    "import matplotlib.pyplot as plt\n",
    "\n",
    "plt.plot(loss_list, c=\"blue\", label =\"Loss\")\n",
    "plt.xlabel(\"Epochs\")\n",
    "plt.ylabel(\"Value\")\n",
    "plt.legend()\n",
    "plt.show()\n"
   ]
  },
  {
   "cell_type": "markdown",
   "metadata": {},
   "source": [
    "### Classification Metrics."
   ]
  },
  {
   "cell_type": "code",
   "execution_count": 34,
   "metadata": {},
   "outputs": [
    {
     "name": "stdout",
     "output_type": "stream",
     "text": [
      "              precision    recall  f1-score   support\n",
      "\n",
      "           0       1.00      1.00      1.00      1011\n",
      "           1       0.92      0.68      0.78       149\n",
      "           2       0.94      0.86      0.90       146\n",
      "           3       0.30      0.72      0.43        43\n",
      "           4       0.00      0.00      0.00         0\n",
      "           5       0.23      1.00      0.37        15\n",
      "           6       0.99      0.88      0.93       180\n",
      "           7       0.46      0.83      0.59        46\n",
      "           8       0.91      0.92      0.92        90\n",
      "           9       0.31      1.00      0.48        11\n",
      "          10       0.95      0.72      0.82       101\n",
      "          11       0.94      1.00      0.97        82\n",
      "          12       0.14      0.47      0.22        19\n",
      "          13       0.53      1.00      0.70        39\n",
      "          14       0.09      0.86      0.16        14\n",
      "          15       0.97      0.86      0.91       223\n",
      "          16       0.99      0.98      0.98       129\n",
      "          17       1.00      1.00      1.00       326\n",
      "          18       0.89      0.81      0.85       102\n",
      "          19       0.04      0.80      0.07         5\n",
      "          20       0.80      0.99      0.89        67\n",
      "          21       0.12      1.00      0.22         7\n",
      "          22       0.01      0.33      0.02         3\n",
      "          23       0.51      0.29      0.37       132\n",
      "          24       0.99      0.83      0.90      3454\n",
      "          25       0.18      1.00      0.31         6\n",
      "\n",
      "    accuracy                           0.86      6400\n",
      "   macro avg       0.59      0.80      0.61      6400\n",
      "weighted avg       0.95      0.86      0.89      6400\n",
      "\n"
     ]
    },
    {
     "name": "stderr",
     "output_type": "stream",
     "text": [
      "/home/akshaj/anaconda3/envs/nlp/lib/python3.6/site-packages/sklearn/metrics/classification.py:1439: UndefinedMetricWarning: Recall and F-score are ill-defined and being set to 0.0 in labels with no true samples.\n",
      "  'recall', 'true', average, warn_for)\n",
      "/home/akshaj/anaconda3/envs/nlp/lib/python3.6/site-packages/sklearn/metrics/classification.py:1439: UndefinedMetricWarning: Recall and F-score are ill-defined and being set to 0.0 in labels with no true samples.\n",
      "  'recall', 'true', average, warn_for)\n",
      "/home/akshaj/anaconda3/envs/nlp/lib/python3.6/site-packages/sklearn/metrics/classification.py:1439: UndefinedMetricWarning: Recall and F-score are ill-defined and being set to 0.0 in labels with no true samples.\n",
      "  'recall', 'true', average, warn_for)\n"
     ]
    }
   ],
   "source": [
    "y_out_tags_list = []\n",
    "with torch.no_grad():\n",
    "    for x_batch, y_batch in test_loader: \n",
    "        y_out = model(x_batch)\n",
    "        _, y_out_tags = torch.max(y_out.squeeze(), dim = 1)\n",
    "        y_out_tags = np.array(y_out_tags)\n",
    "        y_out_tags_list.append(y_out_tags)\n",
    "        \n",
    "        \n",
    "print(metrics.flat_classification_report(y_test, y_out_tags_list))"
   ]
  },
  {
   "cell_type": "markdown",
   "metadata": {},
   "source": [
    "### Try out the model"
   ]
  },
  {
   "cell_type": "code",
   "execution_count": 35,
   "metadata": {},
   "outputs": [],
   "source": [
    "testl = iter(test_loader)"
   ]
  },
  {
   "cell_type": "code",
   "execution_count": 36,
   "metadata": {},
   "outputs": [
    {
     "name": "stdout",
     "output_type": "stream",
     "text": [
      "Word                      : Pred           : Actual\n",
      "\n",
      "'Loss                     : B-NegReg       : B-NegReg'\n",
      "'of                       : O              : O'\n",
      "'Function                 : O              : O'\n",
      "'in                       : I-Reg          : I-Reg'\n",
      "'Zeaxanthin               : I-Enzyme       : O'\n",
      "'Epoxidase                : O              : O'\n",
      "'of                       : O              : O'\n",
      "'Dunaliella               : I-Enzyme       : O'\n",
      "'tertiolecta              : B-Gene         : O'\n",
      "'Caused                   : B-CPA          : O'\n",
      "'by                       : I-Reg          : I-Reg'\n",
      "'a                        : O              : O'\n",
      "'Single                   : O              : O'\n",
      "'Amino                    : I-PosReg       : O'\n",
      "'Acid                     : O              : O'\n",
      "'Mutation                 : B-Var          : B-Var'\n",
      "'within                   : O              : O'\n",
      "'the                      : O              : O'\n",
      "'Substrate-Binding        : I-Protein      : O'\n",
      "'Site                     : B-CPA          : O'\n",
      "'The                      : O              : O'\n",
      "'zea1                     : I-PosReg       : O'\n",
      "'mutant                   : B-Var          : B-Var'\n",
      "'of                       : O              : O'\n",
      "'marine                   : B-Gene         : O'\n",
      "'microalga                : O              : O'\n",
      "'Dunaliella               : I-Enzyme       : O'\n",
      "'tertiolecta              : B-Protein      : O'\n",
      "'accumulates              : O              : O'\n",
      "'zeaxanthin               : B-Protein      : B-Enzyme'\n",
      "'under                    : O              : O'\n",
      "'normal                   : B-Pathway      : B-Pathway'\n",
      "'growth                   : I-CPA          : I-CPA'\n",
      "'conditions               : O              : O'\n",
      "'and                      : O              : O'\n",
      "'its                      : O              : O'\n",
      "'phenotype                : I-Disease      : I-Disease'\n",
      "'has                      : O              : O'\n",
      "'been                     : O              : O'\n",
      "'speculated               : O              : O'\n",
      "'to                       : I-Reg          : I-Reg'\n",
      "'be                       : O              : O'\n",
      "'related                  : O              : O'\n",
      "'to                       : I-Reg          : I-Reg'\n",
      "'zeaxanthin               : B-Protein      : B-Enzyme'\n",
      "'epoxidase                : I-Var          : I-Enzyme'\n",
      "'(ZEP)                    : O              : O'\n",
      "'In                       : O              : O'\n",
      "'this                     : O              : O'\n",
      "'study                    : O              : O'\n",
      "'we                       : O              : O'\n",
      "'isolated                 : B-Disease      : B-Disease'\n",
      "'the                      : O              : O'\n",
      "'ZEP                      : O              : B-Enzyme'\n",
      "'gene                     : I-Gene         : I-Gene'\n",
      "'from                     : I-Reg          : I-Reg'\n",
      "'both                     : O              : O'\n",
      "'wild-type                : O              : O'\n",
      "'D                        : O              : O'\n",
      "'tertiolecta              : I-NegReg       : O'\n",
      "'and                      : O              : O'\n",
      "'the                      : O              : O'\n",
      "'mutant                   : B-Var          : B-Var'\n",
      "'We                       : O              : O'\n",
      "'found                    : B-Reg          : B-Reg'\n",
      "'that                     : O              : O'\n",
      "'the                      : O              : O'\n",
      "'zea1                     : I-PosReg       : O'\n",
      "'mutant                   : B-Var          : B-Var'\n",
      "'has                      : O              : O'\n",
      "'a                        : O              : O'\n",
      "'point                    : B-Var          : B-Var'\n",
      "'mutation                 : B-Var          : B-Var'\n",
      "'of                       : O              : O'\n",
      "'the                      : O              : O'\n",
      "'1337th                   : O              : O'\n",
      "'nucleotide               : O              : O'\n",
      "'of                       : O              : O'\n",
      "'the                      : O              : O'\n",
      "'ZEP                      : O              : B-Enzyme'\n",
      "'sequence                 : O              : O'\n",
      "'(a                       : B-CPA          : O'\n",
      "'change                   : I-MPA          : I-MPA'\n",
      "'from                     : I-Reg          : I-Reg'\n",
      "'guanine                  : I-Var          : B-MPA'\n",
      "'to                       : I-Reg          : I-Reg'\n",
      "'adenine)                 : B-CPA          : O'\n",
      "'resulting                : B-Reg          : B-Reg'\n",
      "'in                       : I-Reg          : I-Reg'\n",
      "'a                        : O              : O'\n",
      "'change                   : I-MPA          : I-MPA'\n",
      "'of                       : O              : O'\n",
      "'glycine                  : I-Var          : B-MPA'\n",
      "'to                       : I-Reg          : I-Reg'\n",
      "'aspartate                : O              : O'\n",
      "'in                       : I-Reg          : I-Reg'\n",
      "'a                        : O              : O'\n",
      "'highly                   : O              : O'\n",
      "'conserved                : B-MPA          : B-MPA'\n",
      "'region                   : O              : O'\n",
      "'in                       : I-Reg          : I-Reg'\n",
      "'the                      : O              : O'\n",
      "'catalytic                : B-Var          : B-Var'\n",
      "'domain                   : I-MPA          : I-MPA'\n",
      "'Similar                  : O              : O'\n",
      "'expression               : B-MPA          : B-MPA'\n",
      "'levels                   : B-MPA          : B-MPA'\n",
      "'of                       : O              : O'\n",
      "'ZEP                      : O              : B-Enzyme'\n",
      "'mRNA                     : B-MPA          : B-MPA'\n",
      "'and                      : O              : O'\n",
      "'protein                  : B-MPA          : B-MPA'\n",
      "'in                       : I-Reg          : I-Reg'\n",
      "'both                     : O              : O'\n",
      "'wild-type                : O              : O'\n",
      "'and                      : O              : O'\n",
      "'zea1                     : I-Protein      : O'\n",
      "'were                     : O              : O'\n",
      "'confirmed                : O              : O'\n",
      "'by                       : I-Reg          : I-Reg'\n",
      "'using                    : O              : O'\n",
      "'qRT-PCR                  : I-Enzyme       : O'\n",
      "'and                      : O              : O'\n",
      "'western                  : O              : O'\n",
      "'blot                     : O              : O'\n",
      "'analysis                 : O              : O'\n",
      "'respectively             : O              : O'\n",
      "'Additionally             : O              : O'\n",
      "'the                      : O              : O'\n",
      "'enzyme                   : B-Enzyme       : B-Enzyme'\n",
      "'activity                 : I-CPA          : I-CPA'\n",
      "'analysis                 : O              : O'\n",
      "'of                       : O              : O'\n",
      "'ZEPs                     : I-NegReg       : O'\n",
      "'in                       : I-Reg          : I-Reg'\n",
      "'the                      : O              : O'\n",
      "'presence                 : B-Var          : B-Var'\n",
      "'of                       : O              : O'\n",
      "'cofactors                : O              : O'\n",
      "'showed                   : O              : O'\n",
      "'that                     : O              : O'\n",
      "'the                      : O              : O'\n",
      "'inactivation             : B-PosReg       : B-PosReg'\n",
      "'of                       : O              : O'\n",
      "'ZEP                      : B-CPA          : B-Enzyme'\n",
      "'in                       : I-Reg          : I-Reg'\n",
      "'zea1                     : I-Protein      : O'\n",
      "'was                      : O              : O'\n",
      "'not                      : B-NegReg       : B-NegReg'\n",
      "'caused                   : B-Reg          : B-Reg'\n",
      "'by                       : I-Reg          : I-Reg'\n",
      "'deficiency               : I-Protein      : B-Var'\n",
      "'in                       : I-Reg          : I-Reg'\n",
      "'the                      : O              : O'\n",
      "'levels                   : B-MPA          : B-MPA'\n",
      "'of                       : O              : O'\n",
      "'cofactors                : O              : O'\n",
      "'From                     : O              : O'\n",
      "'the                      : O              : O'\n",
      "'predicted                : O              : O'\n",
      "'three-dimensional        : O              : O'\n",
      "'ZEP                      : O              : B-Enzyme'\n",
      "'structure                : I-MPA          : I-MPA'\n",
      "'of                       : O              : O'\n",
      "'zea1                     : I-Protein      : O'\n",
      "'we                       : O              : O'\n",
      "'observed                 : O              : O'\n",
      "'a                        : O              : O'\n",
      "'conformational           : I-Var          : B-MPA'\n",
      "'change                   : I-MPA          : I-MPA'\n",
      "'on                       : O              : O'\n",
      "'the                      : O              : O'\n",
      "'substrate-binding        : I-Interaction  : O'\n",
      "'site                     : I-MPA          : I-MPA'\n",
      "'in                       : I-Reg          : I-Reg'\n",
      "'the                      : O              : O'\n",
      "'ZEP                      : O              : B-Enzyme'\n",
      "'A                        : O              : O'\n",
      "'comparative              : O              : O'\n",
      "'analysis                 : O              : O'\n",
      "'of                       : O              : O'\n",
      "'the                      : O              : O'\n",
      "'ZEP                      : O              : B-Enzyme'\n",
      "'structures               : O              : O'\n",
      "'suggested                : O              : O'\n",
      "'that                     : O              : O'\n",
      "'the                      : O              : O'\n",
      "'conformational           : B-MPA          : B-MPA'\n",
      "'change                   : I-MPA          : I-MPA'\n",
      "'induced                  : B-Reg          : B-Reg'\n",
      "'by                       : I-Reg          : I-Reg'\n",
      "'a                        : O              : O'\n",
      "'single                   : B-Var          : B-Var'\n",
      "'amino                    : O              : O'\n",
      "'acid                     : I-MPA          : I-MPA'\n",
      "'mutation                 : B-Var          : B-Var'\n",
      "'might                    : O              : O'\n",
      "'impact                   : B-NegReg       : B-NegReg'\n",
      "'the                      : O              : O'\n",
      "'interaction              : B-Interaction  : B-Interaction'\n",
      "'between                  : B-CPA          : O'\n",
      "'the                      : O              : O'\n",
      "'substrate                : B-MPA          : B-MPA'\n",
      "'and                      : O              : O'\n",
      "'substrate-binding        : I-Interaction  : O'\n",
      "'site                     : I-Pathway      : I-MPA'\n",
      "'resulting                : B-Reg          : B-Reg'\n",
      "'in                       : I-Reg          : I-Reg'\n",
      "'loss                     : B-NegReg       : B-NegReg'\n",
      "'of                       : O              : O'\n",
      "'zeaxanthin               : I-Protein      : B-Enzyme'\n",
      "'epoxidase                : I-Var          : I-Enzyme'\n",
      "'function                 : B-MPA          : B-MPA'\n",
      "'PAD                      : PAD-TAG        : PAD-TAG'\n",
      "'PAD                      : PAD-TAG        : PAD-TAG'\n",
      "'PAD                      : PAD-TAG        : PAD-TAG'\n",
      "'PAD                      : PAD-TAG        : PAD-TAG'\n",
      "'PAD                      : PAD-TAG        : PAD-TAG'\n",
      "'PAD                      : PAD-TAG        : PAD-TAG'\n",
      "'PAD                      : PAD-TAG        : PAD-TAG'\n",
      "'PAD                      : PAD-TAG        : PAD-TAG'\n",
      "'PAD                      : PAD-TAG        : PAD-TAG'\n",
      "'PAD                      : PAD-TAG        : PAD-TAG'\n",
      "'PAD                      : PAD-TAG        : PAD-TAG'\n",
      "'PAD                      : PAD-TAG        : PAD-TAG'\n",
      "'PAD                      : PAD-TAG        : PAD-TAG'\n",
      "'PAD                      : PAD-TAG        : PAD-TAG'\n",
      "'PAD                      : PAD-TAG        : PAD-TAG'\n",
      "'PAD                      : PAD-TAG        : PAD-TAG'\n",
      "'PAD                      : PAD-TAG        : PAD-TAG'\n",
      "'PAD                      : PAD-TAG        : PAD-TAG'\n",
      "'PAD                      : PAD-TAG        : PAD-TAG'\n",
      "'PAD                      : PAD-TAG        : PAD-TAG'\n",
      "'PAD                      : PAD-TAG        : PAD-TAG'\n",
      "'PAD                      : PAD-TAG        : PAD-TAG'\n",
      "'PAD                      : PAD-TAG        : PAD-TAG'\n",
      "'PAD                      : PAD-TAG        : PAD-TAG'\n",
      "'PAD                      : PAD-TAG        : PAD-TAG'\n",
      "'PAD                      : PAD-TAG        : PAD-TAG'\n",
      "'PAD                      : PAD-TAG        : PAD-TAG'\n",
      "'PAD                      : PAD-TAG        : PAD-TAG'\n",
      "'PAD                      : PAD-TAG        : PAD-TAG'\n",
      "'PAD                      : PAD-TAG        : PAD-TAG'\n",
      "'PAD                      : PAD-TAG        : PAD-TAG'\n",
      "'PAD                      : PAD-TAG        : PAD-TAG'\n",
      "'PAD                      : PAD-TAG        : PAD-TAG'\n",
      "'PAD                      : PAD-TAG        : PAD-TAG'\n",
      "'PAD                      : PAD-TAG        : PAD-TAG'\n",
      "'PAD                      : PAD-TAG        : PAD-TAG'\n",
      "'PAD                      : PAD-TAG        : PAD-TAG'\n",
      "'PAD                      : PAD-TAG        : PAD-TAG'\n",
      "'PAD                      : PAD-TAG        : PAD-TAG'\n",
      "'PAD                      : PAD-TAG        : PAD-TAG'\n",
      "'PAD                      : PAD-TAG        : PAD-TAG'\n",
      "'PAD                      : PAD-TAG        : PAD-TAG'\n",
      "'PAD                      : PAD-TAG        : PAD-TAG'\n"
     ]
    }
   ],
   "source": [
    "with torch.no_grad():\n",
    "    x_batch, y_batch = next(testl)\n",
    "    y_pred = model(x_batch)\n",
    "    \n",
    "    _, y_pred = torch.max(y_pred.squeeze(), 1)\n",
    "    x_batch = x_batch.squeeze()\n",
    "    y_batch = y_batch.squeeze()\n",
    "    \n",
    "    print('{:26}: {:15}: {}\\n'.format(\"Word\", \"Pred\", \"Actual\"))\n",
    "    \n",
    "    for w, pred, actual in zip(x_batch, y_pred, y_batch):\n",
    "        pprint(\"{:25}: {:15}: {}\".format(words[w.item()], tags[pred], tags[actual.item()]))"
   ]
  }
 ],
 "metadata": {
  "kernelspec": {
   "display_name": "Python 3",
   "language": "python",
   "name": "python3"
  },
  "language_info": {
   "codemirror_mode": {
    "name": "ipython",
    "version": 3
   },
   "file_extension": ".py",
   "mimetype": "text/x-python",
   "name": "python",
   "nbconvert_exporter": "python",
   "pygments_lexer": "ipython3",
   "version": "3.6.8"
  }
 },
 "nbformat": 4,
 "nbformat_minor": 2
}
