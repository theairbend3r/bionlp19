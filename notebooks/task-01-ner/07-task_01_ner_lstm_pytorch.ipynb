{
 "cells": [
  {
   "cell_type": "markdown",
   "metadata": {},
   "source": [
    "# [Task 1] Named Entity Recognition  |  LSTM  |  PyTorch"
   ]
  },
  {
   "cell_type": "markdown",
   "metadata": {},
   "source": [
    "Import Libraries."
   ]
  },
  {
   "cell_type": "code",
   "execution_count": 1,
   "metadata": {},
   "outputs": [],
   "source": [
    "import re\n",
    "import os\n",
    "import json\n",
    "import numpy as np\n",
    "import pandas as pd\n",
    "import seaborn as sns\n",
    "from pprint import pprint\n",
    "import matplotlib.pyplot as plt\n",
    "from collections import Counter\n",
    "from pandas.io.json import json_normalize\n",
    "\n",
    "import torch\n",
    "import torch.nn as nn\n",
    "import torch.optim as optim\n",
    "import torch.nn.functional as F\n",
    "from torch.nn.utils.rnn import pad_sequence\n",
    "from torch.utils.data import Dataset, DataLoader\n",
    "\n",
    "from sklearn_crfsuite import metrics\n",
    "\n",
    "from sklearn.model_selection import train_test_split\n",
    "from sklearn.metrics import classification_report, confusion_matrix"
   ]
  },
  {
   "cell_type": "code",
   "execution_count": 2,
   "metadata": {},
   "outputs": [],
   "source": [
    "%matplotlib inline\n",
    "sns.set_style(\"dark\")"
   ]
  },
  {
   "cell_type": "markdown",
   "metadata": {},
   "source": [
    "## Util"
   ]
  },
  {
   "cell_type": "markdown",
   "metadata": {},
   "source": [
    "Function to read json files."
   ]
  },
  {
   "cell_type": "code",
   "execution_count": 3,
   "metadata": {},
   "outputs": [],
   "source": [
    "def read_json(path):\n",
    "    file = json.loads(open(path).read())\n",
    "    \n",
    "    return file"
   ]
  },
  {
   "cell_type": "markdown",
   "metadata": {},
   "source": [
    "Function to extract words from text based on the indices."
   ]
  },
  {
   "cell_type": "code",
   "execution_count": 4,
   "metadata": {},
   "outputs": [],
   "source": [
    "def extract_word(begin, end, txt):\n",
    "    return txt[begin:end]"
   ]
  },
  {
   "cell_type": "code",
   "execution_count": 5,
   "metadata": {},
   "outputs": [],
   "source": [
    "base_dir = \"../../data/AGAC_training-annotations/AGAC_training/json/\""
   ]
  },
  {
   "cell_type": "markdown",
   "metadata": {},
   "source": [
    "## Prepare Data"
   ]
  },
  {
   "cell_type": "markdown",
   "metadata": {},
   "source": [
    "BIO labelling of data.  "
   ]
  },
  {
   "cell_type": "code",
   "execution_count": 6,
   "metadata": {},
   "outputs": [],
   "source": [
    "word_label_dict = {}\n",
    "\n",
    "    \n",
    "for f in os.listdir(base_dir):\n",
    "    file = read_json(base_dir + f)\n",
    "    # Extract the document ID from the file name\n",
    "    doc_id = \"\".join(re.findall(r'\\d', f))\n",
    "    txt = file['text']\n",
    "\n",
    "\n",
    "    for i in range(len(file['denotations'])):\n",
    "        b = file['denotations'][i]['span']['begin']\n",
    "        e = file['denotations'][i]['span']['end']\n",
    "        word = extract_word(b, e, txt)\n",
    "        word_split = word.split(' ')\n",
    "        obj = file['denotations'][i]['obj']\n",
    "\n",
    "        # If length of word (after splitting on \" \") is more than 2\n",
    "        # Put 'B/I' labels\n",
    "        if len(word_split) == 2:\n",
    "            b_word = word_split[0]\n",
    "            i_word = word_split[-1]\n",
    "            b_obj = \"B-\" + obj\n",
    "            i_obj = \"I-\" + obj\n",
    "            word_label_dict[i_word] = i_obj\n",
    "            word_label_dict[b_word] = b_obj\n",
    "\n",
    "        # If length of word (after splitting on \" \") is equal to 1\n",
    "        # Put a 'B' label\n",
    "        else:\n",
    "            b_word = word_split[0]\n",
    "            b_obj = \"B-\" + obj\n",
    "\n",
    "            word_label_dict[b_word] = b_obj"
   ]
  },
  {
   "cell_type": "markdown",
   "metadata": {},
   "source": [
    "Clean the data and put the label 'O' where necessary."
   ]
  },
  {
   "cell_type": "code",
   "execution_count": 7,
   "metadata": {},
   "outputs": [],
   "source": [
    "final_list = []\n",
    "\n",
    "for f in os.listdir(base_dir):\n",
    "    file = read_json(base_dir + f)\n",
    "    doc_id = \"\".join(re.findall(r'\\d', f))\n",
    "    txt = file['text']\n",
    "\n",
    "    # Clean the text data\n",
    "    txt = re.sub(r'\\n', \" \", txt)\n",
    "    txt = re.sub(r'\\.', \"\", txt)\n",
    "    txt = re.sub(r',', \"\", txt)\n",
    "    txt = re.sub(r':', \"\", txt)\n",
    "\n",
    "\n",
    "    txt_split = txt.split(\" \")\n",
    "\n",
    "    # Put a label 'O' for words that do not appear\n",
    "    # in word_label_dict\n",
    "    for w in txt_split:\n",
    "        if w in word_label_dict.keys():\n",
    "            final_list.append((doc_id, w, word_label_dict[w]))\n",
    "        else:\n",
    "            final_list.append((doc_id, w, \"O\"))"
   ]
  },
  {
   "cell_type": "code",
   "execution_count": 8,
   "metadata": {},
   "outputs": [],
   "source": [
    "data_df = pd.DataFrame(final_list, columns=['doc_id', 'word', 'obj'])"
   ]
  },
  {
   "cell_type": "code",
   "execution_count": 9,
   "metadata": {},
   "outputs": [
    {
     "data": {
      "text/html": [
       "<div>\n",
       "<style scoped>\n",
       "    .dataframe tbody tr th:only-of-type {\n",
       "        vertical-align: middle;\n",
       "    }\n",
       "\n",
       "    .dataframe tbody tr th {\n",
       "        vertical-align: top;\n",
       "    }\n",
       "\n",
       "    .dataframe thead th {\n",
       "        text-align: right;\n",
       "    }\n",
       "</style>\n",
       "<table border=\"1\" class=\"dataframe\">\n",
       "  <thead>\n",
       "    <tr style=\"text-align: right;\">\n",
       "      <th></th>\n",
       "      <th>doc_id</th>\n",
       "      <th>word</th>\n",
       "      <th>obj</th>\n",
       "    </tr>\n",
       "  </thead>\n",
       "  <tbody>\n",
       "    <tr>\n",
       "      <th>0</th>\n",
       "      <td>30442766</td>\n",
       "      <td>LZTR1</td>\n",
       "      <td>B-Gene</td>\n",
       "    </tr>\n",
       "    <tr>\n",
       "      <th>1</th>\n",
       "      <td>30442766</td>\n",
       "      <td>is</td>\n",
       "      <td>O</td>\n",
       "    </tr>\n",
       "    <tr>\n",
       "      <th>2</th>\n",
       "      <td>30442766</td>\n",
       "      <td>a</td>\n",
       "      <td>O</td>\n",
       "    </tr>\n",
       "    <tr>\n",
       "      <th>3</th>\n",
       "      <td>30442766</td>\n",
       "      <td>regulator</td>\n",
       "      <td>O</td>\n",
       "    </tr>\n",
       "    <tr>\n",
       "      <th>4</th>\n",
       "      <td>30442766</td>\n",
       "      <td>of</td>\n",
       "      <td>O</td>\n",
       "    </tr>\n",
       "  </tbody>\n",
       "</table>\n",
       "</div>"
      ],
      "text/plain": [
       "     doc_id       word     obj\n",
       "0  30442766      LZTR1  B-Gene\n",
       "1  30442766         is       O\n",
       "2  30442766          a       O\n",
       "3  30442766  regulator       O\n",
       "4  30442766         of       O"
      ]
     },
     "execution_count": 9,
     "metadata": {},
     "output_type": "execute_result"
    }
   ],
   "source": [
    "data_df.head()"
   ]
  },
  {
   "cell_type": "markdown",
   "metadata": {},
   "source": [
    "## EDA"
   ]
  },
  {
   "cell_type": "markdown",
   "metadata": {},
   "source": [
    "### Count of words/obj per document."
   ]
  },
  {
   "cell_type": "code",
   "execution_count": 10,
   "metadata": {},
   "outputs": [
    {
     "data": {
      "text/html": [
       "<div>\n",
       "<style scoped>\n",
       "    .dataframe tbody tr th:only-of-type {\n",
       "        vertical-align: middle;\n",
       "    }\n",
       "\n",
       "    .dataframe tbody tr th {\n",
       "        vertical-align: top;\n",
       "    }\n",
       "\n",
       "    .dataframe thead th {\n",
       "        text-align: right;\n",
       "    }\n",
       "</style>\n",
       "<table border=\"1\" class=\"dataframe\">\n",
       "  <thead>\n",
       "    <tr style=\"text-align: right;\">\n",
       "      <th></th>\n",
       "      <th>word</th>\n",
       "      <th>obj</th>\n",
       "    </tr>\n",
       "    <tr>\n",
       "      <th>doc_id</th>\n",
       "      <th></th>\n",
       "      <th></th>\n",
       "    </tr>\n",
       "  </thead>\n",
       "  <tbody>\n",
       "    <tr>\n",
       "      <th>16371368</th>\n",
       "      <td>307</td>\n",
       "      <td>307</td>\n",
       "    </tr>\n",
       "    <tr>\n",
       "      <th>17435236</th>\n",
       "      <td>229</td>\n",
       "      <td>229</td>\n",
       "    </tr>\n",
       "    <tr>\n",
       "      <th>18031991</th>\n",
       "      <td>235</td>\n",
       "      <td>235</td>\n",
       "    </tr>\n",
       "    <tr>\n",
       "      <th>18594199</th>\n",
       "      <td>189</td>\n",
       "      <td>189</td>\n",
       "    </tr>\n",
       "    <tr>\n",
       "      <th>19338054</th>\n",
       "      <td>265</td>\n",
       "      <td>265</td>\n",
       "    </tr>\n",
       "  </tbody>\n",
       "</table>\n",
       "</div>"
      ],
      "text/plain": [
       "          word  obj\n",
       "doc_id             \n",
       "16371368   307  307\n",
       "17435236   229  229\n",
       "18031991   235  235\n",
       "18594199   189  189\n",
       "19338054   265  265"
      ]
     },
     "execution_count": 10,
     "metadata": {},
     "output_type": "execute_result"
    }
   ],
   "source": [
    "data_df.groupby('doc_id').count().head()"
   ]
  },
  {
   "cell_type": "markdown",
   "metadata": {},
   "source": [
    "### Stats about the data."
   ]
  },
  {
   "cell_type": "code",
   "execution_count": 11,
   "metadata": {},
   "outputs": [
    {
     "data": {
      "text/html": [
       "<div>\n",
       "<style scoped>\n",
       "    .dataframe tbody tr th:only-of-type {\n",
       "        vertical-align: middle;\n",
       "    }\n",
       "\n",
       "    .dataframe tbody tr th {\n",
       "        vertical-align: top;\n",
       "    }\n",
       "\n",
       "    .dataframe thead th {\n",
       "        text-align: right;\n",
       "    }\n",
       "</style>\n",
       "<table border=\"1\" class=\"dataframe\">\n",
       "  <thead>\n",
       "    <tr style=\"text-align: right;\">\n",
       "      <th></th>\n",
       "      <th>doc_id</th>\n",
       "      <th>word</th>\n",
       "      <th>obj</th>\n",
       "    </tr>\n",
       "  </thead>\n",
       "  <tbody>\n",
       "    <tr>\n",
       "      <th>count</th>\n",
       "      <td>55808</td>\n",
       "      <td>55808</td>\n",
       "      <td>55808</td>\n",
       "    </tr>\n",
       "    <tr>\n",
       "      <th>unique</th>\n",
       "      <td>250</td>\n",
       "      <td>9744</td>\n",
       "      <td>25</td>\n",
       "    </tr>\n",
       "    <tr>\n",
       "      <th>top</th>\n",
       "      <td>28283687</td>\n",
       "      <td>of</td>\n",
       "      <td>O</td>\n",
       "    </tr>\n",
       "    <tr>\n",
       "      <th>freq</th>\n",
       "      <td>513</td>\n",
       "      <td>2206</td>\n",
       "      <td>35790</td>\n",
       "    </tr>\n",
       "  </tbody>\n",
       "</table>\n",
       "</div>"
      ],
      "text/plain": [
       "          doc_id   word    obj\n",
       "count      55808  55808  55808\n",
       "unique       250   9744     25\n",
       "top     28283687     of      O\n",
       "freq         513   2206  35790"
      ]
     },
     "execution_count": 11,
     "metadata": {},
     "output_type": "execute_result"
    }
   ],
   "source": [
    "data_df.describe()"
   ]
  },
  {
   "cell_type": "markdown",
   "metadata": {},
   "source": [
    "### Frequncy of different output labels."
   ]
  },
  {
   "cell_type": "markdown",
   "metadata": {},
   "source": [
    "Frequency with label 'O'."
   ]
  },
  {
   "cell_type": "code",
   "execution_count": 12,
   "metadata": {},
   "outputs": [
    {
     "data": {
      "text/plain": [
       "<matplotlib.axes._subplots.AxesSubplot at 0x7fc8fc7e1668>"
      ]
     },
     "execution_count": 12,
     "metadata": {},
     "output_type": "execute_result"
    },
    {
     "data": {
      "image/png": "[encoded data removed]",
      "text/plain": [
       "<Figure size 432x288 with 1 Axes>"
      ]
     },
     "metadata": {},
     "output_type": "display_data"
    }
   ],
   "source": [
    "sns.countplot(y = \"obj\", data=data_df)"
   ]
  },
  {
   "cell_type": "markdown",
   "metadata": {},
   "source": [
    "Frequency without label 'O'."
   ]
  },
  {
   "cell_type": "code",
   "execution_count": 13,
   "metadata": {},
   "outputs": [
    {
     "data": {
      "text/plain": [
       "<matplotlib.axes._subplots.AxesSubplot at 0x7fc8fc77c208>"
      ]
     },
     "execution_count": 13,
     "metadata": {},
     "output_type": "execute_result"
    },
    {
     "data": {
      "image/png": "[encoded data removed]",
      "text/plain": [
       "<Figure size 432x288 with 1 Axes>"
      ]
     },
     "metadata": {},
     "output_type": "display_data"
    }
   ],
   "source": [
    "sns.countplot(y = \"obj\", data=data_df[data_df['obj'] != 'O'])"
   ]
  },
  {
   "cell_type": "markdown",
   "metadata": {},
   "source": [
    "## Deep Learning - LSTM | PyTorch"
   ]
  },
  {
   "cell_type": "markdown",
   "metadata": {},
   "source": [
    "### Create a list of words and output tags"
   ]
  },
  {
   "cell_type": "code",
   "execution_count": 26,
   "metadata": {},
   "outputs": [
    {
     "name": "stdout",
     "output_type": "stream",
     "text": [
      "Number of words = 9745\n"
     ]
    }
   ],
   "source": [
    "words = list(set(data_df[\"word\"].values))\n",
    "words.insert(0, \"PAD\")\n",
    "n_words = len(words)\n",
    "print(f\"Number of words = {n_words}\")"
   ]
  },
  {
   "cell_type": "code",
   "execution_count": 31,
   "metadata": {},
   "outputs": [
    {
     "name": "stdout",
     "output_type": "stream",
     "text": [
      "Number of tags = 26\n"
     ]
    }
   ],
   "source": [
    "tags = list(set(data_df[\"obj\"].values))\n",
    "tags.insert(0, \"PAD-TAG\")\n",
    "n_tags = len(tags)\n",
    "print(f\"Number of tags = {n_tags}\")"
   ]
  },
  {
   "cell_type": "markdown",
   "metadata": {},
   "source": [
    "### Data Loader"
   ]
  },
  {
   "cell_type": "code",
   "execution_count": 33,
   "metadata": {},
   "outputs": [],
   "source": [
    "class LoadData(Dataset):\n",
    "    \n",
    "    def __init__(self, data):\n",
    "        self.data = data\n",
    "        \n",
    "        agg_func = lambda x: [(w, t) for w, t in zip(x['word'].values.tolist(), x['obj'].values.tolist())]\n",
    "        \n",
    "        self.grouped_data = self.data.groupby('doc_id').apply(agg_func)\n",
    "        self.sentences = [x for x in self.grouped_data]\n",
    "        \n",
    "    def __getitem__(self, index):\n",
    "        return self.sentences[index]\n",
    "        \n",
    "    def __len__ (self):\n",
    "        return len(self.X_data)\n",
    "\n",
    "    \n",
    "\n",
    "\n",
    "class TrainData(Dataset):\n",
    "    \n",
    "    def __init__(self, X_data, y_data, maxlen):\n",
    "        self.X_data = X_data\n",
    "        self.y_data = y_data\n",
    "        self.maxlen = maxlen\n",
    "        \n",
    "        \n",
    "    def __getitem__(self, index):\n",
    "        self.X_data[index] = self.pad_data(self.X_data[index])\n",
    "        self.y_data[index] = self.pad_data(self.y_data[index])\n",
    "\n",
    "        return self.X_data[index], self.y_data[index]\n",
    "        \n",
    "    def __len__ (self):\n",
    "        return len(self.X_data)\n",
    "    \n",
    "    def pad_data(self, s):\n",
    "        padded = np.zeros((self.maxlen,), dtype=np.int64)\n",
    "        \n",
    "        if len(s) > self.maxlen:\n",
    "            padded[:] = s[:self.maxlen]\n",
    "        else: \n",
    "            padded[:len(s)] = s\n",
    "        return padded\n",
    "\n",
    "    \n",
    "class TestData(Dataset):\n",
    "    \n",
    "    def __init__(self, X_data, y_data, maxlen):\n",
    "        self.X_data = X_data\n",
    "        self.y_data = y_data\n",
    "        self.maxlen = maxlen\n",
    "        \n",
    "    def __getitem__(self, index):\n",
    "        self.X_data[index] = self.pad_data(self.X_data[index])\n",
    "        self.y_data[index] = self.pad_data(self.y_data[index])\n",
    "        return self.X_data[index], self.y_data[index]\n",
    "        \n",
    "    def __len__ (self):\n",
    "        return len(self.X_data)\n",
    "    \n",
    "    def pad_data(self, s):\n",
    "        padded = np.zeros((self.maxlen,), dtype=np.int64)\n",
    "\n",
    "        if len(s) > self.maxlen:\n",
    "            padded[:] = s[:self.maxlen]\n",
    "        else: \n",
    "            padded[:len(s)] = s\n",
    "        return padded\n"
   ]
  },
  {
   "cell_type": "code",
   "execution_count": 34,
   "metadata": {},
   "outputs": [],
   "source": [
    "loaded_data = LoadData(data_df)"
   ]
  },
  {
   "cell_type": "markdown",
   "metadata": {},
   "source": [
    "### Extract Sentences"
   ]
  },
  {
   "cell_type": "code",
   "execution_count": 35,
   "metadata": {},
   "outputs": [],
   "source": [
    "sentence_tag_list = loaded_data.sentences"
   ]
  },
  {
   "cell_type": "markdown",
   "metadata": {},
   "source": [
    "### Number of words per sentence."
   ]
  },
  {
   "cell_type": "code",
   "execution_count": 36,
   "metadata": {},
   "outputs": [
    {
     "data": {
      "image/png": "[encoded data removed]",
      "text/plain": [
       "<Figure size 432x288 with 1 Axes>"
      ]
     },
     "metadata": {},
     "output_type": "display_data"
    }
   ],
   "source": [
    "plt.hist([len(s) for s in sentence_tag_list], bins=20)\n",
    "plt.show()"
   ]
  },
  {
   "cell_type": "markdown",
   "metadata": {},
   "source": [
    "Majority of the sentences have 250 words per sentence. So, we'll set the limit for max words as 250. Each sentence will be padded or stripped down to maintain 250 words."
   ]
  },
  {
   "cell_type": "markdown",
   "metadata": {},
   "source": [
    "### Create word/tag to id dictionary."
   ]
  },
  {
   "cell_type": "code",
   "execution_count": 37,
   "metadata": {},
   "outputs": [],
   "source": [
    "word2idx = {w: i for i, w in enumerate(words)}\n",
    "tag2idx = {t: i for i, t in enumerate(tags)}"
   ]
  },
  {
   "cell_type": "code",
   "execution_count": 38,
   "metadata": {},
   "outputs": [
    {
     "name": "stdout",
     "output_type": "stream",
     "text": [
      "ID for the word 'variations' in the dictionary is: 9359\n",
      "ID for the tag 'O' in the dictionary is: 12\n"
     ]
    }
   ],
   "source": [
    "print(f\"ID for the word 'variations' in the dictionary is: {word2idx['variations']}\")\n",
    "print(f\"ID for the tag 'O' in the dictionary is: {tag2idx['O']}\")"
   ]
  },
  {
   "cell_type": "markdown",
   "metadata": {},
   "source": [
    "### Encode sentences."
   ]
  },
  {
   "cell_type": "code",
   "execution_count": 39,
   "metadata": {},
   "outputs": [],
   "source": [
    "X = [[word2idx[w[0]] for w in s] for s in sentence_tag_list]"
   ]
  },
  {
   "cell_type": "markdown",
   "metadata": {},
   "source": [
    "### Encode tags."
   ]
  },
  {
   "cell_type": "code",
   "execution_count": 40,
   "metadata": {},
   "outputs": [],
   "source": [
    "y = [[tag2idx[w[1]] for w in s] for s in sentence_tag_list]"
   ]
  },
  {
   "cell_type": "markdown",
   "metadata": {},
   "source": [
    "### Split data into train and test sets."
   ]
  },
  {
   "cell_type": "code",
   "execution_count": 41,
   "metadata": {},
   "outputs": [],
   "source": [
    "X_train, X_test, y_train, y_test = train_test_split(X, y, test_size=0.1)"
   ]
  },
  {
   "cell_type": "markdown",
   "metadata": {},
   "source": [
    "### Define NN architecture."
   ]
  },
  {
   "cell_type": "code",
   "execution_count": 42,
   "metadata": {},
   "outputs": [],
   "source": [
    "EMBEDDING_SIZE = 128\n",
    "HIDDEN_SIZE = 128\n",
    "LEARNING_RATE = 0.01\n",
    "EPOCHS = 100\n",
    "STACKED_LAYERS = 2\n",
    "SENTENCE_LEN = 256\n",
    "BATCH_SIZE = 32"
   ]
  },
  {
   "cell_type": "code",
   "execution_count": 43,
   "metadata": {},
   "outputs": [],
   "source": [
    "train_data = TrainData(X_train, y_train, maxlen = SENTENCE_LEN)\n",
    "train_loader = DataLoader(train_data, batch_size=BATCH_SIZE)\n",
    "\n",
    "test_data = TestData(X_test, y_test, maxlen = SENTENCE_LEN)\n",
    "test_loader = DataLoader(test_data, batch_size=1)"
   ]
  },
  {
   "cell_type": "code",
   "execution_count": 44,
   "metadata": {},
   "outputs": [],
   "source": [
    "class LSTMtagger(nn.Module):\n",
    "    \n",
    "    def __init__(self, embedding_size, vocab_size, hidden_size, target_size):\n",
    "        super(LSTMtagger, self).__init__()\n",
    "        \n",
    "        self.word_embeddings = nn.Embedding(num_embeddings = vocab_size, embedding_dim = embedding_size)\n",
    "        self.lstm = nn.LSTM(input_size = embedding_size, hidden_size=hidden_size, batch_first = True, num_layers = STACKED_LAYERS)\n",
    "        self.linear = nn.Linear(in_features = hidden_size, out_features=target_size)\n",
    "\n",
    "    def forward(self, sentence):\n",
    "        embeds = self.word_embeddings(sentence)\n",
    "        lstm_out, _ = self.lstm(embeds)\n",
    "        linear_out = self.linear(lstm_out)\n",
    "        y_out = F.log_softmax(linear_out, dim=1)\n",
    "        return y_out"
   ]
  },
  {
   "cell_type": "code",
   "execution_count": 45,
   "metadata": {},
   "outputs": [
    {
     "name": "stdout",
     "output_type": "stream",
     "text": [
      "tensor([[5095, 3689, 6166,  ...,    0,    0,    0],\n",
      "        [8890, 4915, 6166,  ..., 7713, 6602, 2377],\n",
      "        [5632, 5230, 1868,  ...,    0,    0,    0],\n",
      "        ...,\n",
      "        [9081, 4517, 6937,  ...,    0,    0,    0],\n",
      "        [9457, 8600, 9669,  ...,    0,    0,    0],\n",
      "        [8926, 2385, 4650,  ...,    0,    0,    0]])\n",
      "tensor([[12, 19,  3,  ...,  0,  0,  0],\n",
      "        [12, 12,  3,  ..., 12, 12, 12],\n",
      "        [12, 12, 25,  ...,  0,  0,  0],\n",
      "        ...,\n",
      "        [12, 12,  4,  ...,  0,  0,  0],\n",
      "        [10, 19, 13,  ...,  0,  0,  0],\n",
      "        [12,  7, 12,  ...,  0,  0,  0]])\n"
     ]
    }
   ],
   "source": [
    "tl = iter(train_loader)\n",
    "i, j = next(tl)\n",
    "print(i)\n",
    "print(j)"
   ]
  },
  {
   "cell_type": "code",
   "execution_count": 46,
   "metadata": {},
   "outputs": [
    {
     "name": "stdout",
     "output_type": "stream",
     "text": [
      "LSTMtagger(\n",
      "  (word_embeddings): Embedding(9745, 128)\n",
      "  (lstm): LSTM(128, 128, num_layers=2, batch_first=True)\n",
      "  (linear): Linear(in_features=128, out_features=26, bias=True)\n",
      ")\n"
     ]
    }
   ],
   "source": [
    "model = LSTMtagger(embedding_size=EMBEDDING_SIZE, vocab_size=len(word2idx), hidden_size=HIDDEN_SIZE, target_size=len(tag2idx))\n",
    "print(model)\n",
    "criterion = nn.NLLLoss()\n",
    "optimizer = optim.Adam(model.parameters(), lr = LEARNING_RATE)"
   ]
  },
  {
   "cell_type": "markdown",
   "metadata": {},
   "source": [
    "### Check out the output from the model"
   ]
  },
  {
   "cell_type": "code",
   "execution_count": 47,
   "metadata": {},
   "outputs": [
    {
     "name": "stdout",
     "output_type": "stream",
     "text": [
      "Input:\n",
      "tensor([[5095, 3689, 6166,  ...,    0,    0,    0],\n",
      "        [8890, 4915, 6166,  ..., 7713, 6602, 2377],\n",
      "        [5632, 5230, 1868,  ...,    0,    0,    0],\n",
      "        ...,\n",
      "        [9081, 4517, 6937,  ...,    0,    0,    0],\n",
      "        [9457, 8600, 9669,  ...,    0,    0,    0],\n",
      "        [8926, 2385, 4650,  ...,    0,    0,    0]])\n",
      "\n",
      "Output:\n",
      "tensor([[[-5.5349, -5.5229, -5.5350,  ..., -5.5392, -5.5754, -5.5580],\n",
      "         [-5.5467, -5.5399, -5.5326,  ..., -5.5208, -5.5888, -5.5686],\n",
      "         [-5.5487, -5.5467, -5.5169,  ..., -5.5105, -5.5857, -5.5684],\n",
      "         ...,\n",
      "         [-5.5469, -5.5360, -5.6453,  ..., -5.4855, -5.4728, -5.5232],\n",
      "         [-5.5469, -5.5360, -5.6453,  ..., -5.4855, -5.4728, -5.5232],\n",
      "         [-5.5469, -5.5360, -5.6453,  ..., -5.4855, -5.4728, -5.5232]],\n",
      "\n",
      "        [[-5.5383, -5.5339, -5.5654,  ..., -5.5391, -5.5481, -5.5388],\n",
      "         [-5.5563, -5.5391, -5.5476,  ..., -5.5474, -5.5458, -5.5366],\n",
      "         [-5.5565, -5.5337, -5.5290,  ..., -5.5372, -5.5430, -5.5449],\n",
      "         ...,\n",
      "         [-5.5483, -5.5418, -5.5404,  ..., -5.5700, -5.5433, -5.5558],\n",
      "         [-5.5568, -5.5414, -5.5317,  ..., -5.5625, -5.5457, -5.5581],\n",
      "         [-5.5502, -5.5529, -5.5444,  ..., -5.5475, -5.5528, -5.5463]],\n",
      "\n",
      "        [[-5.5557, -5.5484, -5.5418,  ..., -5.5456, -5.5389, -5.5352],\n",
      "         [-5.5645, -5.5534, -5.5305,  ..., -5.5443, -5.5352, -5.5393],\n",
      "         [-5.5566, -5.5365, -5.5264,  ..., -5.5531, -5.5430, -5.5449],\n",
      "         ...,\n",
      "         [-5.5530, -5.5344, -5.6551,  ..., -5.4827, -5.4608, -5.5281],\n",
      "         [-5.5530, -5.5344, -5.6551,  ..., -5.4827, -5.4607, -5.5281],\n",
      "         [-5.5530, -5.5344, -5.6552,  ..., -5.4828, -5.4607, -5.5281]],\n",
      "\n",
      "        ...,\n",
      "\n",
      "        [[-5.5519, -5.5381, -5.5562,  ..., -5.5601, -5.5439, -5.5567],\n",
      "         [-5.5663, -5.5515, -5.5388,  ..., -5.5578, -5.5656, -5.5655],\n",
      "         [-5.5658, -5.5554, -5.5294,  ..., -5.5512, -5.5764, -5.5546],\n",
      "         ...,\n",
      "         [-5.5532, -5.5372, -5.6451,  ..., -5.4902, -5.4647, -5.5257],\n",
      "         [-5.5532, -5.5372, -5.6451,  ..., -5.4902, -5.4647, -5.5257],\n",
      "         [-5.5532, -5.5372, -5.6451,  ..., -5.4902, -5.4647, -5.5257]],\n",
      "\n",
      "        [[-5.5431, -5.5477, -5.5072,  ..., -5.5637, -5.5679, -5.5587],\n",
      "         [-5.5366, -5.5614, -5.5114,  ..., -5.5550, -5.5731, -5.5451],\n",
      "         [-5.5174, -5.5675, -5.5202,  ..., -5.5551, -5.5806, -5.5339],\n",
      "         ...,\n",
      "         [-5.5498, -5.5451, -5.6203,  ..., -5.5042, -5.4891, -5.5314],\n",
      "         [-5.5498, -5.5451, -5.6203,  ..., -5.5042, -5.4891, -5.5314],\n",
      "         [-5.5498, -5.5451, -5.6203,  ..., -5.5042, -5.4891, -5.5314]],\n",
      "\n",
      "        [[-5.5472, -5.5481, -5.5117,  ..., -5.5682, -5.5752, -5.5677],\n",
      "         [-5.5511, -5.5605, -5.4959,  ..., -5.5643, -5.5857, -5.5529],\n",
      "         [-5.5423, -5.5484, -5.5006,  ..., -5.5530, -5.5877, -5.5305],\n",
      "         ...,\n",
      "         [-5.5526, -5.5408, -5.6218,  ..., -5.5051, -5.4850, -5.5308],\n",
      "         [-5.5526, -5.5408, -5.6218,  ..., -5.5051, -5.4850, -5.5308],\n",
      "         [-5.5526, -5.5408, -5.6218,  ..., -5.5051, -5.4850, -5.5308]]]) torch.Size([32, 256, 26])\n",
      "\n",
      "Output Indices:\n",
      "tensor([[122,  20,   6, 142, 226, 205, 144, 107,  14, 140, 139, 166, 161,  75,\n",
      "         131, 137, 202, 158, 127,  84, 112,  63,  82, 225, 255,  82],\n",
      "        [ 48,  67,  12, 235,  20,  43,  51,  36, 139, 173, 212,  79, 121, 116,\n",
      "         198, 159,  29,  12, 117,  66, 213,  31,  41,   5, 231,  43],\n",
      "        [130, 153,  70, 122, 250, 128, 153, 124,  59, 220, 205, 202, 172, 116,\n",
      "         127,  16, 220, 139, 106, 185,  51, 151, 218, 239, 255,  19],\n",
      "        [228,  38, 232, 147, 191,  55,  40, 195,  95, 140, 163, 145, 154, 147,\n",
      "         145,  79,  18, 164, 197, 191,  72, 228,  79, 147,  50,  43],\n",
      "        [189,  96, 127,  54, 212, 182,  56, 133, 171, 173,  25, 155,  52,  50,\n",
      "          65, 151,  74,  80,  32, 132,  80, 126, 170, 209, 255,  19],\n",
      "        [137, 223,  51, 109, 200,  32, 101, 115, 255, 196, 188, 128,  25, 168,\n",
      "         245, 183, 253, 123, 138, 242,  15,  57,  56, 247,  66,  89],\n",
      "        [ 57, 159,   6,  78, 190, 143, 154, 142, 106, 175, 153, 190,  14,   0,\n",
      "         116,  75,  39,  73,   1,  21,  21, 166, 174, 188, 255,  74],\n",
      "        [ 17, 117,  40,  30,  59,   3, 114,  97, 150, 223,  62, 184,  88, 238,\n",
      "         238,  58, 125, 175, 177, 255,  10, 239,  57, 134, 200, 169],\n",
      "        [174,  82,  64,  20, 196,  18, 132,  99,  38,   4,  45,  20,  38, 119,\n",
      "          58, 174,   9,  64, 170, 174,  87,  92,  28, 192, 255, 174],\n",
      "        [ 45,  89, 140, 138, 161,  99, 112, 130,  94, 135, 110,  79,  77,  94,\n",
      "         105,  84,  93,  75,  45,  68,  49,  20,  75, 160, 255, 118],\n",
      "        [ 32,  94,  76, 159, 191,  85,  47,  72,  70, 116, 117, 189, 121, 121,\n",
      "          95, 172,  94,  51,  59,  93,  48, 138,  66, 183, 255, 171],\n",
      "        [130, 193,  96, 187, 209, 106,  30,  15, 173,  24, 119, 209,  43,  55,\n",
      "          81,  39, 127, 172, 144,   4, 180, 182, 104, 203, 255,  25],\n",
      "        [143, 199,  33,  46, 217,  74,  63, 185,  89,  35,  59, 164, 144,  59,\n",
      "         149, 155,  74,  57,  63,  27, 190, 141,  60, 206, 255, 155],\n",
      "        [148,  90, 196, 200, 219,  49, 124, 200,  55,  83, 244, 225, 252, 167,\n",
      "         163,  52, 146, 178, 150, 242, 208, 216,  52, 186, 218,  41],\n",
      "        [252, 240, 174, 161,  33, 110, 190, 212,  65, 151, 102,  54,  36,  73,\n",
      "          55, 229, 145, 239, 130, 202,  30,  75, 169, 144,  44, 241],\n",
      "        [ 85, 103, 109, 126, 144, 114, 121,  83,   4,  16,  29, 145, 124, 105,\n",
      "         115,  75,  10,  52,  29, 134,  92,  62,  15, 138, 255,  85],\n",
      "        [ 71,  66,  42,  32, 194,  96,  75,  86,  78,  36, 127, 191, 155, 142,\n",
      "         142, 116,  22, 153,  80,  51, 162,  44, 141, 192, 255,  38],\n",
      "        [197, 230,  15, 194, 255, 200,  27,  85, 144, 117, 105, 199, 240, 202,\n",
      "         191,  42, 151, 165, 196, 120,  29, 198,  81, 254, 255, 221],\n",
      "        [ 48,  80,  22, 139, 174, 136,  36,  44,   2, 119, 102,  94,  36, 132,\n",
      "          70,  25,  48,   3, 129, 103, 109, 129, 151, 164, 255, 134],\n",
      "        [116, 184, 151, 164, 247, 184,  30,  41, 192, 189, 143, 243,  76, 222,\n",
      "         168, 215, 162, 105,  99, 208, 142,  87,  93, 243, 255,  21],\n",
      "        [ 53, 125, 236, 123, 255, 159,  52, 228,  33, 204,  58, 251, 142,  19,\n",
      "           4, 206,  70, 157, 195,   8, 163, 201,  25, 253, 255,  79],\n",
      "        [151,  43, 166,  21, 230,  99, 191,  35,  47,  79,  32, 226, 176,  45,\n",
      "          98,  36,  56,  95,  95, 219, 174, 205, 181, 220, 255,  43],\n",
      "        [143, 252,  93, 120,  79, 144,  37,  68,  52, 212, 231, 125, 234, 140,\n",
      "         143,  66, 142, 254, 169,  82, 100,  75,  80,  88, 112,  65],\n",
      "        [163,  34,  97,  17, 214,  50, 136, 156, 108, 192,  14, 209,  41, 142,\n",
      "         179, 112, 133,  49, 108, 195,  17,  93, 112, 202, 255, 187],\n",
      "        [146,  32, 178,  87, 212, 209, 101,  96,  89,  48, 251, 147,   1,  98,\n",
      "         184,  39, 104,  43,  42, 213,  90,  18,  18, 182, 212,  20],\n",
      "        [231, 165, 193, 250, 123, 175, 143, 242, 186, 199, 214,  83, 224, 206,\n",
      "          11,  43, 202, 152,  17, 213,  64, 162, 108, 184,  33, 168],\n",
      "        [ 79,  63, 203,  43, 230,  58, 154, 131, 201, 164, 108,  18,  54, 117,\n",
      "           3, 214, 157, 157,  96, 219,  49, 159,  49, 224, 255,  88],\n",
      "        [224, 215,  54, 204, 242,  27,  84,   5,  18, 180, 209, 208, 147, 220,\n",
      "         224, 203, 216, 144, 145, 110, 211, 168, 195, 234, 255,  26],\n",
      "        [ 85,  78,  36,  50, 228,  32, 153, 170, 178, 181,  25,  51,  48, 142,\n",
      "         184, 181,  75,  93, 153,  26,  24,  33,  25, 218, 255,  92],\n",
      "        [162, 200,  23,  32, 234, 191, 175, 139,  60,  64,  66, 160, 187, 206,\n",
      "         206, 193, 192, 109, 123, 138,  99,  84,  63, 224, 255, 202],\n",
      "        [  6, 149,  57,  47, 175,  75, 121, 111, 124,  53,  94, 169, 103,  81,\n",
      "          73,  21, 139, 147, 101, 168,  98,  33,  53, 168, 255,   5],\n",
      "        [ 88,  92,  34,  71, 176,  86,  26, 151, 155,  59,  40, 173,  20,  39,\n",
      "          93,   7, 100, 157,  79,  54,  10,  57,  94, 168, 255,  34]])\n",
      "\n",
      "Actual Output:\n",
      "tensor([[12, 19,  3,  ...,  0,  0,  0],\n",
      "        [12, 12,  3,  ..., 12, 12, 12],\n",
      "        [12, 12, 25,  ...,  0,  0,  0],\n",
      "        ...,\n",
      "        [12, 12,  4,  ...,  0,  0,  0],\n",
      "        [10, 19, 13,  ...,  0,  0,  0],\n",
      "        [12,  7, 12,  ...,  0,  0,  0]]) torch.Size([32, 256])\n",
      "==================================================\n"
     ]
    }
   ],
   "source": [
    "with torch.no_grad():\n",
    "    for x_batch, y_batch in train_loader:\n",
    "               \n",
    "        print(\"Input:\")\n",
    "        print(x_batch)\n",
    "        y_out = model(x_batch)\n",
    "        _, y_out_tags = torch.max(y_out.squeeze(), dim = 1)\n",
    "        \n",
    "        print(\"\\nOutput:\")\n",
    "        print(y_out, y_out.shape)\n",
    "        \n",
    "        print(\"\\nOutput Indices:\")\n",
    "        print(y_out_tags)\n",
    "\n",
    "        print(\"\\nActual Output:\")\n",
    "        print(y_batch, y_batch.shape)\n",
    "        \n",
    "        print(\"=\" * 50)\n",
    "        \n",
    "        break"
   ]
  },
  {
   "cell_type": "markdown",
   "metadata": {},
   "source": [
    "### Train the model."
   ]
  },
  {
   "cell_type": "code",
   "execution_count": 48,
   "metadata": {},
   "outputs": [
    {
     "data": {
      "text/plain": [
       "8"
      ]
     },
     "execution_count": 48,
     "metadata": {},
     "output_type": "execute_result"
    }
   ],
   "source": [
    "PRINT_EVERY = int(len(X_train)/BATCH_SIZE) + 1\n",
    "PRINT_EVERY"
   ]
  },
  {
   "cell_type": "code",
   "execution_count": 50,
   "metadata": {},
   "outputs": [
    {
     "name": "stdout",
     "output_type": "stream",
     "text": [
      "Training Started.\n",
      "Epoch 1/100 : loss = 0.6201258897781372\n",
      "Epoch 2/100 : loss = 0.5769319534301758\n",
      "Epoch 3/100 : loss = 0.5446072816848755\n",
      "Epoch 4/100 : loss = 0.5244742035865784\n",
      "Epoch 5/100 : loss = 0.512213945388794\n",
      "Epoch 6/100 : loss = 0.5052508115768433\n",
      "Epoch 7/100 : loss = 0.5013416409492493\n",
      "Epoch 8/100 : loss = 0.4992583990097046\n",
      "Epoch 9/100 : loss = 0.4981771409511566\n",
      "Epoch 10/100 : loss = 0.49708494544029236\n",
      "Epoch 11/100 : loss = 0.4965776801109314\n",
      "Epoch 12/100 : loss = 0.4962022304534912\n",
      "Epoch 13/100 : loss = 0.49597039818763733\n",
      "Epoch 14/100 : loss = 0.49588194489479065\n",
      "Epoch 15/100 : loss = 0.4956291615962982\n",
      "Epoch 16/100 : loss = 0.49540871381759644\n",
      "Epoch 17/100 : loss = 0.49540847539901733\n",
      "Epoch 18/100 : loss = 0.49528491497039795\n",
      "Epoch 19/100 : loss = 0.49522989988327026\n",
      "Epoch 20/100 : loss = 0.4952215850353241\n",
      "Epoch 21/100 : loss = 0.49516332149505615\n",
      "Epoch 22/100 : loss = 0.4951440691947937\n",
      "Epoch 23/100 : loss = 0.4951411783695221\n",
      "Epoch 24/100 : loss = 0.49510860443115234\n",
      "Epoch 25/100 : loss = 0.4951333999633789\n",
      "Epoch 26/100 : loss = 0.49509358406066895\n",
      "Epoch 27/100 : loss = 0.4951273500919342\n",
      "Epoch 28/100 : loss = 0.4950943887233734\n",
      "Epoch 29/100 : loss = 0.4951212406158447\n",
      "Epoch 30/100 : loss = 0.4951261281967163\n",
      "Epoch 31/100 : loss = 0.49509814381599426\n",
      "Epoch 32/100 : loss = 0.4951866865158081\n",
      "Epoch 33/100 : loss = 0.4951018691062927\n",
      "Epoch 34/100 : loss = 0.4950895607471466\n",
      "Epoch 35/100 : loss = 0.4951001703739166\n",
      "Epoch 36/100 : loss = 0.49506303668022156\n",
      "Epoch 37/100 : loss = 0.49504441022872925\n",
      "Epoch 38/100 : loss = 0.49505728483200073\n",
      "Epoch 39/100 : loss = 0.4950534701347351\n",
      "Epoch 40/100 : loss = 0.49503108859062195\n",
      "Epoch 41/100 : loss = 0.49502691626548767\n",
      "Epoch 42/100 : loss = 0.4950318932533264\n",
      "Epoch 43/100 : loss = 0.4950217604637146\n",
      "Epoch 44/100 : loss = 0.49501535296440125\n",
      "Epoch 45/100 : loss = 0.49501940608024597\n",
      "Epoch 46/100 : loss = 0.49501121044158936\n",
      "Epoch 47/100 : loss = 0.4950156509876251\n",
      "Epoch 48/100 : loss = 0.49501681327819824\n",
      "Epoch 49/100 : loss = 0.495007187128067\n",
      "Epoch 50/100 : loss = 0.4950210452079773\n",
      "Epoch 51/100 : loss = 0.4950081408023834\n",
      "Epoch 52/100 : loss = 0.49501121044158936\n",
      "Epoch 53/100 : loss = 0.4950177073478699\n",
      "Epoch 54/100 : loss = 0.4950104355812073\n",
      "Epoch 55/100 : loss = 0.4950385093688965\n",
      "Epoch 56/100 : loss = 0.4950149953365326\n",
      "Epoch 57/100 : loss = 0.4950147867202759\n",
      "Epoch 58/100 : loss = 0.49502861499786377\n",
      "Epoch 59/100 : loss = 0.4950142800807953\n",
      "Epoch 60/100 : loss = 0.4950173497200012\n",
      "Epoch 61/100 : loss = 0.4950099289417267\n",
      "Epoch 62/100 : loss = 0.4950186014175415\n",
      "Epoch 63/100 : loss = 0.49502328038215637\n",
      "Epoch 64/100 : loss = 0.495000958442688\n",
      "Epoch 65/100 : loss = 0.4950193166732788\n",
      "Epoch 66/100 : loss = 0.4950069785118103\n",
      "Epoch 67/100 : loss = 0.4949985146522522\n",
      "Epoch 68/100 : loss = 0.495013564825058\n",
      "Epoch 69/100 : loss = 0.4949944019317627\n",
      "Epoch 70/100 : loss = 0.49500223994255066\n",
      "Epoch 71/100 : loss = 0.495008260011673\n",
      "Epoch 72/100 : loss = 0.49499624967575073\n",
      "Epoch 73/100 : loss = 0.49500101804733276\n",
      "Epoch 74/100 : loss = 0.4950045943260193\n",
      "Epoch 75/100 : loss = 0.49499425292015076\n",
      "Epoch 76/100 : loss = 0.4949958920478821\n",
      "Epoch 77/100 : loss = 0.49499937891960144\n",
      "Epoch 78/100 : loss = 0.4949907064437866\n",
      "Epoch 79/100 : loss = 0.4949997365474701\n",
      "Epoch 80/100 : loss = 0.494997501373291\n",
      "Epoch 81/100 : loss = 0.49499380588531494\n",
      "Epoch 82/100 : loss = 0.49499350786209106\n",
      "Epoch 83/100 : loss = 0.4949902594089508\n",
      "Epoch 84/100 : loss = 0.494998961687088\n",
      "Epoch 85/100 : loss = 0.4949956238269806\n",
      "Epoch 86/100 : loss = 0.4949936866760254\n",
      "Epoch 87/100 : loss = 0.49500346183776855\n",
      "Epoch 88/100 : loss = 0.4949969947338104\n",
      "Epoch 89/100 : loss = 0.4949987530708313\n",
      "Epoch 90/100 : loss = 0.4950089454650879\n",
      "Epoch 91/100 : loss = 0.49499234557151794\n",
      "Epoch 92/100 : loss = 0.4950031638145447\n",
      "Epoch 93/100 : loss = 0.49500149488449097\n",
      "Epoch 94/100 : loss = 0.4949967861175537\n",
      "Epoch 95/100 : loss = 0.49499866366386414\n",
      "Epoch 96/100 : loss = 0.4949949085712433\n",
      "Epoch 97/100 : loss = 0.4949936866760254\n",
      "Epoch 98/100 : loss = 0.4949939250946045\n",
      "Epoch 99/100 : loss = 0.49503904581069946\n",
      "Epoch 100/100 : loss = 0.49500560760498047\n",
      "Training Completed.\n"
     ]
    }
   ],
   "source": [
    "print(\"Training Started.\")\n",
    "loss_list = []\n",
    "for e in range(1, EPOCHS+1):\n",
    "    model.train()\n",
    "    running_loss = 0.0\n",
    "    \n",
    "#     for x_batch, y_batch in train_loader:\n",
    "    for i, data in enumerate(train_loader):    \n",
    "        x_batch, y_batch = data\n",
    "        \n",
    "        model.zero_grad()\n",
    "        \n",
    "        y_pred = model(x_batch)\n",
    "        y_batch = y_batch.view(-1)\n",
    "        y_pred = y_pred.view(-1, len(tag2idx))\n",
    "\n",
    "        loss = criterion(y_pred, y_batch)\n",
    "        loss.backward()\n",
    "        optimizer.step()\n",
    "        \n",
    "        _, y_pred_tags = torch.max(y_pred.squeeze(), dim = 1)\n",
    "        \n",
    "        running_loss += loss.item()\n",
    "        \n",
    "        \n",
    "        if (i % PRINT_EVERY == 0):\n",
    "            loss_list.append(running_loss/PRINT_EVERY)\n",
    "            print(f'Epoch {e}/{EPOCHS} : loss = {running_loss/PRINT_EVERY}')\n",
    "        \n",
    "print(\"Training Completed.\")"
   ]
  },
  {
   "cell_type": "markdown",
   "metadata": {},
   "source": [
    "### Train Acc and Val Acc."
   ]
  },
  {
   "cell_type": "code",
   "execution_count": 51,
   "metadata": {},
   "outputs": [
    {
     "data": {
      "image/png": "[encoded data removed]",
      "text/plain": [
       "<Figure size 432x288 with 1 Axes>"
      ]
     },
     "metadata": {},
     "output_type": "display_data"
    }
   ],
   "source": [
    "import matplotlib.pyplot as plt\n",
    "\n",
    "plt.plot(loss_list, c=\"blue\", label =\"Loss\")\n",
    "plt.xlabel(\"Epochs\")\n",
    "plt.ylabel(\"Value\")\n",
    "plt.legend()\n",
    "plt.show()\n"
   ]
  },
  {
   "cell_type": "markdown",
   "metadata": {},
   "source": [
    "### Classification Metrics."
   ]
  },
  {
   "cell_type": "code",
   "execution_count": 52,
   "metadata": {},
   "outputs": [
    {
     "name": "stdout",
     "output_type": "stream",
     "text": [
      "              precision    recall  f1-score   support\n",
      "\n",
      "           0       1.00      1.00      1.00      1215\n",
      "           1       0.46      0.82      0.59        40\n",
      "           2       0.00      0.00      0.00         0\n",
      "           3       1.00      0.99      0.99       331\n",
      "           4       1.00      1.00      1.00        79\n",
      "           5       0.00      0.00      0.00         0\n",
      "           6       0.81      0.77      0.79        73\n",
      "           7       1.00      0.97      0.99       115\n",
      "           8       0.36      0.77      0.49        13\n",
      "           9       0.84      0.93      0.88        56\n",
      "          10       0.34      0.27      0.30       101\n",
      "          11       0.04      0.71      0.08         7\n",
      "          12       0.97      0.85      0.91      3285\n",
      "          13       1.00      0.97      0.99       138\n",
      "          14       0.39      1.00      0.56        14\n",
      "          15       0.85      0.69      0.76       183\n",
      "          16       0.33      0.85      0.47        26\n",
      "          17       0.03      1.00      0.07         5\n",
      "          18       0.99      0.84      0.91       226\n",
      "          19       0.99      0.88      0.93       170\n",
      "          20       0.26      0.90      0.40        10\n",
      "          21       0.78      0.77      0.78        70\n",
      "          22       0.95      0.85      0.90       133\n",
      "          23       0.22      1.00      0.36         7\n",
      "          24       0.28      1.00      0.44        13\n",
      "          25       0.95      0.91      0.93        90\n",
      "\n",
      "    accuracy                           0.88      6400\n",
      "   macro avg       0.61      0.80      0.63      6400\n",
      "weighted avg       0.95      0.88      0.91      6400\n",
      "\n"
     ]
    },
    {
     "name": "stderr",
     "output_type": "stream",
     "text": [
      "/home/akshaj/anaconda3/envs/nlp/lib/python3.6/site-packages/sklearn/metrics/classification.py:1439: UndefinedMetricWarning: Recall and F-score are ill-defined and being set to 0.0 in labels with no true samples.\n",
      "  'recall', 'true', average, warn_for)\n",
      "/home/akshaj/anaconda3/envs/nlp/lib/python3.6/site-packages/sklearn/metrics/classification.py:1439: UndefinedMetricWarning: Recall and F-score are ill-defined and being set to 0.0 in labels with no true samples.\n",
      "  'recall', 'true', average, warn_for)\n",
      "/home/akshaj/anaconda3/envs/nlp/lib/python3.6/site-packages/sklearn/metrics/classification.py:1439: UndefinedMetricWarning: Recall and F-score are ill-defined and being set to 0.0 in labels with no true samples.\n",
      "  'recall', 'true', average, warn_for)\n"
     ]
    }
   ],
   "source": [
    "y_out_tags_list = []\n",
    "with torch.no_grad():\n",
    "    for x_batch, y_batch in test_loader: \n",
    "        y_out = model(x_batch)\n",
    "        _, y_out_tags = torch.max(y_out.squeeze(), dim = 1)\n",
    "        y_out_tags = np.array(y_out_tags)\n",
    "        y_out_tags_list.append(y_out_tags)\n",
    "        \n",
    "        \n",
    "print(metrics.flat_classification_report(y_test, y_out_tags_list))"
   ]
  },
  {
   "cell_type": "markdown",
   "metadata": {},
   "source": [
    "### Try out the model"
   ]
  },
  {
   "cell_type": "code",
   "execution_count": 53,
   "metadata": {},
   "outputs": [],
   "source": [
    "testl = iter(test_loader)"
   ]
  },
  {
   "cell_type": "code",
   "execution_count": 54,
   "metadata": {},
   "outputs": [
    {
     "name": "stdout",
     "output_type": "stream",
     "text": [
      "Word                      : Pred           : Actual\n",
      "\n",
      "'Multiple                 : O              : O'\n",
      "'Legionella               : I-Enzyme       : O'\n",
      "'pneumophila              : I-Pathway      : I-CPA'\n",
      "'effector                 : I-Pathway      : O'\n",
      "'virulence                : B-MPA          : B-MPA'\n",
      "'phenotypes               : I-Pathway      : O'\n",
      "'revealed                 : B-Reg          : B-Reg'\n",
      "'through                  : O              : O'\n",
      "'high-throughput          : O              : O'\n",
      "'analysis                 : O              : O'\n",
      "'of                       : O              : O'\n",
      "'targeted                 : O              : O'\n",
      "'mutant                   : B-Var          : B-Var'\n",
      "'libraries                : O              : O'\n",
      "'Legionella               : I-Enzyme       : O'\n",
      "'pneumophila              : I-Pathway      : I-CPA'\n",
      "'is                       : O              : O'\n",
      "'the                      : O              : O'\n",
      "'causative                : O              : O'\n",
      "'agent                    : O              : O'\n",
      "'of                       : O              : O'\n",
      "'a                        : O              : O'\n",
      "'severe                   : B-Disease      : B-Disease'\n",
      "'pneumonia                : O              : O'\n",
      "'called                   : O              : O'\n",
      "\"Legionnaires'            : B-Gene         : O\"\n",
      "'disease                  : I-Disease      : I-Disease'\n",
      "'A                        : O              : O'\n",
      "'single                   : B-Var          : B-Var'\n",
      "'strain                   : O              : O'\n",
      "'of                       : O              : O'\n",
      "'L                        : O              : O'\n",
      "'pneumophila              : I-CPA          : I-CPA'\n",
      "'encodes                  : O              : O'\n",
      "'a                        : O              : O'\n",
      "'repertoire               : O              : O'\n",
      "'of                       : O              : O'\n",
      "'over                     : B-PosReg       : B-PosReg'\n",
      "'300                      : I-Pathway      : O'\n",
      "'different                : O              : O'\n",
      "'effector                 : I-Pathway      : O'\n",
      "'proteins                 : B-Protein      : B-Protein'\n",
      "'that                     : O              : O'\n",
      "'are                      : O              : O'\n",
      "'delivered                : O              : O'\n",
      "'into                     : O              : O'\n",
      "'host                     : B-CPA          : B-CPA'\n",
      "'cells                    : B-CPA          : B-CPA'\n",
      "'by                       : I-Reg          : I-Reg'\n",
      "'the                      : O              : O'\n",
      "'Dot/Icm                  : B-Gene         : O'\n",
      "'type                     : B-Disease      : B-Disease'\n",
      "'IV                       : B-Disease      : B-Disease'\n",
      "'secretion                : I-Pathway      : I-MPA'\n",
      "'system                   : O              : O'\n",
      "'during                   : O              : O'\n",
      "'infection                : O              : O'\n",
      "'The                      : O              : O'\n",
      "'large                    : O              : O'\n",
      "'number                   : I-MPA          : I-MPA'\n",
      "'of                       : O              : O'\n",
      "'L                        : O              : O'\n",
      "'pneumophila              : O              : I-CPA'\n",
      "'effectors                : O              : O'\n",
      "'has                      : O              : O'\n",
      "'been                     : O              : O'\n",
      "'a                        : O              : O'\n",
      "'limiting                 : O              : O'\n",
      "'factor                   : O              : O'\n",
      "'in                       : I-Reg          : I-Reg'\n",
      "'assessing                : O              : O'\n",
      "'the                      : O              : O'\n",
      "'importance               : O              : O'\n",
      "'of                       : O              : O'\n",
      "'individual               : O              : O'\n",
      "'effectors                : O              : O'\n",
      "'for                      : O              : O'\n",
      "'virulence                : B-MPA          : B-MPA'\n",
      "'Here                     : O              : O'\n",
      "'a                        : O              : O'\n",
      "'transposon               : B-Enzyme       : O'\n",
      "'insertion                : B-Var          : B-Var'\n",
      "'sequencing               : O              : O'\n",
      "'technology               : O              : O'\n",
      "'called                   : O              : O'\n",
      "'INSeq                    : B-Enzyme       : O'\n",
      "'was                      : O              : O'\n",
      "'used                     : O              : O'\n",
      "'to                       : I-Reg          : I-Reg'\n",
      "'analyze                  : O              : O'\n",
      "'replication              : O              : O'\n",
      "'of                       : O              : O'\n",
      "'a                        : O              : O'\n",
      "'pool                     : O              : O'\n",
      "'of                       : O              : O'\n",
      "'effector                 : O              : O'\n",
      "'mutants                  : B-Var          : B-Var'\n",
      "'in                       : I-Reg          : I-Reg'\n",
      "'parallel                 : O              : O'\n",
      "'both                     : O              : O'\n",
      "'in                       : I-Reg          : I-Reg'\n",
      "'a                        : O              : O'\n",
      "'mouse                    : O              : O'\n",
      "'model                    : O              : O'\n",
      "'of                       : O              : O'\n",
      "'infection                : I-Pathway      : O'\n",
      "'and                      : O              : O'\n",
      "'in                       : I-Reg          : I-Reg'\n",
      "'cultured                 : O              : O'\n",
      "'host                     : B-CPA          : B-CPA'\n",
      "'cells                    : B-CPA          : B-CPA'\n",
      "'Loss-of-function         : B-NegReg       : B-NegReg'\n",
      "'mutations                : B-Var          : B-Var'\n",
      "'in                       : I-Reg          : I-Reg'\n",
      "'genes                    : I-Gene         : I-Gene'\n",
      "'encoding                 : O              : O'\n",
      "'effector                 : I-Pathway      : O'\n",
      "'proteins                 : B-Protein      : B-Protein'\n",
      "'resulted                 : B-Reg          : B-Reg'\n",
      "'in                       : I-Reg          : I-Reg'\n",
      "'host-specific            : B-Enzyme       : B-MPA'\n",
      "'or                       : O              : O'\n",
      "'broad                    : B-Interaction  : B-MPA'\n",
      "'virulence                : B-MPA          : B-MPA'\n",
      "'phenotypes               : I-Pathway      : O'\n",
      "'Screen                   : I-Pathway      : O'\n",
      "'results                  : B-Reg          : B-Reg'\n",
      "'were                     : O              : O'\n",
      "'validated                : O              : O'\n",
      "'for                      : O              : O'\n",
      "'several                  : O              : O'\n",
      "'effector                 : I-Pathway      : O'\n",
      "'mutants                  : B-Var          : B-Var'\n",
      "'displaying               : O              : O'\n",
      "'different                : O              : O'\n",
      "'virulence                : B-MPA          : B-MPA'\n",
      "'phenotypes               : I-Pathway      : O'\n",
      "'using                    : O              : O'\n",
      "'genetic                  : O              : O'\n",
      "'complementation          : O              : O'\n",
      "'studies                  : O              : O'\n",
      "'and                      : O              : O'\n",
      "'infection                : O              : O'\n",
      "'assays                   : O              : O'\n",
      "'Specifically             : O              : O'\n",
      "'loss-of-function         : B-NegReg       : B-NegReg'\n",
      "'mutations                : B-Var          : B-Var'\n",
      "'in                       : I-Reg          : I-Reg'\n",
      "'the                      : O              : O'\n",
      "'gene                     : I-Gene         : I-Gene'\n",
      "'encoding                 : O              : O'\n",
      "'LegC4                    : O              : B-Var'\n",
      "'resulted                 : B-Reg          : B-Reg'\n",
      "'in                       : I-Reg          : I-Reg'\n",
      "'enhanced                 : B-PosReg       : B-PosReg'\n",
      "'L                        : I-CPA          : O'\n",
      "'pneumophila              : O              : I-CPA'\n",
      "'in                       : I-Reg          : I-Reg'\n",
      "'the                      : O              : O'\n",
      "'lungs                    : O              : O'\n",
      "'of                       : O              : O'\n",
      "'infected                 : I-Pathway      : O'\n",
      "'mice                     : O              : O'\n",
      "'but                      : O              : O'\n",
      "'not                      : B-NegReg       : B-NegReg'\n",
      "'within                   : O              : O'\n",
      "'cultured                 : O              : O'\n",
      "'host                     : B-CPA          : B-CPA'\n",
      "'cells                    : B-CPA          : B-CPA'\n",
      "'which                    : O              : O'\n",
      "'indicates                : O              : O'\n",
      "'LegC4                    : O              : B-Var'\n",
      "'augments                 : B-PosReg       : B-PosReg'\n",
      "'bacterial                : B-Pathway      : B-CPA'\n",
      "'clearance                : B-Enzyme       : I-CPA'\n",
      "'by                       : I-Reg          : I-Reg'\n",
      "'the                      : O              : O'\n",
      "'host                     : B-CPA          : B-CPA'\n",
      "'immune                   : B-Disease      : B-Disease'\n",
      "'system                   : O              : O'\n",
      "'The                      : O              : O'\n",
      "'effector                 : O              : O'\n",
      "'proteins                 : B-Protein      : B-Protein'\n",
      "'RavY                     : I-Enzyme       : O'\n",
      "'and                      : O              : O'\n",
      "'Lpg2505                  : I-Pathway      : O'\n",
      "'were                     : O              : O'\n",
      "'important                : O              : O'\n",
      "'for                      : O              : O'\n",
      "'efficient                : O              : O'\n",
      "'replication              : O              : O'\n",
      "'within                   : O              : O'\n",
      "'both                     : O              : O'\n",
      "'mammalian                : O              : O'\n",
      "'and                      : O              : O'\n",
      "'protozoan                : B-Enzyme       : O'\n",
      "'hosts                    : I-CPA          : O'\n",
      "'Further                  : O              : O'\n",
      "'analysis                 : O              : O'\n",
      "'of                       : O              : O'\n",
      "'Lpg2505                  : I-Pathway      : O'\n",
      "'revealed                 : B-Reg          : B-Reg'\n",
      "'that                     : O              : O'\n",
      "'this                     : O              : O'\n",
      "'protein                  : B-MPA          : B-MPA'\n",
      "'functions                : I-MPA          : I-MPA'\n",
      "'as                       : O              : O'\n",
      "'a                        : O              : O'\n",
      "'metaeffector             : B-Gene         : O'\n",
      "'that                     : O              : O'\n",
      "'counteracts              : O              : O'\n",
      "'host                     : B-CPA          : B-CPA'\n",
      "'cytotoxicity             : O              : O'\n",
      "'displayed                : O              : O'\n",
      "'by                       : I-Reg          : I-Reg'\n",
      "'the                      : O              : O'\n",
      "'effector                 : I-Pathway      : O'\n",
      "'protein                  : B-MPA          : B-MPA'\n",
      "'SidI                     : B-Gene         : O'\n",
      "'Thus                     : O              : O'\n",
      "'this                     : O              : O'\n",
      "'study                    : O              : O'\n",
      "'identified               : B-Reg          : B-Reg'\n",
      "'a                        : O              : O'\n",
      "'large                    : O              : O'\n",
      "'cohort                   : O              : O'\n",
      "'of                       : O              : O'\n",
      "'effectors                : I-Pathway      : O'\n",
      "'that                     : O              : O'\n",
      "'contribute               : B-Reg          : B-Reg'\n",
      "'to                       : I-Reg          : I-Reg'\n",
      "'L                        : O              : O'\n",
      "'pneumophila              : I-CPA          : I-CPA'\n",
      "'virulence                : B-MPA          : B-MPA'\n",
      "'positively               : I-Pathway      : O'\n",
      "'or                       : O              : O'\n",
      "'negatively               : B-NegReg       : B-NegReg'\n",
      "'and                      : O              : O'\n",
      "'has                      : O              : O'\n",
      "'demonstrated             : B-Reg          : B-Reg'\n",
      "'regulation               : B-MPA          : B-MPA'\n",
      "'of                       : O              : O'\n",
      "'effector                 : O              : O'\n",
      "'protein                  : B-MPA          : B-MPA'\n",
      "'activities               : B-Interaction  : B-MPA'\n",
      "'by                       : I-Reg          : I-Reg'\n",
      "'cognate                  : O              : O'\n",
      "'metaeffectors            : I-PosReg       : O'\n",
      "'as                       : O              : O'\n",
      "'being                    : O              : O'\n",
      "'critical                 : B-MPA          : B-MPA'\n",
      "'for                      : O              : O'\n",
      "'host                     : B-CPA          : B-CPA'\n",
      "'pathogenesis             : I-Pathway      : O'\n",
      "'PAD                      : PAD-TAG        : PAD-TAG'\n",
      "'PAD                      : PAD-TAG        : PAD-TAG'\n"
     ]
    }
   ],
   "source": [
    "with torch.no_grad():\n",
    "    x_batch, y_batch = next(testl)\n",
    "    y_pred = model(x_batch)\n",
    "    \n",
    "    _, y_pred = torch.max(y_pred.squeeze(), 1)\n",
    "    x_batch = x_batch.squeeze()\n",
    "    y_batch = y_batch.squeeze()\n",
    "    \n",
    "    print('{:26}: {:15}: {}\\n'.format(\"Word\", \"Pred\", \"Actual\"))\n",
    "    \n",
    "    for w, pred, actual in zip(x_batch, y_pred, y_batch):\n",
    "        pprint(\"{:25}: {:15}: {}\".format(words[w.item()], tags[pred], tags[actual.item()]))"
   ]
  }
 ],
 "metadata": {
  "kernelspec": {
   "display_name": "Python 3",
   "language": "python",
   "name": "python3"
  },
  "language_info": {
   "codemirror_mode": {
    "name": "ipython",
    "version": 3
   },
   "file_extension": ".py",
   "mimetype": "text/x-python",
   "name": "python",
   "nbconvert_exporter": "python",
   "pygments_lexer": "ipython3",
   "version": "3.6.8"
  }
 },
 "nbformat": 4,
 "nbformat_minor": 2
}
