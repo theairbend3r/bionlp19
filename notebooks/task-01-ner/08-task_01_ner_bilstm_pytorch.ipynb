{
 "cells": [
  {
   "cell_type": "markdown",
   "metadata": {},
   "source": [
    "# [Task 1] Named Entity Recognition  |  BiLSTM  |  PyTorch"
   ]
  },
  {
   "cell_type": "markdown",
   "metadata": {},
   "source": [
    "Import Libraries."
   ]
  },
  {
   "cell_type": "code",
   "execution_count": 1,
   "metadata": {},
   "outputs": [],
   "source": [
    "import re\n",
    "import os\n",
    "import json\n",
    "import numpy as np\n",
    "import pandas as pd\n",
    "import seaborn as sns\n",
    "from pprint import pprint\n",
    "import matplotlib.pyplot as plt\n",
    "from collections import Counter\n",
    "from pandas.io.json import json_normalize\n",
    "\n",
    "import torch\n",
    "import torch.nn as nn\n",
    "import torch.optim as optim\n",
    "import torch.nn.functional as F\n",
    "from torch.nn.utils.rnn import pad_sequence\n",
    "from torch.utils.data import Dataset, DataLoader\n",
    "\n",
    "from sklearn_crfsuite import metrics\n",
    "\n",
    "from sklearn.model_selection import train_test_split\n",
    "from sklearn.metrics import classification_report, confusion_matrix"
   ]
  },
  {
   "cell_type": "code",
   "execution_count": 2,
   "metadata": {},
   "outputs": [],
   "source": [
    "%matplotlib inline\n",
    "sns.set_style(\"dark\")"
   ]
  },
  {
   "cell_type": "markdown",
   "metadata": {},
   "source": [
    "## Util"
   ]
  },
  {
   "cell_type": "markdown",
   "metadata": {},
   "source": [
    "Function to read json files."
   ]
  },
  {
   "cell_type": "code",
   "execution_count": 3,
   "metadata": {},
   "outputs": [],
   "source": [
    "def read_json(path):\n",
    "    file = json.loads(open(path).read())\n",
    "    \n",
    "    return file"
   ]
  },
  {
   "cell_type": "markdown",
   "metadata": {},
   "source": [
    "Function to extract words from text based on the indices."
   ]
  },
  {
   "cell_type": "code",
   "execution_count": 4,
   "metadata": {},
   "outputs": [],
   "source": [
    "def extract_word(begin, end, txt):\n",
    "    return txt[begin:end]"
   ]
  },
  {
   "cell_type": "code",
   "execution_count": 5,
   "metadata": {},
   "outputs": [],
   "source": [
    "base_dir = \"../../data/AGAC_training-annotations/AGAC_training/json/\""
   ]
  },
  {
   "cell_type": "markdown",
   "metadata": {},
   "source": [
    "## Prepare Data"
   ]
  },
  {
   "cell_type": "markdown",
   "metadata": {},
   "source": [
    "BIO labelling of data.  "
   ]
  },
  {
   "cell_type": "code",
   "execution_count": 6,
   "metadata": {},
   "outputs": [],
   "source": [
    "word_label_dict = {}\n",
    "\n",
    "    \n",
    "for f in os.listdir(base_dir):\n",
    "    file = read_json(base_dir + f)\n",
    "    # Extract the document ID from the file name\n",
    "    doc_id = \"\".join(re.findall(r'\\d', f))\n",
    "    txt = file['text']\n",
    "\n",
    "\n",
    "    for i in range(len(file['denotations'])):\n",
    "        b = file['denotations'][i]['span']['begin']\n",
    "        e = file['denotations'][i]['span']['end']\n",
    "        word = extract_word(b, e, txt)\n",
    "        word_split = word.split(' ')\n",
    "        obj = file['denotations'][i]['obj']\n",
    "\n",
    "        # If length of word (after splitting on \" \") is more than 2\n",
    "        # Put 'B/I' labels\n",
    "        if len(word_split) == 2:\n",
    "            b_word = word_split[0]\n",
    "            i_word = word_split[-1]\n",
    "            b_obj = \"B-\" + obj\n",
    "            i_obj = \"I-\" + obj\n",
    "            word_label_dict[i_word] = i_obj\n",
    "            word_label_dict[b_word] = b_obj\n",
    "\n",
    "        # If length of word (after splitting on \" \") is equal to 1\n",
    "        # Put a 'B' label\n",
    "        else:\n",
    "            b_word = word_split[0]\n",
    "            b_obj = \"B-\" + obj\n",
    "\n",
    "            word_label_dict[b_word] = b_obj"
   ]
  },
  {
   "cell_type": "markdown",
   "metadata": {},
   "source": [
    "Clean the data and put the label 'O' where necessary."
   ]
  },
  {
   "cell_type": "code",
   "execution_count": 7,
   "metadata": {},
   "outputs": [],
   "source": [
    "final_list = []\n",
    "\n",
    "for f in os.listdir(base_dir):\n",
    "    file = read_json(base_dir + f)\n",
    "    doc_id = \"\".join(re.findall(r'\\d', f))\n",
    "    txt = file['text']\n",
    "\n",
    "    # Clean the text data\n",
    "    txt = re.sub(r'\\n', \" \", txt)\n",
    "    txt = re.sub(r'\\.', \"\", txt)\n",
    "    txt = re.sub(r',', \"\", txt)\n",
    "    txt = re.sub(r':', \"\", txt)\n",
    "\n",
    "\n",
    "    txt_split = txt.split(\" \")\n",
    "\n",
    "    # Put a label 'O' for words that do not appear\n",
    "    # in word_label_dict\n",
    "    for w in txt_split:\n",
    "        if w in word_label_dict.keys():\n",
    "            final_list.append((doc_id, w, word_label_dict[w]))\n",
    "        else:\n",
    "            final_list.append((doc_id, w, \"O\"))"
   ]
  },
  {
   "cell_type": "code",
   "execution_count": 8,
   "metadata": {},
   "outputs": [],
   "source": [
    "data_df = pd.DataFrame(final_list, columns=['doc_id', 'word', 'obj'])"
   ]
  },
  {
   "cell_type": "code",
   "execution_count": 9,
   "metadata": {},
   "outputs": [
    {
     "data": {
      "text/html": [
       "<div>\n",
       "<style scoped>\n",
       "    .dataframe tbody tr th:only-of-type {\n",
       "        vertical-align: middle;\n",
       "    }\n",
       "\n",
       "    .dataframe tbody tr th {\n",
       "        vertical-align: top;\n",
       "    }\n",
       "\n",
       "    .dataframe thead th {\n",
       "        text-align: right;\n",
       "    }\n",
       "</style>\n",
       "<table border=\"1\" class=\"dataframe\">\n",
       "  <thead>\n",
       "    <tr style=\"text-align: right;\">\n",
       "      <th></th>\n",
       "      <th>doc_id</th>\n",
       "      <th>word</th>\n",
       "      <th>obj</th>\n",
       "    </tr>\n",
       "  </thead>\n",
       "  <tbody>\n",
       "    <tr>\n",
       "      <th>0</th>\n",
       "      <td>30442766</td>\n",
       "      <td>LZTR1</td>\n",
       "      <td>B-Gene</td>\n",
       "    </tr>\n",
       "    <tr>\n",
       "      <th>1</th>\n",
       "      <td>30442766</td>\n",
       "      <td>is</td>\n",
       "      <td>O</td>\n",
       "    </tr>\n",
       "    <tr>\n",
       "      <th>2</th>\n",
       "      <td>30442766</td>\n",
       "      <td>a</td>\n",
       "      <td>O</td>\n",
       "    </tr>\n",
       "    <tr>\n",
       "      <th>3</th>\n",
       "      <td>30442766</td>\n",
       "      <td>regulator</td>\n",
       "      <td>O</td>\n",
       "    </tr>\n",
       "    <tr>\n",
       "      <th>4</th>\n",
       "      <td>30442766</td>\n",
       "      <td>of</td>\n",
       "      <td>O</td>\n",
       "    </tr>\n",
       "  </tbody>\n",
       "</table>\n",
       "</div>"
      ],
      "text/plain": [
       "     doc_id       word     obj\n",
       "0  30442766      LZTR1  B-Gene\n",
       "1  30442766         is       O\n",
       "2  30442766          a       O\n",
       "3  30442766  regulator       O\n",
       "4  30442766         of       O"
      ]
     },
     "execution_count": 9,
     "metadata": {},
     "output_type": "execute_result"
    }
   ],
   "source": [
    "data_df.head()"
   ]
  },
  {
   "cell_type": "markdown",
   "metadata": {},
   "source": [
    "## EDA"
   ]
  },
  {
   "cell_type": "markdown",
   "metadata": {},
   "source": [
    "### Count of words/obj per document."
   ]
  },
  {
   "cell_type": "code",
   "execution_count": 10,
   "metadata": {},
   "outputs": [
    {
     "data": {
      "text/html": [
       "<div>\n",
       "<style scoped>\n",
       "    .dataframe tbody tr th:only-of-type {\n",
       "        vertical-align: middle;\n",
       "    }\n",
       "\n",
       "    .dataframe tbody tr th {\n",
       "        vertical-align: top;\n",
       "    }\n",
       "\n",
       "    .dataframe thead th {\n",
       "        text-align: right;\n",
       "    }\n",
       "</style>\n",
       "<table border=\"1\" class=\"dataframe\">\n",
       "  <thead>\n",
       "    <tr style=\"text-align: right;\">\n",
       "      <th></th>\n",
       "      <th>word</th>\n",
       "      <th>obj</th>\n",
       "    </tr>\n",
       "    <tr>\n",
       "      <th>doc_id</th>\n",
       "      <th></th>\n",
       "      <th></th>\n",
       "    </tr>\n",
       "  </thead>\n",
       "  <tbody>\n",
       "    <tr>\n",
       "      <th>16371368</th>\n",
       "      <td>307</td>\n",
       "      <td>307</td>\n",
       "    </tr>\n",
       "    <tr>\n",
       "      <th>17435236</th>\n",
       "      <td>229</td>\n",
       "      <td>229</td>\n",
       "    </tr>\n",
       "    <tr>\n",
       "      <th>18031991</th>\n",
       "      <td>235</td>\n",
       "      <td>235</td>\n",
       "    </tr>\n",
       "    <tr>\n",
       "      <th>18594199</th>\n",
       "      <td>189</td>\n",
       "      <td>189</td>\n",
       "    </tr>\n",
       "    <tr>\n",
       "      <th>19338054</th>\n",
       "      <td>265</td>\n",
       "      <td>265</td>\n",
       "    </tr>\n",
       "  </tbody>\n",
       "</table>\n",
       "</div>"
      ],
      "text/plain": [
       "          word  obj\n",
       "doc_id             \n",
       "16371368   307  307\n",
       "17435236   229  229\n",
       "18031991   235  235\n",
       "18594199   189  189\n",
       "19338054   265  265"
      ]
     },
     "execution_count": 10,
     "metadata": {},
     "output_type": "execute_result"
    }
   ],
   "source": [
    "data_df.groupby('doc_id').count().head()"
   ]
  },
  {
   "cell_type": "markdown",
   "metadata": {},
   "source": [
    "### Stats about the data."
   ]
  },
  {
   "cell_type": "code",
   "execution_count": 11,
   "metadata": {},
   "outputs": [
    {
     "data": {
      "text/html": [
       "<div>\n",
       "<style scoped>\n",
       "    .dataframe tbody tr th:only-of-type {\n",
       "        vertical-align: middle;\n",
       "    }\n",
       "\n",
       "    .dataframe tbody tr th {\n",
       "        vertical-align: top;\n",
       "    }\n",
       "\n",
       "    .dataframe thead th {\n",
       "        text-align: right;\n",
       "    }\n",
       "</style>\n",
       "<table border=\"1\" class=\"dataframe\">\n",
       "  <thead>\n",
       "    <tr style=\"text-align: right;\">\n",
       "      <th></th>\n",
       "      <th>doc_id</th>\n",
       "      <th>word</th>\n",
       "      <th>obj</th>\n",
       "    </tr>\n",
       "  </thead>\n",
       "  <tbody>\n",
       "    <tr>\n",
       "      <th>count</th>\n",
       "      <td>55808</td>\n",
       "      <td>55808</td>\n",
       "      <td>55808</td>\n",
       "    </tr>\n",
       "    <tr>\n",
       "      <th>unique</th>\n",
       "      <td>250</td>\n",
       "      <td>9744</td>\n",
       "      <td>25</td>\n",
       "    </tr>\n",
       "    <tr>\n",
       "      <th>top</th>\n",
       "      <td>28283687</td>\n",
       "      <td>of</td>\n",
       "      <td>O</td>\n",
       "    </tr>\n",
       "    <tr>\n",
       "      <th>freq</th>\n",
       "      <td>513</td>\n",
       "      <td>2206</td>\n",
       "      <td>35790</td>\n",
       "    </tr>\n",
       "  </tbody>\n",
       "</table>\n",
       "</div>"
      ],
      "text/plain": [
       "          doc_id   word    obj\n",
       "count      55808  55808  55808\n",
       "unique       250   9744     25\n",
       "top     28283687     of      O\n",
       "freq         513   2206  35790"
      ]
     },
     "execution_count": 11,
     "metadata": {},
     "output_type": "execute_result"
    }
   ],
   "source": [
    "data_df.describe()"
   ]
  },
  {
   "cell_type": "markdown",
   "metadata": {},
   "source": [
    "### Frequncy of different output labels."
   ]
  },
  {
   "cell_type": "markdown",
   "metadata": {},
   "source": [
    "Frequency with label 'O'."
   ]
  },
  {
   "cell_type": "code",
   "execution_count": 12,
   "metadata": {},
   "outputs": [
    {
     "data": {
      "text/plain": [
       "<matplotlib.axes._subplots.AxesSubplot at 0x7f71a2da06a0>"
      ]
     },
     "execution_count": 12,
     "metadata": {},
     "output_type": "execute_result"
    },
    {
     "data": {
      "image/png": "[encoded data removed]",
      "text/plain": [
       "<Figure size 432x288 with 1 Axes>"
      ]
     },
     "metadata": {},
     "output_type": "display_data"
    }
   ],
   "source": [
    "sns.countplot(y = \"obj\", data=data_df)"
   ]
  },
  {
   "cell_type": "markdown",
   "metadata": {},
   "source": [
    "Frequency without label 'O'."
   ]
  },
  {
   "cell_type": "code",
   "execution_count": 13,
   "metadata": {},
   "outputs": [
    {
     "data": {
      "text/plain": [
       "<matplotlib.axes._subplots.AxesSubplot at 0x7f71a2c53470>"
      ]
     },
     "execution_count": 13,
     "metadata": {},
     "output_type": "execute_result"
    },
    {
     "data": {
      "image/png": "[encoded data removed]",
      "text/plain": [
       "<Figure size 432x288 with 1 Axes>"
      ]
     },
     "metadata": {},
     "output_type": "display_data"
    }
   ],
   "source": [
    "sns.countplot(y = \"obj\", data=data_df[data_df['obj'] != 'O'])"
   ]
  },
  {
   "cell_type": "markdown",
   "metadata": {},
   "source": [
    "## Deep Learning - BiLSTM | PyTorch"
   ]
  },
  {
   "cell_type": "markdown",
   "metadata": {},
   "source": [
    "### Create a list of words and output tags"
   ]
  },
  {
   "cell_type": "code",
   "execution_count": 14,
   "metadata": {},
   "outputs": [
    {
     "name": "stdout",
     "output_type": "stream",
     "text": [
      "Number of words = 9745\n"
     ]
    }
   ],
   "source": [
    "words = list(set(data_df[\"word\"].values))\n",
    "words.insert(0, \"PAD\")\n",
    "n_words = len(words)\n",
    "print(f\"Number of words = {n_words}\")"
   ]
  },
  {
   "cell_type": "code",
   "execution_count": 15,
   "metadata": {},
   "outputs": [
    {
     "name": "stdout",
     "output_type": "stream",
     "text": [
      "Number of tags = 26\n"
     ]
    }
   ],
   "source": [
    "tags = list(set(data_df[\"obj\"].values))\n",
    "tags.insert(0, \"PAD-TAG\")\n",
    "n_tags = len(tags)\n",
    "print(f\"Number of tags = {n_tags}\")"
   ]
  },
  {
   "cell_type": "markdown",
   "metadata": {},
   "source": [
    "### Data Loader"
   ]
  },
  {
   "cell_type": "code",
   "execution_count": 16,
   "metadata": {},
   "outputs": [],
   "source": [
    "class LoadData(Dataset):\n",
    "    \n",
    "    def __init__(self, data):\n",
    "        self.data = data\n",
    "        \n",
    "        agg_func = lambda x: [(w, t) for w, t in zip(x['word'].values.tolist(), x['obj'].values.tolist())]\n",
    "        \n",
    "        self.grouped_data = self.data.groupby('doc_id').apply(agg_func)\n",
    "        self.sentences = [x for x in self.grouped_data]\n",
    "        \n",
    "    def __getitem__(self, index):\n",
    "        return self.sentences[index]\n",
    "        \n",
    "    def __len__ (self):\n",
    "        return len(self.X_data)\n",
    "\n",
    "    \n",
    "\n",
    "\n",
    "class TrainData(Dataset):\n",
    "    \n",
    "    def __init__(self, X_data, y_data, maxlen):\n",
    "        self.X_data = X_data\n",
    "        self.y_data = y_data\n",
    "        self.maxlen = maxlen\n",
    "        \n",
    "        \n",
    "    def __getitem__(self, index):\n",
    "        self.X_data[index] = self.pad_data(self.X_data[index])\n",
    "        self.y_data[index] = self.pad_data(self.y_data[index])\n",
    "\n",
    "        return self.X_data[index], self.y_data[index]\n",
    "        \n",
    "    def __len__ (self):\n",
    "        return len(self.X_data)\n",
    "    \n",
    "    def pad_data(self, s):\n",
    "        padded = np.zeros((self.maxlen,), dtype=np.int64)\n",
    "        \n",
    "        if len(s) > self.maxlen:\n",
    "            padded[:] = s[:self.maxlen]\n",
    "        else: \n",
    "            padded[:len(s)] = s\n",
    "        return padded\n",
    "\n",
    "    \n",
    "class TestData(Dataset):\n",
    "    \n",
    "    def __init__(self, X_data, y_data, maxlen):\n",
    "        self.X_data = X_data\n",
    "        self.y_data = y_data\n",
    "        self.maxlen = maxlen\n",
    "        \n",
    "    def __getitem__(self, index):\n",
    "        self.X_data[index] = self.pad_data(self.X_data[index])\n",
    "        self.y_data[index] = self.pad_data(self.y_data[index])\n",
    "        return self.X_data[index], self.y_data[index]\n",
    "        \n",
    "    def __len__ (self):\n",
    "        return len(self.X_data)\n",
    "    \n",
    "    def pad_data(self, s):\n",
    "        padded = np.zeros((self.maxlen,), dtype=np.int64)\n",
    "\n",
    "        if len(s) > self.maxlen:\n",
    "            padded[:] = s[:self.maxlen]\n",
    "        else: \n",
    "            padded[:len(s)] = s\n",
    "        return padded\n"
   ]
  },
  {
   "cell_type": "code",
   "execution_count": 17,
   "metadata": {},
   "outputs": [],
   "source": [
    "loaded_data = LoadData(data_df)"
   ]
  },
  {
   "cell_type": "markdown",
   "metadata": {},
   "source": [
    "### Extract Sentences"
   ]
  },
  {
   "cell_type": "code",
   "execution_count": 18,
   "metadata": {},
   "outputs": [],
   "source": [
    "sentence_tag_list = loaded_data.sentences"
   ]
  },
  {
   "cell_type": "markdown",
   "metadata": {},
   "source": [
    "### Number of words per sentence."
   ]
  },
  {
   "cell_type": "code",
   "execution_count": 19,
   "metadata": {},
   "outputs": [
    {
     "data": {
      "image/png": "[encoded data removed]",
      "text/plain": [
       "<Figure size 432x288 with 1 Axes>"
      ]
     },
     "metadata": {},
     "output_type": "display_data"
    }
   ],
   "source": [
    "plt.hist([len(s) for s in sentence_tag_list], bins=20)\n",
    "plt.show()"
   ]
  },
  {
   "cell_type": "markdown",
   "metadata": {},
   "source": [
    "Majority of the sentences have 250 words per sentence. So, we'll set the limit for max words as 250. Each sentence will be padded or stripped down to maintain 250 words."
   ]
  },
  {
   "cell_type": "markdown",
   "metadata": {},
   "source": [
    "### Create word/tag to id dictionary."
   ]
  },
  {
   "cell_type": "code",
   "execution_count": 20,
   "metadata": {},
   "outputs": [],
   "source": [
    "word2idx = {w: i for i, w in enumerate(words)}\n",
    "tag2idx = {t: i for i, t in enumerate(tags)}"
   ]
  },
  {
   "cell_type": "code",
   "execution_count": 21,
   "metadata": {},
   "outputs": [
    {
     "name": "stdout",
     "output_type": "stream",
     "text": [
      "ID for the word 'variations' in the dictionary is: 1444\n",
      "ID for the tag 'O' in the dictionary is: 25\n"
     ]
    }
   ],
   "source": [
    "print(f\"ID for the word 'variations' in the dictionary is: {word2idx['variations']}\")\n",
    "print(f\"ID for the tag 'O' in the dictionary is: {tag2idx['O']}\")"
   ]
  },
  {
   "cell_type": "markdown",
   "metadata": {},
   "source": [
    "### Encode sentences."
   ]
  },
  {
   "cell_type": "code",
   "execution_count": 22,
   "metadata": {},
   "outputs": [],
   "source": [
    "X = [[word2idx[w[0]] for w in s] for s in sentence_tag_list]"
   ]
  },
  {
   "cell_type": "markdown",
   "metadata": {},
   "source": [
    "### Encode tags."
   ]
  },
  {
   "cell_type": "code",
   "execution_count": 23,
   "metadata": {},
   "outputs": [],
   "source": [
    "y = [[tag2idx[w[1]] for w in s] for s in sentence_tag_list]"
   ]
  },
  {
   "cell_type": "markdown",
   "metadata": {},
   "source": [
    "### Split data into train and test sets."
   ]
  },
  {
   "cell_type": "code",
   "execution_count": 24,
   "metadata": {},
   "outputs": [],
   "source": [
    "X_train, X_test, y_train, y_test = train_test_split(X, y, test_size=0.1)"
   ]
  },
  {
   "cell_type": "markdown",
   "metadata": {},
   "source": [
    "### Define NN architecture."
   ]
  },
  {
   "cell_type": "code",
   "execution_count": 25,
   "metadata": {},
   "outputs": [],
   "source": [
    "EMBEDDING_SIZE = 128\n",
    "HIDDEN_SIZE = 128\n",
    "LEARNING_RATE = 0.01\n",
    "EPOCHS = 100\n",
    "STACKED_LAYERS = 2\n",
    "SENTENCE_LEN = 256\n",
    "BATCH_SIZE = 32"
   ]
  },
  {
   "cell_type": "code",
   "execution_count": 26,
   "metadata": {},
   "outputs": [],
   "source": [
    "train_data = TrainData(X_train, y_train, maxlen = SENTENCE_LEN)\n",
    "train_loader = DataLoader(train_data, batch_size=BATCH_SIZE)\n",
    "\n",
    "test_data = TestData(X_test, y_test, maxlen = SENTENCE_LEN)\n",
    "test_loader = DataLoader(test_data, batch_size=1)"
   ]
  },
  {
   "cell_type": "code",
   "execution_count": 27,
   "metadata": {},
   "outputs": [],
   "source": [
    "class BiLSTMtagger(nn.Module):\n",
    "    \n",
    "    def __init__(self, embedding_size, vocab_size, hidden_size, target_size):\n",
    "        super(BiLSTMtagger, self).__init__()\n",
    "        \n",
    "        self.word_embeddings = nn.Embedding(num_embeddings = vocab_size, embedding_dim = embedding_size)\n",
    "        self.lstm = nn.LSTM(input_size = embedding_size, hidden_size=hidden_size, batch_first = True, num_layers = STACKED_LAYERS, bidirectional=True)\n",
    "        self.linear = nn.Linear(in_features = hidden_size*2, out_features=target_size)\n",
    "\n",
    "    def forward(self, sentence):\n",
    "        embeds = self.word_embeddings(sentence)\n",
    "        lstm_out, _ = self.lstm(embeds)\n",
    "        linear_out = self.linear(lstm_out)\n",
    "        y_out = F.log_softmax(linear_out, dim=1)\n",
    "        return y_out"
   ]
  },
  {
   "cell_type": "code",
   "execution_count": 28,
   "metadata": {},
   "outputs": [
    {
     "name": "stdout",
     "output_type": "stream",
     "text": [
      "tensor([[8277, 7424,   92,  ...,    0,    0,    0],\n",
      "        [6361, 6811, 8651,  ...,    0,    0,    0],\n",
      "        [7715, 4156, 6287,  ...,    0,    0,    0],\n",
      "        ...,\n",
      "        [8791, 5384, 3043,  ..., 9665, 5384, 1236],\n",
      "        [1120, 1524, 9172,  ...,    0,    0,    0],\n",
      "        [ 266, 4218, 4261,  ...,    0,    0,    0]])\n",
      "tensor([[11, 15,  7,  ...,  0,  0,  0],\n",
      "        [11,  4, 15,  ...,  0,  0,  0],\n",
      "        [25,  7, 15,  ...,  0,  0,  0],\n",
      "        ...,\n",
      "        [25, 25, 17,  ..., 23, 25, 25],\n",
      "        [11,  4, 11,  ...,  0,  0,  0],\n",
      "        [14,  5,  4,  ...,  0,  0,  0]])\n"
     ]
    }
   ],
   "source": [
    "tl = iter(train_loader)\n",
    "i, j = next(tl)\n",
    "print(i)\n",
    "print(j)"
   ]
  },
  {
   "cell_type": "code",
   "execution_count": 30,
   "metadata": {},
   "outputs": [
    {
     "name": "stdout",
     "output_type": "stream",
     "text": [
      "BiLSTMtagger(\n",
      "  (word_embeddings): Embedding(9745, 128)\n",
      "  (lstm): LSTM(128, 128, num_layers=2, batch_first=True, bidirectional=True)\n",
      "  (linear): Linear(in_features=256, out_features=26, bias=True)\n",
      ")\n"
     ]
    }
   ],
   "source": [
    "model = BiLSTMtagger(embedding_size=EMBEDDING_SIZE, vocab_size=len(word2idx), hidden_size=HIDDEN_SIZE, target_size=len(tag2idx))\n",
    "print(model)\n",
    "criterion = nn.NLLLoss()\n",
    "optimizer = optim.Adam(model.parameters(), lr = LEARNING_RATE)"
   ]
  },
  {
   "cell_type": "markdown",
   "metadata": {},
   "source": [
    "### Check out the output from the model"
   ]
  },
  {
   "cell_type": "code",
   "execution_count": 31,
   "metadata": {},
   "outputs": [
    {
     "name": "stdout",
     "output_type": "stream",
     "text": [
      "Input:\n",
      "tensor([[8277, 7424,   92,  ...,    0,    0,    0],\n",
      "        [6361, 6811, 8651,  ...,    0,    0,    0],\n",
      "        [7715, 4156, 6287,  ...,    0,    0,    0],\n",
      "        ...,\n",
      "        [8791, 5384, 3043,  ..., 9665, 5384, 1236],\n",
      "        [1120, 1524, 9172,  ...,    0,    0,    0],\n",
      "        [ 266, 4218, 4261,  ...,    0,    0,    0]])\n",
      "\n",
      "Output:\n",
      "tensor([[[-5.5750, -5.5416, -5.5585,  ..., -5.5459, -5.5389, -5.5064],\n",
      "         [-5.5800, -5.5302, -5.5684,  ..., -5.5455, -5.5301, -5.5205],\n",
      "         [-5.5757, -5.5283, -5.5804,  ..., -5.5263, -5.5287, -5.5271],\n",
      "         ...,\n",
      "         [-5.5657, -5.6052, -5.5779,  ..., -5.5248, -5.5371, -5.5364],\n",
      "         [-5.5642, -5.6011, -5.5714,  ..., -5.5305, -5.5354, -5.5296],\n",
      "         [-5.5561, -5.5958, -5.5585,  ..., -5.5358, -5.5328, -5.5124]],\n",
      "\n",
      "        [[-5.5311, -5.5024, -5.5127,  ..., -5.5883, -5.5833, -5.5133],\n",
      "         [-5.5421, -5.5004, -5.5255,  ..., -5.5827, -5.5714, -5.5197],\n",
      "         [-5.5507, -5.5130, -5.5296,  ..., -5.5619, -5.5400, -5.5342],\n",
      "         ...,\n",
      "         [-5.5635, -5.5929, -5.5626,  ..., -5.5314, -5.5331, -5.5446],\n",
      "         [-5.5620, -5.5889, -5.5561,  ..., -5.5370, -5.5314, -5.5378],\n",
      "         [-5.5539, -5.5835, -5.5433,  ..., -5.5424, -5.5288, -5.5206]],\n",
      "\n",
      "        [[-5.5591, -5.4951, -5.4844,  ..., -5.5663, -5.5364, -5.5765],\n",
      "         [-5.5533, -5.4849, -5.5127,  ..., -5.5746, -5.5488, -5.5515],\n",
      "         [-5.5578, -5.4789, -5.5287,  ..., -5.5801, -5.5575, -5.5497],\n",
      "         ...,\n",
      "         [-5.5602, -5.5838, -5.5602,  ..., -5.5334, -5.5388, -5.5418],\n",
      "         [-5.5587, -5.5797, -5.5537,  ..., -5.5391, -5.5372, -5.5350],\n",
      "         [-5.5506, -5.5744, -5.5409,  ..., -5.5444, -5.5345, -5.5178]],\n",
      "\n",
      "        ...,\n",
      "\n",
      "        [[-5.5615, -5.5706, -5.5400,  ..., -5.5533, -5.5907, -5.5555],\n",
      "         [-5.5393, -5.5563, -5.5159,  ..., -5.5655, -5.5870, -5.5790],\n",
      "         [-5.5299, -5.5376, -5.5431,  ..., -5.5854, -5.5861, -5.5509],\n",
      "         ...,\n",
      "         [-5.5539, -5.5490, -5.5039,  ..., -5.5412, -5.5290, -5.5409],\n",
      "         [-5.5468, -5.5517, -5.4954,  ..., -5.5450, -5.5431, -5.5500],\n",
      "         [-5.5382, -5.5565, -5.5107,  ..., -5.5342, -5.5327, -5.5281]],\n",
      "\n",
      "        [[-5.5245, -5.5405, -5.5377,  ..., -5.5576, -5.5609, -5.5251],\n",
      "         [-5.5194, -5.5251, -5.5465,  ..., -5.5496, -5.5559, -5.5287],\n",
      "         [-5.5343, -5.5502, -5.5634,  ..., -5.5708, -5.5423, -5.5368],\n",
      "         ...,\n",
      "         [-5.5765, -5.6272, -5.5888,  ..., -5.5122, -5.5442, -5.5388],\n",
      "         [-5.5750, -5.6232, -5.5823,  ..., -5.5179, -5.5426, -5.5320],\n",
      "         [-5.5669, -5.6178, -5.5694,  ..., -5.5232, -5.5399, -5.5148]],\n",
      "\n",
      "        [[-5.5552, -5.5465, -5.5518,  ..., -5.5569, -5.5352, -5.5420],\n",
      "         [-5.5374, -5.5197, -5.5525,  ..., -5.5307, -5.5389, -5.5298],\n",
      "         [-5.5460, -5.5319, -5.5611,  ..., -5.5406, -5.5649, -5.5340],\n",
      "         ...,\n",
      "         [-5.5696, -5.6096, -5.5728,  ..., -5.5226, -5.5293, -5.5514],\n",
      "         [-5.5681, -5.6055, -5.5663,  ..., -5.5283, -5.5277, -5.5447],\n",
      "         [-5.5600, -5.6002, -5.5534,  ..., -5.5336, -5.5250, -5.5274]]]) torch.Size([32, 256, 26])\n",
      "\n",
      "Output Indices:\n",
      "tensor([[ 95,  81,  85, 114,   5,  44, 255, 191, 185, 144, 156,  96, 118, 117,\n",
      "         186,  20, 253,  17, 250, 156,  84, 184,  94, 187, 133, 177],\n",
      "        [ 27,   7,  90, 130,  71,  24, 100, 142, 131, 128,  55,  90,  90,  65,\n",
      "         132,  32, 253, 105, 250,  70, 122, 129,  41,  84, 104,  68],\n",
      "        [ 71,   6,  20, 114,  11,  15,  12, 127, 115,  34, 250,  70,  35,  59,\n",
      "         115,  97, 253,  89, 250,  47,  43, 116,  27, 114,  28, 108],\n",
      "        [207, 196, 113, 203,  46, 167,  45, 227, 221, 217, 250, 100, 137,  91,\n",
      "         218, 143, 126, 216, 250, 204,  24, 221, 142, 170, 178, 102],\n",
      "        [106, 141, 133, 143, 166, 102, 255, 195, 193, 188, 176, 161, 171, 175,\n",
      "         192, 101, 253,  52, 250, 134, 184, 189,  50, 191,  30, 156],\n",
      "        [ 70, 168,  47,  22, 160, 134, 255, 195, 184,   7, 127,  72,  63, 150,\n",
      "         189,  21, 253, 124,  84,   5,  91, 182,  28, 185,  36,  57],\n",
      "        [137,  63, 115, 171,  86, 141,  11, 212, 196,   9,  34, 129, 118,  77,\n",
      "         196,  52, 253,  47, 250,   1,  97, 198, 135, 195,  80, 127],\n",
      "        [ 71,  26,  23, 230,  49, 157, 209, 209, 109, 238, 163,  64, 136, 203,\n",
      "          19, 239, 244,  30, 239, 104, 161, 251,  91,  49,  94, 189],\n",
      "        [ 63,  13,  37, 153, 156,  54,  88, 176, 161, 159, 250, 127,  10,  74,\n",
      "         161, 113, 253, 157, 250, 143,  87, 160,  56, 161, 109,  71],\n",
      "        [ 24,  72,  11,  52,  60,  79,   6, 110, 146, 116,  48,  49, 111, 192,\n",
      "         126,  80, 175,  46,  71, 220, 159,   1, 222, 157,  61, 139],\n",
      "        [113, 200, 175,  83, 100, 133,  93, 230, 222, 219,  82,   5,  15, 109,\n",
      "         222,  93, 253,  95, 250,  59,  64, 223,  23, 223,  38,  24],\n",
      "        [192, 249, 118, 214,  52, 152, 125,  60, 171, 198, 231,  32,  96,  71,\n",
      "          27,  32, 116, 118, 137,  98, 176, 160, 182,  37, 243,  62],\n",
      "        [ 80,  87, 100, 132, 108,  82,  89, 142, 132, 130,  20,  12,  11,  84,\n",
      "         134,  40, 253, 124, 250, 106,  14, 132,  31, 131,   3,   6],\n",
      "        [ 85, 146,  82, 218,  96,  55, 255, 228, 221, 137, 210, 125,  88, 203,\n",
      "         219, 202, 253, 133, 250,  73, 197, 221, 107,  96, 123, 127],\n",
      "        [163, 241, 104, 118, 242, 121,  68, 255, 253, 211, 207,  22,  14, 156,\n",
      "         252,  45, 255,  57, 193, 102, 216, 127, 193, 227, 181, 114],\n",
      "        [123, 205, 163,  15, 131, 110, 129, 231, 218, 102,  98, 135,  44, 103,\n",
      "         218, 124, 253,  55, 250, 171, 150, 219,  72, 159,  50,  64],\n",
      "        [113,  65, 113, 119,  92,  16, 133, 216, 236,  69, 250, 184, 112,  94,\n",
      "         210, 114, 253, 202,  71,   9, 163, 211, 131, 144,  93,  60],\n",
      "        [ 32, 105,  40,  60,   2, 134, 255, 157, 234,  84,  95,  48,  63,  71,\n",
      "         152,   8, 253,   5, 250,  30, 141, 151,  56, 153,  14, 129],\n",
      "        [ 63, 162,  85,  68,  58,  35,   6, 184, 172, 168,  68,  40, 124,  37,\n",
      "         173,  76, 253,  51, 250,  85, 145, 173,  74, 130,  56, 116],\n",
      "        [132, 117, 115,  90,  30, 154,  35, 174, 166, 162, 149,  75,  10, 154,\n",
      "         164, 132, 253, 159, 250,  30, 106, 165, 148, 165,  45,  93],\n",
      "        [110,  93,  56,  91,  11, 146,   7, 164, 155, 101, 250, 128,  60,  63,\n",
      "         153, 109, 253, 146, 103,  46,  21, 154,  90, 155,  33, 100],\n",
      "        [ 37,   8,   2,  82,  69,  45,  62, 119, 108, 104,  24,  29,  15,  23,\n",
      "         107,  97, 253,  98, 250,  14,  16, 107,  32,  92,  60,  91],\n",
      "        [ 27, 200, 156,  77, 112,  82, 255, 219, 210, 206,  90, 165, 137, 163,\n",
      "         206,  11, 253, 151, 250,  49,  95, 207,  38, 208, 125, 164],\n",
      "        [ 87, 234,  63, 123, 100, 234, 153, 107, 166,  91, 188, 169, 199, 195,\n",
      "         196,  16,   9,  64, 113, 170,  63,  89, 189, 166, 210, 225],\n",
      "        [ 61, 153,  79, 134,  13,  10,  48, 208, 199,  40, 117, 185,   2, 151,\n",
      "         199, 135, 253,  15, 250, 180, 194, 200,  35, 199,  90,  23],\n",
      "        [183, 197, 142, 216, 176,  58, 154, 228, 217, 154,  47, 143,  75, 151,\n",
      "         151,  16, 253,   3,  12,  19,  78, 217,  47, 218, 180, 161],\n",
      "        [182,  74, 112,  35, 105, 136,  65, 240, 233,  31, 111, 113, 131,  31,\n",
      "         231,  83, 253, 107, 250, 219,  97, 234,  54, 232, 231, 117],\n",
      "        [ 69,  10,  10, 168,  82,  50, 132,  84, 253, 188, 187, 116,   9, 241,\n",
      "          37, 102, 255, 199, 227,  80,  32, 158, 109, 172,  91, 187],\n",
      "        [ 79, 112, 195,  23,   8, 137, 170, 226, 216, 215,  61,  15, 211,  81,\n",
      "         124,  41, 253,  53,  26,  43,  77, 220, 196, 169,  38, 211],\n",
      "        [176, 167, 232,  54, 184, 178, 102, 104, 165, 137, 135, 141, 227,  29,\n",
      "         189,  47, 250,  37, 121, 103, 170, 235, 253, 106, 128, 212],\n",
      "        [204,  23,  95, 107, 162,  38,  43, 235, 222,  55,  30, 119,  94, 176,\n",
      "         223, 108, 253, 178, 250,  14,  18, 221,  47, 149,  91, 124],\n",
      "        [ 67,  26, 175, 167, 160,  42,  32, 196, 234, 186, 168,  51, 255, 139,\n",
      "         190,  17, 253,  20, 250,  37,  20, 188,  51, 191, 108,  95]])\n",
      "\n",
      "Actual Output:\n",
      "tensor([[11, 15,  7,  ...,  0,  0,  0],\n",
      "        [11,  4, 15,  ...,  0,  0,  0],\n",
      "        [25,  7, 15,  ...,  0,  0,  0],\n",
      "        ...,\n",
      "        [25, 25, 17,  ..., 23, 25, 25],\n",
      "        [11,  4, 11,  ...,  0,  0,  0],\n",
      "        [14,  5,  4,  ...,  0,  0,  0]]) torch.Size([32, 256])\n",
      "==================================================\n"
     ]
    }
   ],
   "source": [
    "with torch.no_grad():\n",
    "    for x_batch, y_batch in train_loader:\n",
    "               \n",
    "        print(\"Input:\")\n",
    "        print(x_batch)\n",
    "        y_out = model(x_batch)\n",
    "        _, y_out_tags = torch.max(y_out.squeeze(), dim = 1)\n",
    "        \n",
    "        print(\"\\nOutput:\")\n",
    "        print(y_out, y_out.shape)\n",
    "        \n",
    "        print(\"\\nOutput Indices:\")\n",
    "        print(y_out_tags)\n",
    "\n",
    "        print(\"\\nActual Output:\")\n",
    "        print(y_batch, y_batch.shape)\n",
    "        \n",
    "        print(\"=\" * 50)\n",
    "        \n",
    "        break"
   ]
  },
  {
   "cell_type": "markdown",
   "metadata": {},
   "source": [
    "### Train the model."
   ]
  },
  {
   "cell_type": "code",
   "execution_count": 32,
   "metadata": {},
   "outputs": [
    {
     "data": {
      "text/plain": [
       "8"
      ]
     },
     "execution_count": 32,
     "metadata": {},
     "output_type": "execute_result"
    }
   ],
   "source": [
    "PRINT_EVERY = int(len(X_train)/BATCH_SIZE) + 1\n",
    "PRINT_EVERY"
   ]
  },
  {
   "cell_type": "code",
   "execution_count": 33,
   "metadata": {},
   "outputs": [
    {
     "name": "stdout",
     "output_type": "stream",
     "text": [
      "Training Started.\n",
      "Epoch 1/100 : loss = 0.6938315629959106\n",
      "Epoch 2/100 : loss = 0.5922373533248901\n",
      "Epoch 3/100 : loss = 0.5522947907447815\n",
      "Epoch 4/100 : loss = 0.5253260731697083\n",
      "Epoch 5/100 : loss = 0.5089988112449646\n",
      "Epoch 6/100 : loss = 0.5005860924720764\n",
      "Epoch 7/100 : loss = 0.4971710741519928\n",
      "Epoch 8/100 : loss = 0.4959542453289032\n",
      "Epoch 9/100 : loss = 0.4956064224243164\n",
      "Epoch 10/100 : loss = 0.494571715593338\n",
      "Epoch 11/100 : loss = 0.494111567735672\n",
      "Epoch 12/100 : loss = 0.49378764629364014\n",
      "Epoch 13/100 : loss = 0.4937548041343689\n",
      "Epoch 14/100 : loss = 0.4935363233089447\n",
      "Epoch 15/100 : loss = 0.49351248145103455\n",
      "Epoch 16/100 : loss = 0.49334245920181274\n",
      "Epoch 17/100 : loss = 0.49325984716415405\n",
      "Epoch 18/100 : loss = 0.49328678846359253\n",
      "Epoch 19/100 : loss = 0.4932219982147217\n",
      "Epoch 20/100 : loss = 0.4931919574737549\n",
      "Epoch 21/100 : loss = 0.49322566390037537\n",
      "Epoch 22/100 : loss = 0.4931907057762146\n",
      "Epoch 23/100 : loss = 0.4931611716747284\n",
      "Epoch 24/100 : loss = 0.493291437625885\n",
      "Epoch 25/100 : loss = 0.49333396553993225\n",
      "Epoch 26/100 : loss = 0.4932691156864166\n",
      "Epoch 27/100 : loss = 0.49331215023994446\n",
      "Epoch 28/100 : loss = 0.4932941794395447\n",
      "Epoch 29/100 : loss = 0.49323931336402893\n",
      "Epoch 30/100 : loss = 0.4931628108024597\n",
      "Epoch 31/100 : loss = 0.4931403696537018\n",
      "Epoch 32/100 : loss = 0.4931356608867645\n",
      "Epoch 33/100 : loss = 0.4931281507015228\n",
      "Epoch 34/100 : loss = 0.4931130111217499\n",
      "Epoch 35/100 : loss = 0.49310609698295593\n",
      "Epoch 36/100 : loss = 0.4930981993675232\n",
      "Epoch 37/100 : loss = 0.49310293793678284\n",
      "Epoch 38/100 : loss = 0.4930984079837799\n",
      "Epoch 39/100 : loss = 0.4930914640426636\n",
      "Epoch 40/100 : loss = 0.4930904805660248\n",
      "Epoch 41/100 : loss = 0.4930992126464844\n",
      "Epoch 42/100 : loss = 0.4931112229824066\n",
      "Epoch 43/100 : loss = 0.49309951066970825\n",
      "Epoch 44/100 : loss = 0.49311283230781555\n",
      "Epoch 45/100 : loss = 0.49312010407447815\n",
      "Epoch 46/100 : loss = 0.49311041831970215\n",
      "Epoch 47/100 : loss = 0.4931468665599823\n",
      "Epoch 48/100 : loss = 0.4931291937828064\n",
      "Epoch 49/100 : loss = 0.4931415021419525\n",
      "Epoch 50/100 : loss = 0.4931432604789734\n",
      "Epoch 51/100 : loss = 0.4931056797504425\n",
      "Epoch 52/100 : loss = 0.4931219816207886\n",
      "Epoch 53/100 : loss = 0.4931181073188782\n",
      "Epoch 54/100 : loss = 0.4930990934371948\n",
      "Epoch 55/100 : loss = 0.4930877983570099\n",
      "Epoch 56/100 : loss = 0.4930900037288666\n",
      "Epoch 57/100 : loss = 0.49309042096138\n",
      "Epoch 58/100 : loss = 0.4930892884731293\n",
      "Epoch 59/100 : loss = 0.49309056997299194\n",
      "Epoch 60/100 : loss = 0.49309706687927246\n",
      "Epoch 61/100 : loss = 0.49309444427490234\n",
      "Epoch 62/100 : loss = 0.49307936429977417\n",
      "Epoch 63/100 : loss = 0.4930746555328369\n",
      "Epoch 64/100 : loss = 0.49308276176452637\n",
      "Epoch 65/100 : loss = 0.4930814802646637\n",
      "Epoch 66/100 : loss = 0.49308067560195923\n",
      "Epoch 67/100 : loss = 0.4930880069732666\n",
      "Epoch 68/100 : loss = 0.4930931329727173\n",
      "Epoch 69/100 : loss = 0.4930804371833801\n",
      "Epoch 70/100 : loss = 0.49309828877449036\n",
      "Epoch 71/100 : loss = 0.49311256408691406\n",
      "Epoch 72/100 : loss = 0.4930991232395172\n",
      "Epoch 73/100 : loss = 0.4931005835533142\n",
      "Epoch 74/100 : loss = 0.49308717250823975\n",
      "Epoch 75/100 : loss = 0.493082731962204\n",
      "Epoch 76/100 : loss = 0.49307936429977417\n",
      "Epoch 77/100 : loss = 0.49308255314826965\n",
      "Epoch 78/100 : loss = 0.49308156967163086\n",
      "Epoch 79/100 : loss = 0.4930691123008728\n",
      "Epoch 80/100 : loss = 0.4930724799633026\n",
      "Epoch 81/100 : loss = 0.4930824637413025\n",
      "Epoch 82/100 : loss = 0.4930773377418518\n",
      "Epoch 83/100 : loss = 0.4930735230445862\n",
      "Epoch 84/100 : loss = 0.4930722117424011\n",
      "Epoch 85/100 : loss = 0.49306949973106384\n",
      "Epoch 86/100 : loss = 0.49307096004486084\n",
      "Epoch 87/100 : loss = 0.49306589365005493\n",
      "Epoch 88/100 : loss = 0.49306100606918335\n",
      "Epoch 89/100 : loss = 0.49306535720825195\n",
      "Epoch 90/100 : loss = 0.4930720329284668\n",
      "Epoch 91/100 : loss = 0.4930640757083893\n",
      "Epoch 92/100 : loss = 0.4930650293827057\n",
      "Epoch 93/100 : loss = 0.49306342005729675\n",
      "Epoch 94/100 : loss = 0.49306121468544006\n",
      "Epoch 95/100 : loss = 0.4930596649646759\n",
      "Epoch 96/100 : loss = 0.49306538701057434\n",
      "Epoch 97/100 : loss = 0.4930667281150818\n",
      "Epoch 98/100 : loss = 0.49306508898735046\n",
      "Epoch 99/100 : loss = 0.49306565523147583\n",
      "Epoch 100/100 : loss = 0.4930678904056549\n",
      "Training Completed.\n"
     ]
    }
   ],
   "source": [
    "print(\"Training Started.\")\n",
    "loss_list = []\n",
    "for e in range(1, EPOCHS+1):\n",
    "    model.train()\n",
    "    running_loss = 0.0\n",
    "    \n",
    "#     for x_batch, y_batch in train_loader:\n",
    "    for i, data in enumerate(train_loader):    \n",
    "        x_batch, y_batch = data\n",
    "        \n",
    "        model.zero_grad()\n",
    "        \n",
    "        y_pred = model(x_batch)\n",
    "        y_batch = y_batch.view(-1)\n",
    "        y_pred = y_pred.view(-1, len(tag2idx))\n",
    "\n",
    "        loss = criterion(y_pred, y_batch)\n",
    "        loss.backward()\n",
    "        optimizer.step()\n",
    "        \n",
    "        _, y_pred_tags = torch.max(y_pred.squeeze(), dim = 1)\n",
    "        \n",
    "        running_loss += loss.item()\n",
    "        \n",
    "        \n",
    "        if (i % PRINT_EVERY == 0):\n",
    "            loss_list.append(running_loss/PRINT_EVERY)\n",
    "            print(f'Epoch {e}/{EPOCHS} : loss = {running_loss/PRINT_EVERY}')\n",
    "        \n",
    "print(\"Training Completed.\")"
   ]
  },
  {
   "cell_type": "markdown",
   "metadata": {},
   "source": [
    "### Train Acc and Val Acc."
   ]
  },
  {
   "cell_type": "code",
   "execution_count": 34,
   "metadata": {},
   "outputs": [
    {
     "data": {
      "image/png": "[encoded data removed]",
      "text/plain": [
       "<Figure size 432x288 with 1 Axes>"
      ]
     },
     "metadata": {},
     "output_type": "display_data"
    }
   ],
   "source": [
    "import matplotlib.pyplot as plt\n",
    "\n",
    "plt.plot(loss_list, c=\"blue\", label =\"Loss\")\n",
    "plt.xlabel(\"Epochs\")\n",
    "plt.ylabel(\"Value\")\n",
    "plt.legend()\n",
    "plt.show()\n"
   ]
  },
  {
   "cell_type": "markdown",
   "metadata": {},
   "source": [
    "### Classification Metrics."
   ]
  },
  {
   "cell_type": "code",
   "execution_count": 35,
   "metadata": {},
   "outputs": [
    {
     "name": "stdout",
     "output_type": "stream",
     "text": [
      "              precision    recall  f1-score   support\n",
      "\n",
      "           0       1.00      1.00      1.00      1084\n",
      "           1       0.83      0.88      0.85        88\n",
      "           2       0.56      0.93      0.70        15\n",
      "           3       0.93      0.66      0.77       152\n",
      "           4       0.95      0.84      0.89       108\n",
      "           5       0.99      0.78      0.87       209\n",
      "           6       0.46      0.89      0.61        19\n",
      "           7       0.98      0.86      0.92       140\n",
      "           8       1.00      0.95      0.97       132\n",
      "           9       0.06      0.75      0.10         8\n",
      "          10       0.21      0.93      0.35        14\n",
      "          11       0.60      0.53      0.56       160\n",
      "          12       0.96      1.00      0.98        54\n",
      "          13       0.72      0.82      0.77        44\n",
      "          14       0.44      0.78      0.56        32\n",
      "          15       1.00      0.87      0.93       211\n",
      "          16       0.90      1.00      0.95        46\n",
      "          17       0.24      0.79      0.37        14\n",
      "          18       0.00      0.00      0.00         0\n",
      "          19       0.13      0.57      0.22        14\n",
      "          20       0.29      0.76      0.42        21\n",
      "          21       1.00      1.00      1.00       314\n",
      "          22       0.01      1.00      0.02         1\n",
      "          23       0.98      0.88      0.93       191\n",
      "          24       0.71      0.83      0.76        64\n",
      "          25       0.98      0.87      0.92      3265\n",
      "\n",
      "    accuracy                           0.88      6400\n",
      "   macro avg       0.65      0.81      0.67      6400\n",
      "weighted avg       0.95      0.88      0.91      6400\n",
      "\n"
     ]
    },
    {
     "name": "stderr",
     "output_type": "stream",
     "text": [
      "/home/akshaj/anaconda3/envs/nlp/lib/python3.6/site-packages/sklearn/metrics/classification.py:1439: UndefinedMetricWarning: Recall and F-score are ill-defined and being set to 0.0 in labels with no true samples.\n",
      "  'recall', 'true', average, warn_for)\n",
      "/home/akshaj/anaconda3/envs/nlp/lib/python3.6/site-packages/sklearn/metrics/classification.py:1439: UndefinedMetricWarning: Recall and F-score are ill-defined and being set to 0.0 in labels with no true samples.\n",
      "  'recall', 'true', average, warn_for)\n",
      "/home/akshaj/anaconda3/envs/nlp/lib/python3.6/site-packages/sklearn/metrics/classification.py:1439: UndefinedMetricWarning: Recall and F-score are ill-defined and being set to 0.0 in labels with no true samples.\n",
      "  'recall', 'true', average, warn_for)\n"
     ]
    }
   ],
   "source": [
    "y_out_tags_list = []\n",
    "with torch.no_grad():\n",
    "    for x_batch, y_batch in test_loader: \n",
    "        y_out = model(x_batch)\n",
    "        _, y_out_tags = torch.max(y_out.squeeze(), dim = 1)\n",
    "        y_out_tags = np.array(y_out_tags)\n",
    "        y_out_tags_list.append(y_out_tags)\n",
    "        \n",
    "        \n",
    "print(metrics.flat_classification_report(y_test, y_out_tags_list))"
   ]
  },
  {
   "cell_type": "markdown",
   "metadata": {},
   "source": [
    "### Try out the model"
   ]
  },
  {
   "cell_type": "code",
   "execution_count": 36,
   "metadata": {},
   "outputs": [],
   "source": [
    "testl = iter(test_loader)"
   ]
  },
  {
   "cell_type": "code",
   "execution_count": 37,
   "metadata": {},
   "outputs": [
    {
     "name": "stdout",
     "output_type": "stream",
     "text": [
      "Word                      : Pred           : Actual\n",
      "\n",
      "'A                        : O              : O'\n",
      "'rare                     : O              : O'\n",
      "'DNA                      : O              : O'\n",
      "'contact                  : O              : O'\n",
      "'mutation                 : B-Var          : B-Var'\n",
      "'in                       : I-Reg          : I-Reg'\n",
      "'cancer                   : B-Disease      : B-Disease'\n",
      "'confers                  : B-Enzyme       : B-PosReg'\n",
      "'p53                      : B-Gene         : B-Gene'\n",
      "'gain-of-function         : B-PosReg       : B-PosReg'\n",
      "'and                      : O              : O'\n",
      "'tumor                    : B-Disease      : B-Disease'\n",
      "'cell                     : B-CPA          : B-CPA'\n",
      "'survival                 : I-CPA          : I-CPA'\n",
      "'via                      : O              : O'\n",
      "'TNFAIP8                  : I-Enzyme       : B-Gene'\n",
      "'induction                : O              : O'\n",
      "'The                      : O              : O'\n",
      "'p53                      : B-Gene         : B-Gene'\n",
      "'tumor                    : B-Disease      : B-Disease'\n",
      "'suppressor               : O              : O'\n",
      "'gene                     : I-Gene         : I-Gene'\n",
      "'encodes                  : O              : O'\n",
      "'a                        : O              : O'\n",
      "'sequence-specific        : I-PosReg       : O'\n",
      "'transcription            : B-MPA          : B-MPA'\n",
      "'factor                   : O              : O'\n",
      "'Mutations                : B-Var          : B-Var'\n",
      "'in                       : I-Reg          : I-Reg'\n",
      "'the                      : O              : O'\n",
      "'coding                   : O              : O'\n",
      "'sequence                 : O              : O'\n",
      "'of                       : O              : O'\n",
      "'p53                      : B-Gene         : B-Gene'\n",
      "'occur                    : O              : O'\n",
      "'frequently               : O              : O'\n",
      "'in                       : I-Reg          : I-Reg'\n",
      "'human                    : B-CPA          : B-CPA'\n",
      "'cancer                   : B-Disease      : B-Disease'\n",
      "'and                      : O              : O'\n",
      "'often                    : O              : O'\n",
      "'result                   : B-Reg          : B-Reg'\n",
      "'in                       : I-Reg          : I-Reg'\n",
      "'single                   : B-Var          : B-Var'\n",
      "'amino                    : O              : O'\n",
      "'acid                     : I-MPA          : I-MPA'\n",
      "'substitutions            : I-PosReg       : I-Var'\n",
      "'(missense                : O              : O'\n",
      "'mutations)               : O              : O'\n",
      "'in                       : I-Reg          : I-Reg'\n",
      "'the                      : O              : O'\n",
      "'DNA                      : O              : O'\n",
      "'binding                  : B-Interaction  : B-Interaction'\n",
      "'domain                   : I-MPA          : I-MPA'\n",
      "'(DBD)                    : O              : O'\n",
      "'blocking                 : B-Protein      : B-NegReg'\n",
      "'normal                   : B-Pathway      : B-Pathway'\n",
      "'tumor                    : B-Disease      : B-Disease'\n",
      "'suppressive              : O              : O'\n",
      "'functions                : I-MPA          : I-MPA'\n",
      "'In                       : O              : O'\n",
      "'addition                 : O              : O'\n",
      "'to                       : I-Reg          : I-Reg'\n",
      "'the                      : O              : O'\n",
      "'loss                     : B-NegReg       : B-NegReg'\n",
      "'of                       : O              : O'\n",
      "'canonical                : O              : O'\n",
      "'functions                : I-MPA          : I-MPA'\n",
      "'some                     : O              : O'\n",
      "'missense                 : I-NegReg       : B-Var'\n",
      "'mutations                : B-Var          : B-Var'\n",
      "'in                       : I-Reg          : I-Reg'\n",
      "'p53                      : B-Gene         : B-Gene'\n",
      "'confer                   : B-Protein      : B-PosReg'\n",
      "'gain-of-function         : B-PosReg       : B-PosReg'\n",
      "'(GOF)                    : O              : O'\n",
      "'activities               : B-MPA          : B-MPA'\n",
      "'to                       : I-Reg          : I-Reg'\n",
      "'tumor                    : B-Disease      : B-Disease'\n",
      "'cells                    : B-CPA          : B-CPA'\n",
      "'While                    : O              : O'\n",
      "'many                     : O              : O'\n",
      "'missense                 : I-NegReg       : B-Var'\n",
      "'mutations                : B-Var          : B-Var'\n",
      "'in                       : I-Reg          : I-Reg'\n",
      "'p53                      : B-Gene         : B-Gene'\n",
      "'cluster                  : O              : O'\n",
      "'at                       : O              : O'\n",
      "'six                      : O              : O'\n",
      "'\"hotspot\"                : O              : O'\n",
      "'amino                    : O              : O'\n",
      "'acids                    : O              : O'\n",
      "'the                      : O              : O'\n",
      "'majority                 : O              : O'\n",
      "'of                       : O              : O'\n",
      "'mutations                : B-Var          : B-Var'\n",
      "'in                       : I-Reg          : I-Reg'\n",
      "'human                    : B-CPA          : B-CPA'\n",
      "'cancer                   : B-Disease      : B-Disease'\n",
      "'occur                    : O              : O'\n",
      "'elsewhere                : B-Enzyme       : O'\n",
      "'in                       : I-Reg          : I-Reg'\n",
      "'the                      : O              : O'\n",
      "'DBD                      : B-Enzyme       : O'\n",
      "'and                      : O              : O'\n",
      "'at                       : O              : O'\n",
      "'a                        : O              : O'\n",
      "'much                     : O              : O'\n",
      "'lower                    : B-NegReg       : B-NegReg'\n",
      "'frequency                : O              : O'\n",
      "'We                       : O              : O'\n",
      "'report                   : O              : O'\n",
      "'here                     : O              : O'\n",
      "'that                     : O              : O'\n",
      "'mutations                : B-Var          : B-Var'\n",
      "'at                       : O              : O'\n",
      "'K120                     : I-Pathway      : O'\n",
      "'a                        : O              : O'\n",
      "'non-hotspot              : I-Disease      : O'\n",
      "'DNA                      : O              : O'\n",
      "'contact                  : O              : O'\n",
      "'residue                  : O              : O'\n",
      "'confer                   : B-Protein      : B-PosReg'\n",
      "'p53                      : B-Gene         : B-Gene'\n",
      "'with                     : I-Interaction  : I-Interaction'\n",
      "'the                      : O              : O'\n",
      "'previously               : O              : O'\n",
      "'unrecognized             : B-Enzyme       : O'\n",
      "'ability                  : B-MPA          : B-MPA'\n",
      "'to                       : I-Reg          : I-Reg'\n",
      "'bind                     : I-Protein      : B-Interaction'\n",
      "'and                      : O              : O'\n",
      "'activate                 : B-PosReg       : B-PosReg'\n",
      "'the                      : O              : O'\n",
      "'transcription            : B-MPA          : B-MPA'\n",
      "'of                       : O              : O'\n",
      "'the                      : O              : O'\n",
      "'pro-survival             : O              : O'\n",
      "'TNFAIP8                  : I-Enzyme       : B-Gene'\n",
      "'gene                     : I-Gene         : I-Gene'\n",
      "'Mutant                   : B-Var          : B-Var'\n",
      "'K120                     : B-Protein      : O'\n",
      "'p53                      : B-Gene         : B-Gene'\n",
      "'binds                    : O              : O'\n",
      "'the                      : O              : O'\n",
      "'TNFAIP8                  : I-Enzyme       : B-Gene'\n",
      "'locus                    : O              : O'\n",
      "'at                       : O              : O'\n",
      "'a                        : O              : O'\n",
      "'cryptic                  : O              : O'\n",
      "'p53                      : B-Gene         : B-Gene'\n",
      "'response                 : B-MPA          : B-MPA'\n",
      "'element                  : O              : O'\n",
      "'that                     : O              : O'\n",
      "'is                       : O              : O'\n",
      "'not                      : B-NegReg       : B-NegReg'\n",
      "'occupied                 : I-Disease      : O'\n",
      "'by                       : I-Reg          : I-Reg'\n",
      "'wild-type                : O              : O'\n",
      "'p53                      : B-Gene         : B-Gene'\n",
      "'Furthermore              : O              : O'\n",
      "'induction                : I-Enzyme       : O'\n",
      "'of                       : O              : O'\n",
      "'TNFAIP8                  : I-Enzyme       : B-Gene'\n",
      "'is                       : O              : O'\n",
      "'critical                 : B-MPA          : B-MPA'\n",
      "'for                      : O              : O'\n",
      "'the                      : O              : O'\n",
      "'evasion                  : O              : O'\n",
      "'of                       : O              : O'\n",
      "'apoptosis                : B-CPA          : B-CPA'\n",
      "'by                       : I-Reg          : I-Reg'\n",
      "'tumor                    : B-Disease      : B-Disease'\n",
      "'cells                    : B-CPA          : B-CPA'\n",
      "'expressing               : O              : O'\n",
      "'the                      : O              : O'\n",
      "'K120R                    : I-NegReg       : O'\n",
      "'variant                  : I-Var          : I-Var'\n",
      "'of                       : O              : O'\n",
      "'p53                      : B-Gene         : B-Gene'\n",
      "'These                    : O              : O'\n",
      "'findings                 : O              : O'\n",
      "'identify                 : O              : O'\n",
      "'induction                : I-PosReg       : O'\n",
      "'of                       : O              : O'\n",
      "'pro-survival             : O              : O'\n",
      "'targets                  : O              : O'\n",
      "'as                       : O              : O'\n",
      "'a                        : O              : O'\n",
      "'mechanism                : O              : O'\n",
      "'of                       : O              : O'\n",
      "'gain-of-function         : B-PosReg       : B-PosReg'\n",
      "'activity                 : I-CPA          : I-CPA'\n",
      "'for                      : O              : O'\n",
      "'mutant                   : B-Var          : B-Var'\n",
      "'p53                      : B-Gene         : B-Gene'\n",
      "'and                      : O              : O'\n",
      "'will                     : O              : O'\n",
      "'likely                   : O              : O'\n",
      "'broaden                  : I-Enzyme       : O'\n",
      "'our                      : O              : O'\n",
      "'understanding            : O              : O'\n",
      "'of                       : O              : O'\n",
      "'this                     : O              : O'\n",
      "'phenomenon               : O              : O'\n",
      "'beyond                   : O              : O'\n",
      "'the                      : O              : O'\n",
      "'limited                  : O              : O'\n",
      "'number                   : I-MPA          : I-MPA'\n",
      "'of                       : O              : O'\n",
      "'GOF                      : B-PosReg       : B-PosReg'\n",
      "'activities               : B-MPA          : B-MPA'\n",
      "'currently                : O              : O'\n",
      "'reported                 : B-Reg          : B-Reg'\n",
      "'for                      : O              : O'\n",
      "'hotspot                  : O              : O'\n",
      "'mutants                  : B-Var          : B-Var'\n",
      "'PAD                      : PAD-TAG        : PAD-TAG'\n",
      "'PAD                      : PAD-TAG        : PAD-TAG'\n",
      "'PAD                      : PAD-TAG        : PAD-TAG'\n",
      "'PAD                      : PAD-TAG        : PAD-TAG'\n",
      "'PAD                      : PAD-TAG        : PAD-TAG'\n",
      "'PAD                      : PAD-TAG        : PAD-TAG'\n",
      "'PAD                      : PAD-TAG        : PAD-TAG'\n",
      "'PAD                      : PAD-TAG        : PAD-TAG'\n",
      "'PAD                      : PAD-TAG        : PAD-TAG'\n",
      "'PAD                      : PAD-TAG        : PAD-TAG'\n",
      "'PAD                      : PAD-TAG        : PAD-TAG'\n",
      "'PAD                      : PAD-TAG        : PAD-TAG'\n",
      "'PAD                      : PAD-TAG        : PAD-TAG'\n",
      "'PAD                      : PAD-TAG        : PAD-TAG'\n",
      "'PAD                      : PAD-TAG        : PAD-TAG'\n",
      "'PAD                      : PAD-TAG        : PAD-TAG'\n",
      "'PAD                      : PAD-TAG        : PAD-TAG'\n",
      "'PAD                      : PAD-TAG        : PAD-TAG'\n",
      "'PAD                      : PAD-TAG        : PAD-TAG'\n",
      "'PAD                      : PAD-TAG        : PAD-TAG'\n",
      "'PAD                      : PAD-TAG        : PAD-TAG'\n",
      "'PAD                      : PAD-TAG        : PAD-TAG'\n",
      "'PAD                      : PAD-TAG        : PAD-TAG'\n",
      "'PAD                      : PAD-TAG        : PAD-TAG'\n",
      "'PAD                      : PAD-TAG        : PAD-TAG'\n",
      "'PAD                      : PAD-TAG        : PAD-TAG'\n",
      "'PAD                      : PAD-TAG        : PAD-TAG'\n",
      "'PAD                      : PAD-TAG        : PAD-TAG'\n",
      "'PAD                      : PAD-TAG        : PAD-TAG'\n",
      "'PAD                      : PAD-TAG        : PAD-TAG'\n",
      "'PAD                      : PAD-TAG        : PAD-TAG'\n",
      "'PAD                      : PAD-TAG        : PAD-TAG'\n",
      "'PAD                      : PAD-TAG        : PAD-TAG'\n",
      "'PAD                      : PAD-TAG        : PAD-TAG'\n",
      "'PAD                      : PAD-TAG        : PAD-TAG'\n",
      "'PAD                      : PAD-TAG        : PAD-TAG'\n",
      "'PAD                      : PAD-TAG        : PAD-TAG'\n",
      "'PAD                      : PAD-TAG        : PAD-TAG'\n",
      "'PAD                      : PAD-TAG        : PAD-TAG'\n"
     ]
    }
   ],
   "source": [
    "with torch.no_grad():\n",
    "    x_batch, y_batch = next(testl)\n",
    "    y_pred = model(x_batch)\n",
    "    \n",
    "    _, y_pred = torch.max(y_pred.squeeze(), 1)\n",
    "    x_batch = x_batch.squeeze()\n",
    "    y_batch = y_batch.squeeze()\n",
    "    \n",
    "    print('{:26}: {:15}: {}\\n'.format(\"Word\", \"Pred\", \"Actual\"))\n",
    "    \n",
    "    for w, pred, actual in zip(x_batch, y_pred, y_batch):\n",
    "        pprint(\"{:25}: {:15}: {}\".format(words[w.item()], tags[pred], tags[actual.item()]))"
   ]
  },
  {
   "cell_type": "code",
   "execution_count": null,
   "metadata": {},
   "outputs": [],
   "source": []
  }
 ],
 "metadata": {
  "kernelspec": {
   "display_name": "Python 3",
   "language": "python",
   "name": "python3"
  },
  "language_info": {
   "codemirror_mode": {
    "name": "ipython",
    "version": 3
   },
   "file_extension": ".py",
   "mimetype": "text/x-python",
   "name": "python",
   "nbconvert_exporter": "python",
   "pygments_lexer": "ipython3",
   "version": "3.6.8"
  }
 },
 "nbformat": 4,
 "nbformat_minor": 2
}
